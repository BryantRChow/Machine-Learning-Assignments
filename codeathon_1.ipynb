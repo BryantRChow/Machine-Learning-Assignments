{
  "nbformat": 4,
  "nbformat_minor": 0,
  "metadata": {
    "colab": {
      "provenance": [],
      "collapsed_sections": []
    },
    "kernelspec": {
      "name": "python3",
      "display_name": "Python 3"
    },
    "language_info": {
      "name": "python"
    }
  },
  "cells": [
    {
      "cell_type": "markdown",
      "metadata": {
        "id": "-Y4F-zuUGsq8"
      },
      "source": [
        "# Assignment 1: Comparison of Regression Models on Housing Prices in Boston, MA"
      ]
    },
    {
      "cell_type": "markdown",
      "metadata": {
        "id": "MZ85ee69G7m0"
      },
      "source": [
        "### CS 4774 Machine Learning - Department of Computer Science - University of Virginia\n",
        "![(Image Credit Boston.gov)](https://miro.medium.com/max/1000/1*WYZCnpM7bE3Wq4NNxx7jDA.jpeg)\n",
        "\n",
        "In this assignment, you will practice the 8 steps of an end-to-end ML project in the context of a **regression** problem in the [Ames Housing Dataset on Kaggle](https://www.kaggle.com/competitions/house-prices-advanced-regression-techniques/data) (Image Credit: Boston.gov). You will attempt to predict the housing prices in Ames, Iowa. For references, you may refer to my slides or the Google Colab if you need additional sample codes to help with your assignment. To get started, you will need to upload/copy the dataset (.csv) into the same Colab workspace. \n",
        "\n",
        "For deliverables, you must write code in Colab and submit the downloaded Jupyter Notebook file (.ipynb) to earn a total of 50 pts. You will gain points depending on how you perform in the following sections.\n",
        "\n",
        "*BONUS POINTS:* 10 bonus points will be given (as Extra credits) for those who score among the top-10 performance while following strictly the assignment guidelines. Best of luck to all!"
      ]
    },
    {
      "cell_type": "markdown",
      "metadata": {
        "id": "nXPheacSXZ2V"
      },
      "source": [
        "## Step 1: Big Picture and Setup\n",
        "Write a paragraph explaining the context of the problem in which you are trying to investigate. Your paragraph may frame the problem and objectives by answering the following questions:\n",
        "* What is the task: regression, classification, clustering, visualization?\n",
        "* What to expect, how to use, and how to benefit from this model?\n",
        "* What performance measure to evaluate?\n",
        "* How much data is available or should be collected?\n",
        "* What learning algorithm to be used?\n",
        "* How much effort is to be spent?\n",
        "* Verify the assumptions that have been made about the context"
      ]
    },
    {
      "cell_type": "markdown",
      "source": [
        "**Context of the problem** <br>\n",
        "The purpose of this project is to create a regression model in order to predict the sale price of a home based on the home's features. The model is expected to be able to learn from the details of a home to create an accurate price prediction; this could be beneficial because home owners because they would have an idea of what range to list their home for sale. Also, people looking to buy a home would have an idea of an acceptable price for a potential home. <br>\n",
        "To evaluate how accurate the model's predictions are compared to the test set, mean absolute error and root mean squared error will be used, which are common error evaluators for regression models. The data available includes 80 features which include details such as location, size, amount of rooms, age, utilities, year sold, sale price, and more. There are about 1461 data entries. For this task, a random forest regressor algorithm will be used. This project will be made within 10 days. This project was made with the assumption that any user would want a scalar value prediction for the value of a home."
      ],
      "metadata": {
        "id": "gLLfeVX1qD25"
      }
    },
    {
      "cell_type": "code",
      "source": [],
      "metadata": {
        "id": "bqWBbTDi5dg2"
      },
      "execution_count": 146,
      "outputs": []
    },
    {
      "cell_type": "markdown",
      "metadata": {
        "id": "A3N7qDVRXuNa"
      },
      "source": [
        "## Step 2: Load the Data\n",
        "We will assume that the data file is put into the same workspace on Colab. Then, you can write some code to load the CSV file and take a quick look at the dataset, and output the following:\n",
        "\n",
        " * How big is your dataset? (in terms of MB)\n",
        " * How many entries does it have?\n",
        " * How many features does it have?\n",
        " * Does it contain any categorical data?\n",
        " * Is there any missing values?\n",
        " * What are some basic statistics you can learn right away about this dataset?"
      ]
    },
    {
      "cell_type": "code",
      "metadata": {
        "id": "3Y4uclsoGRcM"
      },
      "source": [
        "import pandas as pd\n",
        "\n",
        "# To help you get started, a load function is provided below. \n",
        "# You will need to fill in the code under #TODO to make it work.\n",
        "def loadBostonHousingData():\n",
        "  # The column names are adopted from the dataset page on Kaggle   \n",
        "  housing = pd.read_csv('train.csv')\n",
        "  return housing\n",
        "\n",
        "# Call the function to load your dataset here\n",
        "housing  = pd.read_csv(\"train.csv\")"
      ],
      "execution_count": 147,
      "outputs": []
    },
    {
      "cell_type": "code",
      "source": [
        "#The dataset has 79 actual features and the sale price\n",
        "housing.head()"
      ],
      "metadata": {
        "colab": {
          "base_uri": "https://localhost:8080/",
          "height": 299
        },
        "id": "eVwxaOWNuO2m",
        "outputId": "fc7bb84f-0eac-41ae-803d-a7538d8e64e6"
      },
      "execution_count": 148,
      "outputs": [
        {
          "output_type": "execute_result",
          "data": {
            "text/plain": [
              "   Id  MSSubClass MSZoning  LotFrontage  LotArea Street Alley LotShape  \\\n",
              "0   1          60       RL         65.0     8450   Pave   NaN      Reg   \n",
              "1   2          20       RL         80.0     9600   Pave   NaN      Reg   \n",
              "2   3          60       RL         68.0    11250   Pave   NaN      IR1   \n",
              "3   4          70       RL         60.0     9550   Pave   NaN      IR1   \n",
              "4   5          60       RL         84.0    14260   Pave   NaN      IR1   \n",
              "\n",
              "  LandContour Utilities  ... PoolArea PoolQC Fence MiscFeature MiscVal MoSold  \\\n",
              "0         Lvl    AllPub  ...        0    NaN   NaN         NaN       0      2   \n",
              "1         Lvl    AllPub  ...        0    NaN   NaN         NaN       0      5   \n",
              "2         Lvl    AllPub  ...        0    NaN   NaN         NaN       0      9   \n",
              "3         Lvl    AllPub  ...        0    NaN   NaN         NaN       0      2   \n",
              "4         Lvl    AllPub  ...        0    NaN   NaN         NaN       0     12   \n",
              "\n",
              "  YrSold  SaleType  SaleCondition  SalePrice  \n",
              "0   2008        WD         Normal     208500  \n",
              "1   2007        WD         Normal     181500  \n",
              "2   2008        WD         Normal     223500  \n",
              "3   2006        WD        Abnorml     140000  \n",
              "4   2008        WD         Normal     250000  \n",
              "\n",
              "[5 rows x 81 columns]"
            ],
            "text/html": [
              "\n",
              "  <div id=\"df-888ca7e1-2feb-4410-8883-a6db75f20ba2\">\n",
              "    <div class=\"colab-df-container\">\n",
              "      <div>\n",
              "<style scoped>\n",
              "    .dataframe tbody tr th:only-of-type {\n",
              "        vertical-align: middle;\n",
              "    }\n",
              "\n",
              "    .dataframe tbody tr th {\n",
              "        vertical-align: top;\n",
              "    }\n",
              "\n",
              "    .dataframe thead th {\n",
              "        text-align: right;\n",
              "    }\n",
              "</style>\n",
              "<table border=\"1\" class=\"dataframe\">\n",
              "  <thead>\n",
              "    <tr style=\"text-align: right;\">\n",
              "      <th></th>\n",
              "      <th>Id</th>\n",
              "      <th>MSSubClass</th>\n",
              "      <th>MSZoning</th>\n",
              "      <th>LotFrontage</th>\n",
              "      <th>LotArea</th>\n",
              "      <th>Street</th>\n",
              "      <th>Alley</th>\n",
              "      <th>LotShape</th>\n",
              "      <th>LandContour</th>\n",
              "      <th>Utilities</th>\n",
              "      <th>...</th>\n",
              "      <th>PoolArea</th>\n",
              "      <th>PoolQC</th>\n",
              "      <th>Fence</th>\n",
              "      <th>MiscFeature</th>\n",
              "      <th>MiscVal</th>\n",
              "      <th>MoSold</th>\n",
              "      <th>YrSold</th>\n",
              "      <th>SaleType</th>\n",
              "      <th>SaleCondition</th>\n",
              "      <th>SalePrice</th>\n",
              "    </tr>\n",
              "  </thead>\n",
              "  <tbody>\n",
              "    <tr>\n",
              "      <th>0</th>\n",
              "      <td>1</td>\n",
              "      <td>60</td>\n",
              "      <td>RL</td>\n",
              "      <td>65.0</td>\n",
              "      <td>8450</td>\n",
              "      <td>Pave</td>\n",
              "      <td>NaN</td>\n",
              "      <td>Reg</td>\n",
              "      <td>Lvl</td>\n",
              "      <td>AllPub</td>\n",
              "      <td>...</td>\n",
              "      <td>0</td>\n",
              "      <td>NaN</td>\n",
              "      <td>NaN</td>\n",
              "      <td>NaN</td>\n",
              "      <td>0</td>\n",
              "      <td>2</td>\n",
              "      <td>2008</td>\n",
              "      <td>WD</td>\n",
              "      <td>Normal</td>\n",
              "      <td>208500</td>\n",
              "    </tr>\n",
              "    <tr>\n",
              "      <th>1</th>\n",
              "      <td>2</td>\n",
              "      <td>20</td>\n",
              "      <td>RL</td>\n",
              "      <td>80.0</td>\n",
              "      <td>9600</td>\n",
              "      <td>Pave</td>\n",
              "      <td>NaN</td>\n",
              "      <td>Reg</td>\n",
              "      <td>Lvl</td>\n",
              "      <td>AllPub</td>\n",
              "      <td>...</td>\n",
              "      <td>0</td>\n",
              "      <td>NaN</td>\n",
              "      <td>NaN</td>\n",
              "      <td>NaN</td>\n",
              "      <td>0</td>\n",
              "      <td>5</td>\n",
              "      <td>2007</td>\n",
              "      <td>WD</td>\n",
              "      <td>Normal</td>\n",
              "      <td>181500</td>\n",
              "    </tr>\n",
              "    <tr>\n",
              "      <th>2</th>\n",
              "      <td>3</td>\n",
              "      <td>60</td>\n",
              "      <td>RL</td>\n",
              "      <td>68.0</td>\n",
              "      <td>11250</td>\n",
              "      <td>Pave</td>\n",
              "      <td>NaN</td>\n",
              "      <td>IR1</td>\n",
              "      <td>Lvl</td>\n",
              "      <td>AllPub</td>\n",
              "      <td>...</td>\n",
              "      <td>0</td>\n",
              "      <td>NaN</td>\n",
              "      <td>NaN</td>\n",
              "      <td>NaN</td>\n",
              "      <td>0</td>\n",
              "      <td>9</td>\n",
              "      <td>2008</td>\n",
              "      <td>WD</td>\n",
              "      <td>Normal</td>\n",
              "      <td>223500</td>\n",
              "    </tr>\n",
              "    <tr>\n",
              "      <th>3</th>\n",
              "      <td>4</td>\n",
              "      <td>70</td>\n",
              "      <td>RL</td>\n",
              "      <td>60.0</td>\n",
              "      <td>9550</td>\n",
              "      <td>Pave</td>\n",
              "      <td>NaN</td>\n",
              "      <td>IR1</td>\n",
              "      <td>Lvl</td>\n",
              "      <td>AllPub</td>\n",
              "      <td>...</td>\n",
              "      <td>0</td>\n",
              "      <td>NaN</td>\n",
              "      <td>NaN</td>\n",
              "      <td>NaN</td>\n",
              "      <td>0</td>\n",
              "      <td>2</td>\n",
              "      <td>2006</td>\n",
              "      <td>WD</td>\n",
              "      <td>Abnorml</td>\n",
              "      <td>140000</td>\n",
              "    </tr>\n",
              "    <tr>\n",
              "      <th>4</th>\n",
              "      <td>5</td>\n",
              "      <td>60</td>\n",
              "      <td>RL</td>\n",
              "      <td>84.0</td>\n",
              "      <td>14260</td>\n",
              "      <td>Pave</td>\n",
              "      <td>NaN</td>\n",
              "      <td>IR1</td>\n",
              "      <td>Lvl</td>\n",
              "      <td>AllPub</td>\n",
              "      <td>...</td>\n",
              "      <td>0</td>\n",
              "      <td>NaN</td>\n",
              "      <td>NaN</td>\n",
              "      <td>NaN</td>\n",
              "      <td>0</td>\n",
              "      <td>12</td>\n",
              "      <td>2008</td>\n",
              "      <td>WD</td>\n",
              "      <td>Normal</td>\n",
              "      <td>250000</td>\n",
              "    </tr>\n",
              "  </tbody>\n",
              "</table>\n",
              "<p>5 rows × 81 columns</p>\n",
              "</div>\n",
              "      <button class=\"colab-df-convert\" onclick=\"convertToInteractive('df-888ca7e1-2feb-4410-8883-a6db75f20ba2')\"\n",
              "              title=\"Convert this dataframe to an interactive table.\"\n",
              "              style=\"display:none;\">\n",
              "        \n",
              "  <svg xmlns=\"http://www.w3.org/2000/svg\" height=\"24px\"viewBox=\"0 0 24 24\"\n",
              "       width=\"24px\">\n",
              "    <path d=\"M0 0h24v24H0V0z\" fill=\"none\"/>\n",
              "    <path d=\"M18.56 5.44l.94 2.06.94-2.06 2.06-.94-2.06-.94-.94-2.06-.94 2.06-2.06.94zm-11 1L8.5 8.5l.94-2.06 2.06-.94-2.06-.94L8.5 2.5l-.94 2.06-2.06.94zm10 10l.94 2.06.94-2.06 2.06-.94-2.06-.94-.94-2.06-.94 2.06-2.06.94z\"/><path d=\"M17.41 7.96l-1.37-1.37c-.4-.4-.92-.59-1.43-.59-.52 0-1.04.2-1.43.59L10.3 9.45l-7.72 7.72c-.78.78-.78 2.05 0 2.83L4 21.41c.39.39.9.59 1.41.59.51 0 1.02-.2 1.41-.59l7.78-7.78 2.81-2.81c.8-.78.8-2.07 0-2.86zM5.41 20L4 18.59l7.72-7.72 1.47 1.35L5.41 20z\"/>\n",
              "  </svg>\n",
              "      </button>\n",
              "      \n",
              "  <style>\n",
              "    .colab-df-container {\n",
              "      display:flex;\n",
              "      flex-wrap:wrap;\n",
              "      gap: 12px;\n",
              "    }\n",
              "\n",
              "    .colab-df-convert {\n",
              "      background-color: #E8F0FE;\n",
              "      border: none;\n",
              "      border-radius: 50%;\n",
              "      cursor: pointer;\n",
              "      display: none;\n",
              "      fill: #1967D2;\n",
              "      height: 32px;\n",
              "      padding: 0 0 0 0;\n",
              "      width: 32px;\n",
              "    }\n",
              "\n",
              "    .colab-df-convert:hover {\n",
              "      background-color: #E2EBFA;\n",
              "      box-shadow: 0px 1px 2px rgba(60, 64, 67, 0.3), 0px 1px 3px 1px rgba(60, 64, 67, 0.15);\n",
              "      fill: #174EA6;\n",
              "    }\n",
              "\n",
              "    [theme=dark] .colab-df-convert {\n",
              "      background-color: #3B4455;\n",
              "      fill: #D2E3FC;\n",
              "    }\n",
              "\n",
              "    [theme=dark] .colab-df-convert:hover {\n",
              "      background-color: #434B5C;\n",
              "      box-shadow: 0px 1px 3px 1px rgba(0, 0, 0, 0.15);\n",
              "      filter: drop-shadow(0px 1px 2px rgba(0, 0, 0, 0.3));\n",
              "      fill: #FFFFFF;\n",
              "    }\n",
              "  </style>\n",
              "\n",
              "      <script>\n",
              "        const buttonEl =\n",
              "          document.querySelector('#df-888ca7e1-2feb-4410-8883-a6db75f20ba2 button.colab-df-convert');\n",
              "        buttonEl.style.display =\n",
              "          google.colab.kernel.accessAllowed ? 'block' : 'none';\n",
              "\n",
              "        async function convertToInteractive(key) {\n",
              "          const element = document.querySelector('#df-888ca7e1-2feb-4410-8883-a6db75f20ba2');\n",
              "          const dataTable =\n",
              "            await google.colab.kernel.invokeFunction('convertToInteractive',\n",
              "                                                     [key], {});\n",
              "          if (!dataTable) return;\n",
              "\n",
              "          const docLinkHtml = 'Like what you see? Visit the ' +\n",
              "            '<a target=\"_blank\" href=https://colab.research.google.com/notebooks/data_table.ipynb>data table notebook</a>'\n",
              "            + ' to learn more about interactive tables.';\n",
              "          element.innerHTML = '';\n",
              "          dataTable['output_type'] = 'display_data';\n",
              "          await google.colab.output.renderOutput(dataTable, element);\n",
              "          const docLink = document.createElement('div');\n",
              "          docLink.innerHTML = docLinkHtml;\n",
              "          element.appendChild(docLink);\n",
              "        }\n",
              "      </script>\n",
              "    </div>\n",
              "  </div>\n",
              "  "
            ]
          },
          "metadata": {},
          "execution_count": 148
        }
      ]
    },
    {
      "cell_type": "code",
      "source": [
        "#The dataset is 924+ KB\n",
        "#The dataset has about 1460 entries\n",
        "#43 features have object types for categorical data.\n",
        "housing.info()"
      ],
      "metadata": {
        "colab": {
          "base_uri": "https://localhost:8080/"
        },
        "id": "tJXX4d7QuiN1",
        "outputId": "44abd4ea-b9c2-4d91-a5a6-ce25f2c25d07"
      },
      "execution_count": 149,
      "outputs": [
        {
          "output_type": "stream",
          "name": "stdout",
          "text": [
            "<class 'pandas.core.frame.DataFrame'>\n",
            "RangeIndex: 1460 entries, 0 to 1459\n",
            "Data columns (total 81 columns):\n",
            " #   Column         Non-Null Count  Dtype  \n",
            "---  ------         --------------  -----  \n",
            " 0   Id             1460 non-null   int64  \n",
            " 1   MSSubClass     1460 non-null   int64  \n",
            " 2   MSZoning       1460 non-null   object \n",
            " 3   LotFrontage    1201 non-null   float64\n",
            " 4   LotArea        1460 non-null   int64  \n",
            " 5   Street         1460 non-null   object \n",
            " 6   Alley          91 non-null     object \n",
            " 7   LotShape       1460 non-null   object \n",
            " 8   LandContour    1460 non-null   object \n",
            " 9   Utilities      1460 non-null   object \n",
            " 10  LotConfig      1460 non-null   object \n",
            " 11  LandSlope      1460 non-null   object \n",
            " 12  Neighborhood   1460 non-null   object \n",
            " 13  Condition1     1460 non-null   object \n",
            " 14  Condition2     1460 non-null   object \n",
            " 15  BldgType       1460 non-null   object \n",
            " 16  HouseStyle     1460 non-null   object \n",
            " 17  OverallQual    1460 non-null   int64  \n",
            " 18  OverallCond    1460 non-null   int64  \n",
            " 19  YearBuilt      1460 non-null   int64  \n",
            " 20  YearRemodAdd   1460 non-null   int64  \n",
            " 21  RoofStyle      1460 non-null   object \n",
            " 22  RoofMatl       1460 non-null   object \n",
            " 23  Exterior1st    1460 non-null   object \n",
            " 24  Exterior2nd    1460 non-null   object \n",
            " 25  MasVnrType     1452 non-null   object \n",
            " 26  MasVnrArea     1452 non-null   float64\n",
            " 27  ExterQual      1460 non-null   object \n",
            " 28  ExterCond      1460 non-null   object \n",
            " 29  Foundation     1460 non-null   object \n",
            " 30  BsmtQual       1423 non-null   object \n",
            " 31  BsmtCond       1423 non-null   object \n",
            " 32  BsmtExposure   1422 non-null   object \n",
            " 33  BsmtFinType1   1423 non-null   object \n",
            " 34  BsmtFinSF1     1460 non-null   int64  \n",
            " 35  BsmtFinType2   1422 non-null   object \n",
            " 36  BsmtFinSF2     1460 non-null   int64  \n",
            " 37  BsmtUnfSF      1460 non-null   int64  \n",
            " 38  TotalBsmtSF    1460 non-null   int64  \n",
            " 39  Heating        1460 non-null   object \n",
            " 40  HeatingQC      1460 non-null   object \n",
            " 41  CentralAir     1460 non-null   object \n",
            " 42  Electrical     1459 non-null   object \n",
            " 43  1stFlrSF       1460 non-null   int64  \n",
            " 44  2ndFlrSF       1460 non-null   int64  \n",
            " 45  LowQualFinSF   1460 non-null   int64  \n",
            " 46  GrLivArea      1460 non-null   int64  \n",
            " 47  BsmtFullBath   1460 non-null   int64  \n",
            " 48  BsmtHalfBath   1460 non-null   int64  \n",
            " 49  FullBath       1460 non-null   int64  \n",
            " 50  HalfBath       1460 non-null   int64  \n",
            " 51  BedroomAbvGr   1460 non-null   int64  \n",
            " 52  KitchenAbvGr   1460 non-null   int64  \n",
            " 53  KitchenQual    1460 non-null   object \n",
            " 54  TotRmsAbvGrd   1460 non-null   int64  \n",
            " 55  Functional     1460 non-null   object \n",
            " 56  Fireplaces     1460 non-null   int64  \n",
            " 57  FireplaceQu    770 non-null    object \n",
            " 58  GarageType     1379 non-null   object \n",
            " 59  GarageYrBlt    1379 non-null   float64\n",
            " 60  GarageFinish   1379 non-null   object \n",
            " 61  GarageCars     1460 non-null   int64  \n",
            " 62  GarageArea     1460 non-null   int64  \n",
            " 63  GarageQual     1379 non-null   object \n",
            " 64  GarageCond     1379 non-null   object \n",
            " 65  PavedDrive     1460 non-null   object \n",
            " 66  WoodDeckSF     1460 non-null   int64  \n",
            " 67  OpenPorchSF    1460 non-null   int64  \n",
            " 68  EnclosedPorch  1460 non-null   int64  \n",
            " 69  3SsnPorch      1460 non-null   int64  \n",
            " 70  ScreenPorch    1460 non-null   int64  \n",
            " 71  PoolArea       1460 non-null   int64  \n",
            " 72  PoolQC         7 non-null      object \n",
            " 73  Fence          281 non-null    object \n",
            " 74  MiscFeature    54 non-null     object \n",
            " 75  MiscVal        1460 non-null   int64  \n",
            " 76  MoSold         1460 non-null   int64  \n",
            " 77  YrSold         1460 non-null   int64  \n",
            " 78  SaleType       1460 non-null   object \n",
            " 79  SaleCondition  1460 non-null   object \n",
            " 80  SalePrice      1460 non-null   int64  \n",
            "dtypes: float64(3), int64(35), object(43)\n",
            "memory usage: 924.0+ KB\n"
          ]
        }
      ]
    },
    {
      "cell_type": "code",
      "source": [
        "nulls = housing.isnull().sum()\n",
        "nulls = nulls[nulls!=0]\n",
        "print(\"Features with missing values:\")\n",
        "print(nulls)"
      ],
      "metadata": {
        "colab": {
          "base_uri": "https://localhost:8080/"
        },
        "id": "0F2l6PVWsy3E",
        "outputId": "28b1c72f-5891-4243-c844-6da044e19cb6"
      },
      "execution_count": 150,
      "outputs": [
        {
          "output_type": "stream",
          "name": "stdout",
          "text": [
            "Features with missing values:\n",
            "LotFrontage      259\n",
            "Alley           1369\n",
            "MasVnrType         8\n",
            "MasVnrArea         8\n",
            "BsmtQual          37\n",
            "BsmtCond          37\n",
            "BsmtExposure      38\n",
            "BsmtFinType1      37\n",
            "BsmtFinType2      38\n",
            "Electrical         1\n",
            "FireplaceQu      690\n",
            "GarageType        81\n",
            "GarageYrBlt       81\n",
            "GarageFinish      81\n",
            "GarageQual        81\n",
            "GarageCond        81\n",
            "PoolQC          1453\n",
            "Fence           1179\n",
            "MiscFeature     1406\n",
            "dtype: int64\n"
          ]
        }
      ]
    },
    {
      "cell_type": "code",
      "source": [
        "housing.describe()"
      ],
      "metadata": {
        "colab": {
          "base_uri": "https://localhost:8080/",
          "height": 394
        },
        "id": "YCSXJ6rmxDpv",
        "outputId": "5722abf7-93cc-4c2b-8182-eb471dd49422"
      },
      "execution_count": 151,
      "outputs": [
        {
          "output_type": "execute_result",
          "data": {
            "text/plain": [
              "                Id   MSSubClass  LotFrontage        LotArea  OverallQual  \\\n",
              "count  1460.000000  1460.000000  1201.000000    1460.000000  1460.000000   \n",
              "mean    730.500000    56.897260    70.049958   10516.828082     6.099315   \n",
              "std     421.610009    42.300571    24.284752    9981.264932     1.382997   \n",
              "min       1.000000    20.000000    21.000000    1300.000000     1.000000   \n",
              "25%     365.750000    20.000000    59.000000    7553.500000     5.000000   \n",
              "50%     730.500000    50.000000    69.000000    9478.500000     6.000000   \n",
              "75%    1095.250000    70.000000    80.000000   11601.500000     7.000000   \n",
              "max    1460.000000   190.000000   313.000000  215245.000000    10.000000   \n",
              "\n",
              "       OverallCond    YearBuilt  YearRemodAdd   MasVnrArea   BsmtFinSF1  ...  \\\n",
              "count  1460.000000  1460.000000   1460.000000  1452.000000  1460.000000  ...   \n",
              "mean      5.575342  1971.267808   1984.865753   103.685262   443.639726  ...   \n",
              "std       1.112799    30.202904     20.645407   181.066207   456.098091  ...   \n",
              "min       1.000000  1872.000000   1950.000000     0.000000     0.000000  ...   \n",
              "25%       5.000000  1954.000000   1967.000000     0.000000     0.000000  ...   \n",
              "50%       5.000000  1973.000000   1994.000000     0.000000   383.500000  ...   \n",
              "75%       6.000000  2000.000000   2004.000000   166.000000   712.250000  ...   \n",
              "max       9.000000  2010.000000   2010.000000  1600.000000  5644.000000  ...   \n",
              "\n",
              "        WoodDeckSF  OpenPorchSF  EnclosedPorch    3SsnPorch  ScreenPorch  \\\n",
              "count  1460.000000  1460.000000    1460.000000  1460.000000  1460.000000   \n",
              "mean     94.244521    46.660274      21.954110     3.409589    15.060959   \n",
              "std     125.338794    66.256028      61.119149    29.317331    55.757415   \n",
              "min       0.000000     0.000000       0.000000     0.000000     0.000000   \n",
              "25%       0.000000     0.000000       0.000000     0.000000     0.000000   \n",
              "50%       0.000000    25.000000       0.000000     0.000000     0.000000   \n",
              "75%     168.000000    68.000000       0.000000     0.000000     0.000000   \n",
              "max     857.000000   547.000000     552.000000   508.000000   480.000000   \n",
              "\n",
              "          PoolArea       MiscVal       MoSold       YrSold      SalePrice  \n",
              "count  1460.000000   1460.000000  1460.000000  1460.000000    1460.000000  \n",
              "mean      2.758904     43.489041     6.321918  2007.815753  180921.195890  \n",
              "std      40.177307    496.123024     2.703626     1.328095   79442.502883  \n",
              "min       0.000000      0.000000     1.000000  2006.000000   34900.000000  \n",
              "25%       0.000000      0.000000     5.000000  2007.000000  129975.000000  \n",
              "50%       0.000000      0.000000     6.000000  2008.000000  163000.000000  \n",
              "75%       0.000000      0.000000     8.000000  2009.000000  214000.000000  \n",
              "max     738.000000  15500.000000    12.000000  2010.000000  755000.000000  \n",
              "\n",
              "[8 rows x 38 columns]"
            ],
            "text/html": [
              "\n",
              "  <div id=\"df-90b16165-9f5a-4510-b132-bc050daa797a\">\n",
              "    <div class=\"colab-df-container\">\n",
              "      <div>\n",
              "<style scoped>\n",
              "    .dataframe tbody tr th:only-of-type {\n",
              "        vertical-align: middle;\n",
              "    }\n",
              "\n",
              "    .dataframe tbody tr th {\n",
              "        vertical-align: top;\n",
              "    }\n",
              "\n",
              "    .dataframe thead th {\n",
              "        text-align: right;\n",
              "    }\n",
              "</style>\n",
              "<table border=\"1\" class=\"dataframe\">\n",
              "  <thead>\n",
              "    <tr style=\"text-align: right;\">\n",
              "      <th></th>\n",
              "      <th>Id</th>\n",
              "      <th>MSSubClass</th>\n",
              "      <th>LotFrontage</th>\n",
              "      <th>LotArea</th>\n",
              "      <th>OverallQual</th>\n",
              "      <th>OverallCond</th>\n",
              "      <th>YearBuilt</th>\n",
              "      <th>YearRemodAdd</th>\n",
              "      <th>MasVnrArea</th>\n",
              "      <th>BsmtFinSF1</th>\n",
              "      <th>...</th>\n",
              "      <th>WoodDeckSF</th>\n",
              "      <th>OpenPorchSF</th>\n",
              "      <th>EnclosedPorch</th>\n",
              "      <th>3SsnPorch</th>\n",
              "      <th>ScreenPorch</th>\n",
              "      <th>PoolArea</th>\n",
              "      <th>MiscVal</th>\n",
              "      <th>MoSold</th>\n",
              "      <th>YrSold</th>\n",
              "      <th>SalePrice</th>\n",
              "    </tr>\n",
              "  </thead>\n",
              "  <tbody>\n",
              "    <tr>\n",
              "      <th>count</th>\n",
              "      <td>1460.000000</td>\n",
              "      <td>1460.000000</td>\n",
              "      <td>1201.000000</td>\n",
              "      <td>1460.000000</td>\n",
              "      <td>1460.000000</td>\n",
              "      <td>1460.000000</td>\n",
              "      <td>1460.000000</td>\n",
              "      <td>1460.000000</td>\n",
              "      <td>1452.000000</td>\n",
              "      <td>1460.000000</td>\n",
              "      <td>...</td>\n",
              "      <td>1460.000000</td>\n",
              "      <td>1460.000000</td>\n",
              "      <td>1460.000000</td>\n",
              "      <td>1460.000000</td>\n",
              "      <td>1460.000000</td>\n",
              "      <td>1460.000000</td>\n",
              "      <td>1460.000000</td>\n",
              "      <td>1460.000000</td>\n",
              "      <td>1460.000000</td>\n",
              "      <td>1460.000000</td>\n",
              "    </tr>\n",
              "    <tr>\n",
              "      <th>mean</th>\n",
              "      <td>730.500000</td>\n",
              "      <td>56.897260</td>\n",
              "      <td>70.049958</td>\n",
              "      <td>10516.828082</td>\n",
              "      <td>6.099315</td>\n",
              "      <td>5.575342</td>\n",
              "      <td>1971.267808</td>\n",
              "      <td>1984.865753</td>\n",
              "      <td>103.685262</td>\n",
              "      <td>443.639726</td>\n",
              "      <td>...</td>\n",
              "      <td>94.244521</td>\n",
              "      <td>46.660274</td>\n",
              "      <td>21.954110</td>\n",
              "      <td>3.409589</td>\n",
              "      <td>15.060959</td>\n",
              "      <td>2.758904</td>\n",
              "      <td>43.489041</td>\n",
              "      <td>6.321918</td>\n",
              "      <td>2007.815753</td>\n",
              "      <td>180921.195890</td>\n",
              "    </tr>\n",
              "    <tr>\n",
              "      <th>std</th>\n",
              "      <td>421.610009</td>\n",
              "      <td>42.300571</td>\n",
              "      <td>24.284752</td>\n",
              "      <td>9981.264932</td>\n",
              "      <td>1.382997</td>\n",
              "      <td>1.112799</td>\n",
              "      <td>30.202904</td>\n",
              "      <td>20.645407</td>\n",
              "      <td>181.066207</td>\n",
              "      <td>456.098091</td>\n",
              "      <td>...</td>\n",
              "      <td>125.338794</td>\n",
              "      <td>66.256028</td>\n",
              "      <td>61.119149</td>\n",
              "      <td>29.317331</td>\n",
              "      <td>55.757415</td>\n",
              "      <td>40.177307</td>\n",
              "      <td>496.123024</td>\n",
              "      <td>2.703626</td>\n",
              "      <td>1.328095</td>\n",
              "      <td>79442.502883</td>\n",
              "    </tr>\n",
              "    <tr>\n",
              "      <th>min</th>\n",
              "      <td>1.000000</td>\n",
              "      <td>20.000000</td>\n",
              "      <td>21.000000</td>\n",
              "      <td>1300.000000</td>\n",
              "      <td>1.000000</td>\n",
              "      <td>1.000000</td>\n",
              "      <td>1872.000000</td>\n",
              "      <td>1950.000000</td>\n",
              "      <td>0.000000</td>\n",
              "      <td>0.000000</td>\n",
              "      <td>...</td>\n",
              "      <td>0.000000</td>\n",
              "      <td>0.000000</td>\n",
              "      <td>0.000000</td>\n",
              "      <td>0.000000</td>\n",
              "      <td>0.000000</td>\n",
              "      <td>0.000000</td>\n",
              "      <td>0.000000</td>\n",
              "      <td>1.000000</td>\n",
              "      <td>2006.000000</td>\n",
              "      <td>34900.000000</td>\n",
              "    </tr>\n",
              "    <tr>\n",
              "      <th>25%</th>\n",
              "      <td>365.750000</td>\n",
              "      <td>20.000000</td>\n",
              "      <td>59.000000</td>\n",
              "      <td>7553.500000</td>\n",
              "      <td>5.000000</td>\n",
              "      <td>5.000000</td>\n",
              "      <td>1954.000000</td>\n",
              "      <td>1967.000000</td>\n",
              "      <td>0.000000</td>\n",
              "      <td>0.000000</td>\n",
              "      <td>...</td>\n",
              "      <td>0.000000</td>\n",
              "      <td>0.000000</td>\n",
              "      <td>0.000000</td>\n",
              "      <td>0.000000</td>\n",
              "      <td>0.000000</td>\n",
              "      <td>0.000000</td>\n",
              "      <td>0.000000</td>\n",
              "      <td>5.000000</td>\n",
              "      <td>2007.000000</td>\n",
              "      <td>129975.000000</td>\n",
              "    </tr>\n",
              "    <tr>\n",
              "      <th>50%</th>\n",
              "      <td>730.500000</td>\n",
              "      <td>50.000000</td>\n",
              "      <td>69.000000</td>\n",
              "      <td>9478.500000</td>\n",
              "      <td>6.000000</td>\n",
              "      <td>5.000000</td>\n",
              "      <td>1973.000000</td>\n",
              "      <td>1994.000000</td>\n",
              "      <td>0.000000</td>\n",
              "      <td>383.500000</td>\n",
              "      <td>...</td>\n",
              "      <td>0.000000</td>\n",
              "      <td>25.000000</td>\n",
              "      <td>0.000000</td>\n",
              "      <td>0.000000</td>\n",
              "      <td>0.000000</td>\n",
              "      <td>0.000000</td>\n",
              "      <td>0.000000</td>\n",
              "      <td>6.000000</td>\n",
              "      <td>2008.000000</td>\n",
              "      <td>163000.000000</td>\n",
              "    </tr>\n",
              "    <tr>\n",
              "      <th>75%</th>\n",
              "      <td>1095.250000</td>\n",
              "      <td>70.000000</td>\n",
              "      <td>80.000000</td>\n",
              "      <td>11601.500000</td>\n",
              "      <td>7.000000</td>\n",
              "      <td>6.000000</td>\n",
              "      <td>2000.000000</td>\n",
              "      <td>2004.000000</td>\n",
              "      <td>166.000000</td>\n",
              "      <td>712.250000</td>\n",
              "      <td>...</td>\n",
              "      <td>168.000000</td>\n",
              "      <td>68.000000</td>\n",
              "      <td>0.000000</td>\n",
              "      <td>0.000000</td>\n",
              "      <td>0.000000</td>\n",
              "      <td>0.000000</td>\n",
              "      <td>0.000000</td>\n",
              "      <td>8.000000</td>\n",
              "      <td>2009.000000</td>\n",
              "      <td>214000.000000</td>\n",
              "    </tr>\n",
              "    <tr>\n",
              "      <th>max</th>\n",
              "      <td>1460.000000</td>\n",
              "      <td>190.000000</td>\n",
              "      <td>313.000000</td>\n",
              "      <td>215245.000000</td>\n",
              "      <td>10.000000</td>\n",
              "      <td>9.000000</td>\n",
              "      <td>2010.000000</td>\n",
              "      <td>2010.000000</td>\n",
              "      <td>1600.000000</td>\n",
              "      <td>5644.000000</td>\n",
              "      <td>...</td>\n",
              "      <td>857.000000</td>\n",
              "      <td>547.000000</td>\n",
              "      <td>552.000000</td>\n",
              "      <td>508.000000</td>\n",
              "      <td>480.000000</td>\n",
              "      <td>738.000000</td>\n",
              "      <td>15500.000000</td>\n",
              "      <td>12.000000</td>\n",
              "      <td>2010.000000</td>\n",
              "      <td>755000.000000</td>\n",
              "    </tr>\n",
              "  </tbody>\n",
              "</table>\n",
              "<p>8 rows × 38 columns</p>\n",
              "</div>\n",
              "      <button class=\"colab-df-convert\" onclick=\"convertToInteractive('df-90b16165-9f5a-4510-b132-bc050daa797a')\"\n",
              "              title=\"Convert this dataframe to an interactive table.\"\n",
              "              style=\"display:none;\">\n",
              "        \n",
              "  <svg xmlns=\"http://www.w3.org/2000/svg\" height=\"24px\"viewBox=\"0 0 24 24\"\n",
              "       width=\"24px\">\n",
              "    <path d=\"M0 0h24v24H0V0z\" fill=\"none\"/>\n",
              "    <path d=\"M18.56 5.44l.94 2.06.94-2.06 2.06-.94-2.06-.94-.94-2.06-.94 2.06-2.06.94zm-11 1L8.5 8.5l.94-2.06 2.06-.94-2.06-.94L8.5 2.5l-.94 2.06-2.06.94zm10 10l.94 2.06.94-2.06 2.06-.94-2.06-.94-.94-2.06-.94 2.06-2.06.94z\"/><path d=\"M17.41 7.96l-1.37-1.37c-.4-.4-.92-.59-1.43-.59-.52 0-1.04.2-1.43.59L10.3 9.45l-7.72 7.72c-.78.78-.78 2.05 0 2.83L4 21.41c.39.39.9.59 1.41.59.51 0 1.02-.2 1.41-.59l7.78-7.78 2.81-2.81c.8-.78.8-2.07 0-2.86zM5.41 20L4 18.59l7.72-7.72 1.47 1.35L5.41 20z\"/>\n",
              "  </svg>\n",
              "      </button>\n",
              "      \n",
              "  <style>\n",
              "    .colab-df-container {\n",
              "      display:flex;\n",
              "      flex-wrap:wrap;\n",
              "      gap: 12px;\n",
              "    }\n",
              "\n",
              "    .colab-df-convert {\n",
              "      background-color: #E8F0FE;\n",
              "      border: none;\n",
              "      border-radius: 50%;\n",
              "      cursor: pointer;\n",
              "      display: none;\n",
              "      fill: #1967D2;\n",
              "      height: 32px;\n",
              "      padding: 0 0 0 0;\n",
              "      width: 32px;\n",
              "    }\n",
              "\n",
              "    .colab-df-convert:hover {\n",
              "      background-color: #E2EBFA;\n",
              "      box-shadow: 0px 1px 2px rgba(60, 64, 67, 0.3), 0px 1px 3px 1px rgba(60, 64, 67, 0.15);\n",
              "      fill: #174EA6;\n",
              "    }\n",
              "\n",
              "    [theme=dark] .colab-df-convert {\n",
              "      background-color: #3B4455;\n",
              "      fill: #D2E3FC;\n",
              "    }\n",
              "\n",
              "    [theme=dark] .colab-df-convert:hover {\n",
              "      background-color: #434B5C;\n",
              "      box-shadow: 0px 1px 3px 1px rgba(0, 0, 0, 0.15);\n",
              "      filter: drop-shadow(0px 1px 2px rgba(0, 0, 0, 0.3));\n",
              "      fill: #FFFFFF;\n",
              "    }\n",
              "  </style>\n",
              "\n",
              "      <script>\n",
              "        const buttonEl =\n",
              "          document.querySelector('#df-90b16165-9f5a-4510-b132-bc050daa797a button.colab-df-convert');\n",
              "        buttonEl.style.display =\n",
              "          google.colab.kernel.accessAllowed ? 'block' : 'none';\n",
              "\n",
              "        async function convertToInteractive(key) {\n",
              "          const element = document.querySelector('#df-90b16165-9f5a-4510-b132-bc050daa797a');\n",
              "          const dataTable =\n",
              "            await google.colab.kernel.invokeFunction('convertToInteractive',\n",
              "                                                     [key], {});\n",
              "          if (!dataTable) return;\n",
              "\n",
              "          const docLinkHtml = 'Like what you see? Visit the ' +\n",
              "            '<a target=\"_blank\" href=https://colab.research.google.com/notebooks/data_table.ipynb>data table notebook</a>'\n",
              "            + ' to learn more about interactive tables.';\n",
              "          element.innerHTML = '';\n",
              "          dataTable['output_type'] = 'display_data';\n",
              "          await google.colab.output.renderOutput(dataTable, element);\n",
              "          const docLink = document.createElement('div');\n",
              "          docLink.innerHTML = docLinkHtml;\n",
              "          element.appendChild(docLink);\n",
              "        }\n",
              "      </script>\n",
              "    </div>\n",
              "  </div>\n",
              "  "
            ]
          },
          "metadata": {},
          "execution_count": 151
        }
      ]
    },
    {
      "cell_type": "code",
      "source": [
        "%matplotlib inline\n",
        "import matplotlib.pyplot as plt\n",
        "housing.hist(bins=50, figsize=(20,15))\n",
        "plt.show()"
      ],
      "metadata": {
        "colab": {
          "base_uri": "https://localhost:8080/",
          "height": 843
        },
        "id": "16L-6vI-wnzm",
        "outputId": "1d14afce-4d11-466b-b578-e8aa9a981e39"
      },
      "execution_count": 152,
      "outputs": [
        {
          "output_type": "display_data",
          "data": {
            "text/plain": [
              "<Figure size 1440x1080 with 42 Axes>"
            ],
            "image/png": "[encoded data removed]"
          },
          "metadata": {
            "needs_background": "light"
          }
        }
      ]
    },
    {
      "cell_type": "markdown",
      "metadata": {
        "id": "j5cT4JBSYOS6"
      },
      "source": [
        "## Step 3. Discover and visualize the data to gain insights\n",
        "**Data Discovery:** Plot out all correlations among the features. You should notice some features are more correlated with your predicted value than others. This information will help you confirm the weights of your regression model later on."
      ]
    },
    {
      "cell_type": "code",
      "metadata": {
        "id": "HqfralxMGqCt",
        "colab": {
          "base_uri": "https://localhost:8080/",
          "height": 1000
        },
        "outputId": "56832e75-90d6-4cea-de6b-94b3e68df741"
      },
      "source": [
        "# Your code to visualize the data here\n",
        "correlation = housing.corr()\n",
        "correlation"
      ],
      "execution_count": 153,
      "outputs": [
        {
          "output_type": "execute_result",
          "data": {
            "text/plain": [
              "                     Id  MSSubClass  LotFrontage   LotArea  OverallQual  \\\n",
              "Id             1.000000    0.011156    -0.010601 -0.033226    -0.028365   \n",
              "MSSubClass     0.011156    1.000000    -0.386347 -0.139781     0.032628   \n",
              "LotFrontage   -0.010601   -0.386347     1.000000  0.426095     0.251646   \n",
              "LotArea       -0.033226   -0.139781     0.426095  1.000000     0.105806   \n",
              "OverallQual   -0.028365    0.032628     0.251646  0.105806     1.000000   \n",
              "OverallCond    0.012609   -0.059316    -0.059213 -0.005636    -0.091932   \n",
              "YearBuilt     -0.012713    0.027850     0.123349  0.014228     0.572323   \n",
              "YearRemodAdd  -0.021998    0.040581     0.088866  0.013788     0.550684   \n",
              "MasVnrArea    -0.050298    0.022936     0.193458  0.104160     0.411876   \n",
              "BsmtFinSF1    -0.005024   -0.069836     0.233633  0.214103     0.239666   \n",
              "BsmtFinSF2    -0.005968   -0.065649     0.049900  0.111170    -0.059119   \n",
              "BsmtUnfSF     -0.007940   -0.140759     0.132644 -0.002618     0.308159   \n",
              "TotalBsmtSF   -0.015415   -0.238518     0.392075  0.260833     0.537808   \n",
              "1stFlrSF       0.010496   -0.251758     0.457181  0.299475     0.476224   \n",
              "2ndFlrSF       0.005590    0.307886     0.080177  0.050986     0.295493   \n",
              "LowQualFinSF  -0.044230    0.046474     0.038469  0.004779    -0.030429   \n",
              "GrLivArea      0.008273    0.074853     0.402797  0.263116     0.593007   \n",
              "BsmtFullBath   0.002289    0.003491     0.100949  0.158155     0.111098   \n",
              "BsmtHalfBath  -0.020155   -0.002333    -0.007234  0.048046    -0.040150   \n",
              "FullBath       0.005587    0.131608     0.198769  0.126031     0.550600   \n",
              "HalfBath       0.006784    0.177354     0.053532  0.014259     0.273458   \n",
              "BedroomAbvGr   0.037719   -0.023438     0.263170  0.119690     0.101676   \n",
              "KitchenAbvGr   0.002951    0.281721    -0.006069 -0.017784    -0.183882   \n",
              "TotRmsAbvGrd   0.027239    0.040380     0.352096  0.190015     0.427452   \n",
              "Fireplaces    -0.019772   -0.045569     0.266639  0.271364     0.396765   \n",
              "GarageYrBlt    0.000072    0.085072     0.070250 -0.024947     0.547766   \n",
              "GarageCars     0.016570   -0.040110     0.285691  0.154871     0.600671   \n",
              "GarageArea     0.017634   -0.098672     0.344997  0.180403     0.562022   \n",
              "WoodDeckSF    -0.029643   -0.012579     0.088521  0.171698     0.238923   \n",
              "OpenPorchSF   -0.000477   -0.006100     0.151972  0.084774     0.308819   \n",
              "EnclosedPorch  0.002889   -0.012037     0.010700 -0.018340    -0.113937   \n",
              "3SsnPorch     -0.046635   -0.043825     0.070029  0.020423     0.030371   \n",
              "ScreenPorch    0.001330   -0.026030     0.041383  0.043160     0.064886   \n",
              "PoolArea       0.057044    0.008283     0.206167  0.077672     0.065166   \n",
              "MiscVal       -0.006242   -0.007683     0.003368  0.038068    -0.031406   \n",
              "MoSold         0.021172   -0.013585     0.011200  0.001205     0.070815   \n",
              "YrSold         0.000712   -0.021407     0.007450 -0.014261    -0.027347   \n",
              "SalePrice     -0.021917   -0.084284     0.351799  0.263843     0.790982   \n",
              "\n",
              "               OverallCond  YearBuilt  YearRemodAdd  MasVnrArea  BsmtFinSF1  \\\n",
              "Id                0.012609  -0.012713     -0.021998   -0.050298   -0.005024   \n",
              "MSSubClass       -0.059316   0.027850      0.040581    0.022936   -0.069836   \n",
              "LotFrontage      -0.059213   0.123349      0.088866    0.193458    0.233633   \n",
              "LotArea          -0.005636   0.014228      0.013788    0.104160    0.214103   \n",
              "OverallQual      -0.091932   0.572323      0.550684    0.411876    0.239666   \n",
              "OverallCond       1.000000  -0.375983      0.073741   -0.128101   -0.046231   \n",
              "YearBuilt        -0.375983   1.000000      0.592855    0.315707    0.249503   \n",
              "YearRemodAdd      0.073741   0.592855      1.000000    0.179618    0.128451   \n",
              "MasVnrArea       -0.128101   0.315707      0.179618    1.000000    0.264736   \n",
              "BsmtFinSF1       -0.046231   0.249503      0.128451    0.264736    1.000000   \n",
              "BsmtFinSF2        0.040229  -0.049107     -0.067759   -0.072319   -0.050117   \n",
              "BsmtUnfSF        -0.136841   0.149040      0.181133    0.114442   -0.495251   \n",
              "TotalBsmtSF      -0.171098   0.391452      0.291066    0.363936    0.522396   \n",
              "1stFlrSF         -0.144203   0.281986      0.240379    0.344501    0.445863   \n",
              "2ndFlrSF          0.028942   0.010308      0.140024    0.174561   -0.137079   \n",
              "LowQualFinSF      0.025494  -0.183784     -0.062419   -0.069071   -0.064503   \n",
              "GrLivArea        -0.079686   0.199010      0.287389    0.390857    0.208171   \n",
              "BsmtFullBath     -0.054942   0.187599      0.119470    0.085310    0.649212   \n",
              "BsmtHalfBath      0.117821  -0.038162     -0.012337    0.026673    0.067418   \n",
              "FullBath         -0.194149   0.468271      0.439046    0.276833    0.058543   \n",
              "HalfBath         -0.060769   0.242656      0.183331    0.201444    0.004262   \n",
              "BedroomAbvGr      0.012980  -0.070651     -0.040581    0.102821   -0.107355   \n",
              "KitchenAbvGr     -0.087001  -0.174800     -0.149598   -0.037610   -0.081007   \n",
              "TotRmsAbvGrd     -0.057583   0.095589      0.191740    0.280682    0.044316   \n",
              "Fireplaces       -0.023820   0.147716      0.112581    0.249070    0.260011   \n",
              "GarageYrBlt      -0.324297   0.825667      0.642277    0.252691    0.153484   \n",
              "GarageCars       -0.185758   0.537850      0.420622    0.364204    0.224054   \n",
              "GarageArea       -0.151521   0.478954      0.371600    0.373066    0.296970   \n",
              "WoodDeckSF       -0.003334   0.224880      0.205726    0.159718    0.204306   \n",
              "OpenPorchSF      -0.032589   0.188686      0.226298    0.125703    0.111761   \n",
              "EnclosedPorch     0.070356  -0.387268     -0.193919   -0.110204   -0.102303   \n",
              "3SsnPorch         0.025504   0.031355      0.045286    0.018796    0.026451   \n",
              "ScreenPorch       0.054811  -0.050364     -0.038740    0.061466    0.062021   \n",
              "PoolArea         -0.001985   0.004950      0.005829    0.011723    0.140491   \n",
              "MiscVal           0.068777  -0.034383     -0.010286   -0.029815    0.003571   \n",
              "MoSold           -0.003511   0.012398      0.021490   -0.005965   -0.015727   \n",
              "YrSold            0.043950  -0.013618      0.035743   -0.008201    0.014359   \n",
              "SalePrice        -0.077856   0.522897      0.507101    0.477493    0.386420   \n",
              "\n",
              "               ...  WoodDeckSF  OpenPorchSF  EnclosedPorch  3SsnPorch  \\\n",
              "Id             ...   -0.029643    -0.000477       0.002889  -0.046635   \n",
              "MSSubClass     ...   -0.012579    -0.006100      -0.012037  -0.043825   \n",
              "LotFrontage    ...    0.088521     0.151972       0.010700   0.070029   \n",
              "LotArea        ...    0.171698     0.084774      -0.018340   0.020423   \n",
              "OverallQual    ...    0.238923     0.308819      -0.113937   0.030371   \n",
              "OverallCond    ...   -0.003334    -0.032589       0.070356   0.025504   \n",
              "YearBuilt      ...    0.224880     0.188686      -0.387268   0.031355   \n",
              "YearRemodAdd   ...    0.205726     0.226298      -0.193919   0.045286   \n",
              "MasVnrArea     ...    0.159718     0.125703      -0.110204   0.018796   \n",
              "BsmtFinSF1     ...    0.204306     0.111761      -0.102303   0.026451   \n",
              "BsmtFinSF2     ...    0.067898     0.003093       0.036543  -0.029993   \n",
              "BsmtUnfSF      ...   -0.005316     0.129005      -0.002538   0.020764   \n",
              "TotalBsmtSF    ...    0.232019     0.247264      -0.095478   0.037384   \n",
              "1stFlrSF       ...    0.235459     0.211671      -0.065292   0.056104   \n",
              "2ndFlrSF       ...    0.092165     0.208026       0.061989  -0.024358   \n",
              "LowQualFinSF   ...   -0.025444     0.018251       0.061081  -0.004296   \n",
              "GrLivArea      ...    0.247433     0.330224       0.009113   0.020643   \n",
              "BsmtFullBath   ...    0.175315     0.067341      -0.049911  -0.000106   \n",
              "BsmtHalfBath   ...    0.040161    -0.025324      -0.008555   0.035114   \n",
              "FullBath       ...    0.187703     0.259977      -0.115093   0.035353   \n",
              "HalfBath       ...    0.108080     0.199740      -0.095317  -0.004972   \n",
              "BedroomAbvGr   ...    0.046854     0.093810       0.041570  -0.024478   \n",
              "KitchenAbvGr   ...   -0.090130    -0.070091       0.037312  -0.024600   \n",
              "TotRmsAbvGrd   ...    0.165984     0.234192       0.004151  -0.006683   \n",
              "Fireplaces     ...    0.200019     0.169405      -0.024822   0.011257   \n",
              "GarageYrBlt    ...    0.224577     0.228425      -0.297003   0.023544   \n",
              "GarageCars     ...    0.226342     0.213569      -0.151434   0.035765   \n",
              "GarageArea     ...    0.224666     0.241435      -0.121777   0.035087   \n",
              "WoodDeckSF     ...    1.000000     0.058661      -0.125989  -0.032771   \n",
              "OpenPorchSF    ...    0.058661     1.000000      -0.093079  -0.005842   \n",
              "EnclosedPorch  ...   -0.125989    -0.093079       1.000000  -0.037305   \n",
              "3SsnPorch      ...   -0.032771    -0.005842      -0.037305   1.000000   \n",
              "ScreenPorch    ...   -0.074181     0.074304      -0.082864  -0.031436   \n",
              "PoolArea       ...    0.073378     0.060762       0.054203  -0.007992   \n",
              "MiscVal        ...   -0.009551    -0.018584       0.018361   0.000354   \n",
              "MoSold         ...    0.021011     0.071255      -0.028887   0.029474   \n",
              "YrSold         ...    0.022270    -0.057619      -0.009916   0.018645   \n",
              "SalePrice      ...    0.324413     0.315856      -0.128578   0.044584   \n",
              "\n",
              "               ScreenPorch  PoolArea   MiscVal    MoSold    YrSold  SalePrice  \n",
              "Id                0.001330  0.057044 -0.006242  0.021172  0.000712  -0.021917  \n",
              "MSSubClass       -0.026030  0.008283 -0.007683 -0.013585 -0.021407  -0.084284  \n",
              "LotFrontage       0.041383  0.206167  0.003368  0.011200  0.007450   0.351799  \n",
              "LotArea           0.043160  0.077672  0.038068  0.001205 -0.014261   0.263843  \n",
              "OverallQual       0.064886  0.065166 -0.031406  0.070815 -0.027347   0.790982  \n",
              "OverallCond       0.054811 -0.001985  0.068777 -0.003511  0.043950  -0.077856  \n",
              "YearBuilt        -0.050364  0.004950 -0.034383  0.012398 -0.013618   0.522897  \n",
              "YearRemodAdd     -0.038740  0.005829 -0.010286  0.021490  0.035743   0.507101  \n",
              "MasVnrArea        0.061466  0.011723 -0.029815 -0.005965 -0.008201   0.477493  \n",
              "BsmtFinSF1        0.062021  0.140491  0.003571 -0.015727  0.014359   0.386420  \n",
              "BsmtFinSF2        0.088871  0.041709  0.004940 -0.015211  0.031706  -0.011378  \n",
              "BsmtUnfSF        -0.012579 -0.035092 -0.023837  0.034888 -0.041258   0.214479  \n",
              "TotalBsmtSF       0.084489  0.126053 -0.018479  0.013196 -0.014969   0.613581  \n",
              "1stFlrSF          0.088758  0.131525 -0.021096  0.031372 -0.013604   0.605852  \n",
              "2ndFlrSF          0.040606  0.081487  0.016197  0.035164 -0.028700   0.319334  \n",
              "LowQualFinSF      0.026799  0.062157 -0.003793 -0.022174 -0.028921  -0.025606  \n",
              "GrLivArea         0.101510  0.170205 -0.002416  0.050240 -0.036526   0.708624  \n",
              "BsmtFullBath      0.023148  0.067616 -0.023047 -0.025361  0.067049   0.227122  \n",
              "BsmtHalfBath      0.032121  0.020025 -0.007367  0.032873 -0.046524  -0.016844  \n",
              "FullBath         -0.008106  0.049604 -0.014290  0.055872 -0.019669   0.560664  \n",
              "HalfBath          0.072426  0.022381  0.001290 -0.009050 -0.010269   0.284108  \n",
              "BedroomAbvGr      0.044300  0.070703  0.007767  0.046544 -0.036014   0.168213  \n",
              "KitchenAbvGr     -0.051613 -0.014525  0.062341  0.026589  0.031687  -0.135907  \n",
              "TotRmsAbvGrd      0.059383  0.083757  0.024763  0.036907 -0.034516   0.533723  \n",
              "Fireplaces        0.184530  0.095074  0.001409  0.046357 -0.024096   0.466929  \n",
              "GarageYrBlt      -0.075418 -0.014501 -0.032417  0.005337 -0.001014   0.486362  \n",
              "GarageCars        0.050494  0.020934 -0.043080  0.040522 -0.039117   0.640409  \n",
              "GarageArea        0.051412  0.061047 -0.027400  0.027974 -0.027378   0.623431  \n",
              "WoodDeckSF       -0.074181  0.073378 -0.009551  0.021011  0.022270   0.324413  \n",
              "OpenPorchSF       0.074304  0.060762 -0.018584  0.071255 -0.057619   0.315856  \n",
              "EnclosedPorch    -0.082864  0.054203  0.018361 -0.028887 -0.009916  -0.128578  \n",
              "3SsnPorch        -0.031436 -0.007992  0.000354  0.029474  0.018645   0.044584  \n",
              "ScreenPorch       1.000000  0.051307  0.031946  0.023217  0.010694   0.111447  \n",
              "PoolArea          0.051307  1.000000  0.029669 -0.033737 -0.059689   0.092404  \n",
              "MiscVal           0.031946  0.029669  1.000000 -0.006495  0.004906  -0.021190  \n",
              "MoSold            0.023217 -0.033737 -0.006495  1.000000 -0.145721   0.046432  \n",
              "YrSold            0.010694 -0.059689  0.004906 -0.145721  1.000000  -0.028923  \n",
              "SalePrice         0.111447  0.092404 -0.021190  0.046432 -0.028923   1.000000  \n",
              "\n",
              "[38 rows x 38 columns]"
            ],
            "text/html": [
              "\n",
              "  <div id=\"df-1fadb2c4-85db-433c-b03c-4ddeea22d34a\">\n",
              "    <div class=\"colab-df-container\">\n",
              "      <div>\n",
              "<style scoped>\n",
              "    .dataframe tbody tr th:only-of-type {\n",
              "        vertical-align: middle;\n",
              "    }\n",
              "\n",
              "    .dataframe tbody tr th {\n",
              "        vertical-align: top;\n",
              "    }\n",
              "\n",
              "    .dataframe thead th {\n",
              "        text-align: right;\n",
              "    }\n",
              "</style>\n",
              "<table border=\"1\" class=\"dataframe\">\n",
              "  <thead>\n",
              "    <tr style=\"text-align: right;\">\n",
              "      <th></th>\n",
              "      <th>Id</th>\n",
              "      <th>MSSubClass</th>\n",
              "      <th>LotFrontage</th>\n",
              "      <th>LotArea</th>\n",
              "      <th>OverallQual</th>\n",
              "      <th>OverallCond</th>\n",
              "      <th>YearBuilt</th>\n",
              "      <th>YearRemodAdd</th>\n",
              "      <th>MasVnrArea</th>\n",
              "      <th>BsmtFinSF1</th>\n",
              "      <th>...</th>\n",
              "      <th>WoodDeckSF</th>\n",
              "      <th>OpenPorchSF</th>\n",
              "      <th>EnclosedPorch</th>\n",
              "      <th>3SsnPorch</th>\n",
              "      <th>ScreenPorch</th>\n",
              "      <th>PoolArea</th>\n",
              "      <th>MiscVal</th>\n",
              "      <th>MoSold</th>\n",
              "      <th>YrSold</th>\n",
              "      <th>SalePrice</th>\n",
              "    </tr>\n",
              "  </thead>\n",
              "  <tbody>\n",
              "    <tr>\n",
              "      <th>Id</th>\n",
              "      <td>1.000000</td>\n",
              "      <td>0.011156</td>\n",
              "      <td>-0.010601</td>\n",
              "      <td>-0.033226</td>\n",
              "      <td>-0.028365</td>\n",
              "      <td>0.012609</td>\n",
              "      <td>-0.012713</td>\n",
              "      <td>-0.021998</td>\n",
              "      <td>-0.050298</td>\n",
              "      <td>-0.005024</td>\n",
              "      <td>...</td>\n",
              "      <td>-0.029643</td>\n",
              "      <td>-0.000477</td>\n",
              "      <td>0.002889</td>\n",
              "      <td>-0.046635</td>\n",
              "      <td>0.001330</td>\n",
              "      <td>0.057044</td>\n",
              "      <td>-0.006242</td>\n",
              "      <td>0.021172</td>\n",
              "      <td>0.000712</td>\n",
              "      <td>-0.021917</td>\n",
              "    </tr>\n",
              "    <tr>\n",
              "      <th>MSSubClass</th>\n",
              "      <td>0.011156</td>\n",
              "      <td>1.000000</td>\n",
              "      <td>-0.386347</td>\n",
              "      <td>-0.139781</td>\n",
              "      <td>0.032628</td>\n",
              "      <td>-0.059316</td>\n",
              "      <td>0.027850</td>\n",
              "      <td>0.040581</td>\n",
              "      <td>0.022936</td>\n",
              "      <td>-0.069836</td>\n",
              "      <td>...</td>\n",
              "      <td>-0.012579</td>\n",
              "      <td>-0.006100</td>\n",
              "      <td>-0.012037</td>\n",
              "      <td>-0.043825</td>\n",
              "      <td>-0.026030</td>\n",
              "      <td>0.008283</td>\n",
              "      <td>-0.007683</td>\n",
              "      <td>-0.013585</td>\n",
              "      <td>-0.021407</td>\n",
              "      <td>-0.084284</td>\n",
              "    </tr>\n",
              "    <tr>\n",
              "      <th>LotFrontage</th>\n",
              "      <td>-0.010601</td>\n",
              "      <td>-0.386347</td>\n",
              "      <td>1.000000</td>\n",
              "      <td>0.426095</td>\n",
              "      <td>0.251646</td>\n",
              "      <td>-0.059213</td>\n",
              "      <td>0.123349</td>\n",
              "      <td>0.088866</td>\n",
              "      <td>0.193458</td>\n",
              "      <td>0.233633</td>\n",
              "      <td>...</td>\n",
              "      <td>0.088521</td>\n",
              "      <td>0.151972</td>\n",
              "      <td>0.010700</td>\n",
              "      <td>0.070029</td>\n",
              "      <td>0.041383</td>\n",
              "      <td>0.206167</td>\n",
              "      <td>0.003368</td>\n",
              "      <td>0.011200</td>\n",
              "      <td>0.007450</td>\n",
              "      <td>0.351799</td>\n",
              "    </tr>\n",
              "    <tr>\n",
              "      <th>LotArea</th>\n",
              "      <td>-0.033226</td>\n",
              "      <td>-0.139781</td>\n",
              "      <td>0.426095</td>\n",
              "      <td>1.000000</td>\n",
              "      <td>0.105806</td>\n",
              "      <td>-0.005636</td>\n",
              "      <td>0.014228</td>\n",
              "      <td>0.013788</td>\n",
              "      <td>0.104160</td>\n",
              "      <td>0.214103</td>\n",
              "      <td>...</td>\n",
              "      <td>0.171698</td>\n",
              "      <td>0.084774</td>\n",
              "      <td>-0.018340</td>\n",
              "      <td>0.020423</td>\n",
              "      <td>0.043160</td>\n",
              "      <td>0.077672</td>\n",
              "      <td>0.038068</td>\n",
              "      <td>0.001205</td>\n",
              "      <td>-0.014261</td>\n",
              "      <td>0.263843</td>\n",
              "    </tr>\n",
              "    <tr>\n",
              "      <th>OverallQual</th>\n",
              "      <td>-0.028365</td>\n",
              "      <td>0.032628</td>\n",
              "      <td>0.251646</td>\n",
              "      <td>0.105806</td>\n",
              "      <td>1.000000</td>\n",
              "      <td>-0.091932</td>\n",
              "      <td>0.572323</td>\n",
              "      <td>0.550684</td>\n",
              "      <td>0.411876</td>\n",
              "      <td>0.239666</td>\n",
              "      <td>...</td>\n",
              "      <td>0.238923</td>\n",
              "      <td>0.308819</td>\n",
              "      <td>-0.113937</td>\n",
              "      <td>0.030371</td>\n",
              "      <td>0.064886</td>\n",
              "      <td>0.065166</td>\n",
              "      <td>-0.031406</td>\n",
              "      <td>0.070815</td>\n",
              "      <td>-0.027347</td>\n",
              "      <td>0.790982</td>\n",
              "    </tr>\n",
              "    <tr>\n",
              "      <th>OverallCond</th>\n",
              "      <td>0.012609</td>\n",
              "      <td>-0.059316</td>\n",
              "      <td>-0.059213</td>\n",
              "      <td>-0.005636</td>\n",
              "      <td>-0.091932</td>\n",
              "      <td>1.000000</td>\n",
              "      <td>-0.375983</td>\n",
              "      <td>0.073741</td>\n",
              "      <td>-0.128101</td>\n",
              "      <td>-0.046231</td>\n",
              "      <td>...</td>\n",
              "      <td>-0.003334</td>\n",
              "      <td>-0.032589</td>\n",
              "      <td>0.070356</td>\n",
              "      <td>0.025504</td>\n",
              "      <td>0.054811</td>\n",
              "      <td>-0.001985</td>\n",
              "      <td>0.068777</td>\n",
              "      <td>-0.003511</td>\n",
              "      <td>0.043950</td>\n",
              "      <td>-0.077856</td>\n",
              "    </tr>\n",
              "    <tr>\n",
              "      <th>YearBuilt</th>\n",
              "      <td>-0.012713</td>\n",
              "      <td>0.027850</td>\n",
              "      <td>0.123349</td>\n",
              "      <td>0.014228</td>\n",
              "      <td>0.572323</td>\n",
              "      <td>-0.375983</td>\n",
              "      <td>1.000000</td>\n",
              "      <td>0.592855</td>\n",
              "      <td>0.315707</td>\n",
              "      <td>0.249503</td>\n",
              "      <td>...</td>\n",
              "      <td>0.224880</td>\n",
              "      <td>0.188686</td>\n",
              "      <td>-0.387268</td>\n",
              "      <td>0.031355</td>\n",
              "      <td>-0.050364</td>\n",
              "      <td>0.004950</td>\n",
              "      <td>-0.034383</td>\n",
              "      <td>0.012398</td>\n",
              "      <td>-0.013618</td>\n",
              "      <td>0.522897</td>\n",
              "    </tr>\n",
              "    <tr>\n",
              "      <th>YearRemodAdd</th>\n",
              "      <td>-0.021998</td>\n",
              "      <td>0.040581</td>\n",
              "      <td>0.088866</td>\n",
              "      <td>0.013788</td>\n",
              "      <td>0.550684</td>\n",
              "      <td>0.073741</td>\n",
              "      <td>0.592855</td>\n",
              "      <td>1.000000</td>\n",
              "      <td>0.179618</td>\n",
              "      <td>0.128451</td>\n",
              "      <td>...</td>\n",
              "      <td>0.205726</td>\n",
              "      <td>0.226298</td>\n",
              "      <td>-0.193919</td>\n",
              "      <td>0.045286</td>\n",
              "      <td>-0.038740</td>\n",
              "      <td>0.005829</td>\n",
              "      <td>-0.010286</td>\n",
              "      <td>0.021490</td>\n",
              "      <td>0.035743</td>\n",
              "      <td>0.507101</td>\n",
              "    </tr>\n",
              "    <tr>\n",
              "      <th>MasVnrArea</th>\n",
              "      <td>-0.050298</td>\n",
              "      <td>0.022936</td>\n",
              "      <td>0.193458</td>\n",
              "      <td>0.104160</td>\n",
              "      <td>0.411876</td>\n",
              "      <td>-0.128101</td>\n",
              "      <td>0.315707</td>\n",
              "      <td>0.179618</td>\n",
              "      <td>1.000000</td>\n",
              "      <td>0.264736</td>\n",
              "      <td>...</td>\n",
              "      <td>0.159718</td>\n",
              "      <td>0.125703</td>\n",
              "      <td>-0.110204</td>\n",
              "      <td>0.018796</td>\n",
              "      <td>0.061466</td>\n",
              "      <td>0.011723</td>\n",
              "      <td>-0.029815</td>\n",
              "      <td>-0.005965</td>\n",
              "      <td>-0.008201</td>\n",
              "      <td>0.477493</td>\n",
              "    </tr>\n",
              "    <tr>\n",
              "      <th>BsmtFinSF1</th>\n",
              "      <td>-0.005024</td>\n",
              "      <td>-0.069836</td>\n",
              "      <td>0.233633</td>\n",
              "      <td>0.214103</td>\n",
              "      <td>0.239666</td>\n",
              "      <td>-0.046231</td>\n",
              "      <td>0.249503</td>\n",
              "      <td>0.128451</td>\n",
              "      <td>0.264736</td>\n",
              "      <td>1.000000</td>\n",
              "      <td>...</td>\n",
              "      <td>0.204306</td>\n",
              "      <td>0.111761</td>\n",
              "      <td>-0.102303</td>\n",
              "      <td>0.026451</td>\n",
              "      <td>0.062021</td>\n",
              "      <td>0.140491</td>\n",
              "      <td>0.003571</td>\n",
              "      <td>-0.015727</td>\n",
              "      <td>0.014359</td>\n",
              "      <td>0.386420</td>\n",
              "    </tr>\n",
              "    <tr>\n",
              "      <th>BsmtFinSF2</th>\n",
              "      <td>-0.005968</td>\n",
              "      <td>-0.065649</td>\n",
              "      <td>0.049900</td>\n",
              "      <td>0.111170</td>\n",
              "      <td>-0.059119</td>\n",
              "      <td>0.040229</td>\n",
              "      <td>-0.049107</td>\n",
              "      <td>-0.067759</td>\n",
              "      <td>-0.072319</td>\n",
              "      <td>-0.050117</td>\n",
              "      <td>...</td>\n",
              "      <td>0.067898</td>\n",
              "      <td>0.003093</td>\n",
              "      <td>0.036543</td>\n",
              "      <td>-0.029993</td>\n",
              "      <td>0.088871</td>\n",
              "      <td>0.041709</td>\n",
              "      <td>0.004940</td>\n",
              "      <td>-0.015211</td>\n",
              "      <td>0.031706</td>\n",
              "      <td>-0.011378</td>\n",
              "    </tr>\n",
              "    <tr>\n",
              "      <th>BsmtUnfSF</th>\n",
              "      <td>-0.007940</td>\n",
              "      <td>-0.140759</td>\n",
              "      <td>0.132644</td>\n",
              "      <td>-0.002618</td>\n",
              "      <td>0.308159</td>\n",
              "      <td>-0.136841</td>\n",
              "      <td>0.149040</td>\n",
              "      <td>0.181133</td>\n",
              "      <td>0.114442</td>\n",
              "      <td>-0.495251</td>\n",
              "      <td>...</td>\n",
              "      <td>-0.005316</td>\n",
              "      <td>0.129005</td>\n",
              "      <td>-0.002538</td>\n",
              "      <td>0.020764</td>\n",
              "      <td>-0.012579</td>\n",
              "      <td>-0.035092</td>\n",
              "      <td>-0.023837</td>\n",
              "      <td>0.034888</td>\n",
              "      <td>-0.041258</td>\n",
              "      <td>0.214479</td>\n",
              "    </tr>\n",
              "    <tr>\n",
              "      <th>TotalBsmtSF</th>\n",
              "      <td>-0.015415</td>\n",
              "      <td>-0.238518</td>\n",
              "      <td>0.392075</td>\n",
              "      <td>0.260833</td>\n",
              "      <td>0.537808</td>\n",
              "      <td>-0.171098</td>\n",
              "      <td>0.391452</td>\n",
              "      <td>0.291066</td>\n",
              "      <td>0.363936</td>\n",
              "      <td>0.522396</td>\n",
              "      <td>...</td>\n",
              "      <td>0.232019</td>\n",
              "      <td>0.247264</td>\n",
              "      <td>-0.095478</td>\n",
              "      <td>0.037384</td>\n",
              "      <td>0.084489</td>\n",
              "      <td>0.126053</td>\n",
              "      <td>-0.018479</td>\n",
              "      <td>0.013196</td>\n",
              "      <td>-0.014969</td>\n",
              "      <td>0.613581</td>\n",
              "    </tr>\n",
              "    <tr>\n",
              "      <th>1stFlrSF</th>\n",
              "      <td>0.010496</td>\n",
              "      <td>-0.251758</td>\n",
              "      <td>0.457181</td>\n",
              "      <td>0.299475</td>\n",
              "      <td>0.476224</td>\n",
              "      <td>-0.144203</td>\n",
              "      <td>0.281986</td>\n",
              "      <td>0.240379</td>\n",
              "      <td>0.344501</td>\n",
              "      <td>0.445863</td>\n",
              "      <td>...</td>\n",
              "      <td>0.235459</td>\n",
              "      <td>0.211671</td>\n",
              "      <td>-0.065292</td>\n",
              "      <td>0.056104</td>\n",
              "      <td>0.088758</td>\n",
              "      <td>0.131525</td>\n",
              "      <td>-0.021096</td>\n",
              "      <td>0.031372</td>\n",
              "      <td>-0.013604</td>\n",
              "      <td>0.605852</td>\n",
              "    </tr>\n",
              "    <tr>\n",
              "      <th>2ndFlrSF</th>\n",
              "      <td>0.005590</td>\n",
              "      <td>0.307886</td>\n",
              "      <td>0.080177</td>\n",
              "      <td>0.050986</td>\n",
              "      <td>0.295493</td>\n",
              "      <td>0.028942</td>\n",
              "      <td>0.010308</td>\n",
              "      <td>0.140024</td>\n",
              "      <td>0.174561</td>\n",
              "      <td>-0.137079</td>\n",
              "      <td>...</td>\n",
              "      <td>0.092165</td>\n",
              "      <td>0.208026</td>\n",
              "      <td>0.061989</td>\n",
              "      <td>-0.024358</td>\n",
              "      <td>0.040606</td>\n",
              "      <td>0.081487</td>\n",
              "      <td>0.016197</td>\n",
              "      <td>0.035164</td>\n",
              "      <td>-0.028700</td>\n",
              "      <td>0.319334</td>\n",
              "    </tr>\n",
              "    <tr>\n",
              "      <th>LowQualFinSF</th>\n",
              "      <td>-0.044230</td>\n",
              "      <td>0.046474</td>\n",
              "      <td>0.038469</td>\n",
              "      <td>0.004779</td>\n",
              "      <td>-0.030429</td>\n",
              "      <td>0.025494</td>\n",
              "      <td>-0.183784</td>\n",
              "      <td>-0.062419</td>\n",
              "      <td>-0.069071</td>\n",
              "      <td>-0.064503</td>\n",
              "      <td>...</td>\n",
              "      <td>-0.025444</td>\n",
              "      <td>0.018251</td>\n",
              "      <td>0.061081</td>\n",
              "      <td>-0.004296</td>\n",
              "      <td>0.026799</td>\n",
              "      <td>0.062157</td>\n",
              "      <td>-0.003793</td>\n",
              "      <td>-0.022174</td>\n",
              "      <td>-0.028921</td>\n",
              "      <td>-0.025606</td>\n",
              "    </tr>\n",
              "    <tr>\n",
              "      <th>GrLivArea</th>\n",
              "      <td>0.008273</td>\n",
              "      <td>0.074853</td>\n",
              "      <td>0.402797</td>\n",
              "      <td>0.263116</td>\n",
              "      <td>0.593007</td>\n",
              "      <td>-0.079686</td>\n",
              "      <td>0.199010</td>\n",
              "      <td>0.287389</td>\n",
              "      <td>0.390857</td>\n",
              "      <td>0.208171</td>\n",
              "      <td>...</td>\n",
              "      <td>0.247433</td>\n",
              "      <td>0.330224</td>\n",
              "      <td>0.009113</td>\n",
              "      <td>0.020643</td>\n",
              "      <td>0.101510</td>\n",
              "      <td>0.170205</td>\n",
              "      <td>-0.002416</td>\n",
              "      <td>0.050240</td>\n",
              "      <td>-0.036526</td>\n",
              "      <td>0.708624</td>\n",
              "    </tr>\n",
              "    <tr>\n",
              "      <th>BsmtFullBath</th>\n",
              "      <td>0.002289</td>\n",
              "      <td>0.003491</td>\n",
              "      <td>0.100949</td>\n",
              "      <td>0.158155</td>\n",
              "      <td>0.111098</td>\n",
              "      <td>-0.054942</td>\n",
              "      <td>0.187599</td>\n",
              "      <td>0.119470</td>\n",
              "      <td>0.085310</td>\n",
              "      <td>0.649212</td>\n",
              "      <td>...</td>\n",
              "      <td>0.175315</td>\n",
              "      <td>0.067341</td>\n",
              "      <td>-0.049911</td>\n",
              "      <td>-0.000106</td>\n",
              "      <td>0.023148</td>\n",
              "      <td>0.067616</td>\n",
              "      <td>-0.023047</td>\n",
              "      <td>-0.025361</td>\n",
              "      <td>0.067049</td>\n",
              "      <td>0.227122</td>\n",
              "    </tr>\n",
              "    <tr>\n",
              "      <th>BsmtHalfBath</th>\n",
              "      <td>-0.020155</td>\n",
              "      <td>-0.002333</td>\n",
              "      <td>-0.007234</td>\n",
              "      <td>0.048046</td>\n",
              "      <td>-0.040150</td>\n",
              "      <td>0.117821</td>\n",
              "      <td>-0.038162</td>\n",
              "      <td>-0.012337</td>\n",
              "      <td>0.026673</td>\n",
              "      <td>0.067418</td>\n",
              "      <td>...</td>\n",
              "      <td>0.040161</td>\n",
              "      <td>-0.025324</td>\n",
              "      <td>-0.008555</td>\n",
              "      <td>0.035114</td>\n",
              "      <td>0.032121</td>\n",
              "      <td>0.020025</td>\n",
              "      <td>-0.007367</td>\n",
              "      <td>0.032873</td>\n",
              "      <td>-0.046524</td>\n",
              "      <td>-0.016844</td>\n",
              "    </tr>\n",
              "    <tr>\n",
              "      <th>FullBath</th>\n",
              "      <td>0.005587</td>\n",
              "      <td>0.131608</td>\n",
              "      <td>0.198769</td>\n",
              "      <td>0.126031</td>\n",
              "      <td>0.550600</td>\n",
              "      <td>-0.194149</td>\n",
              "      <td>0.468271</td>\n",
              "      <td>0.439046</td>\n",
              "      <td>0.276833</td>\n",
              "      <td>0.058543</td>\n",
              "      <td>...</td>\n",
              "      <td>0.187703</td>\n",
              "      <td>0.259977</td>\n",
              "      <td>-0.115093</td>\n",
              "      <td>0.035353</td>\n",
              "      <td>-0.008106</td>\n",
              "      <td>0.049604</td>\n",
              "      <td>-0.014290</td>\n",
              "      <td>0.055872</td>\n",
              "      <td>-0.019669</td>\n",
              "      <td>0.560664</td>\n",
              "    </tr>\n",
              "    <tr>\n",
              "      <th>HalfBath</th>\n",
              "      <td>0.006784</td>\n",
              "      <td>0.177354</td>\n",
              "      <td>0.053532</td>\n",
              "      <td>0.014259</td>\n",
              "      <td>0.273458</td>\n",
              "      <td>-0.060769</td>\n",
              "      <td>0.242656</td>\n",
              "      <td>0.183331</td>\n",
              "      <td>0.201444</td>\n",
              "      <td>0.004262</td>\n",
              "      <td>...</td>\n",
              "      <td>0.108080</td>\n",
              "      <td>0.199740</td>\n",
              "      <td>-0.095317</td>\n",
              "      <td>-0.004972</td>\n",
              "      <td>0.072426</td>\n",
              "      <td>0.022381</td>\n",
              "      <td>0.001290</td>\n",
              "      <td>-0.009050</td>\n",
              "      <td>-0.010269</td>\n",
              "      <td>0.284108</td>\n",
              "    </tr>\n",
              "    <tr>\n",
              "      <th>BedroomAbvGr</th>\n",
              "      <td>0.037719</td>\n",
              "      <td>-0.023438</td>\n",
              "      <td>0.263170</td>\n",
              "      <td>0.119690</td>\n",
              "      <td>0.101676</td>\n",
              "      <td>0.012980</td>\n",
              "      <td>-0.070651</td>\n",
              "      <td>-0.040581</td>\n",
              "      <td>0.102821</td>\n",
              "      <td>-0.107355</td>\n",
              "      <td>...</td>\n",
              "      <td>0.046854</td>\n",
              "      <td>0.093810</td>\n",
              "      <td>0.041570</td>\n",
              "      <td>-0.024478</td>\n",
              "      <td>0.044300</td>\n",
              "      <td>0.070703</td>\n",
              "      <td>0.007767</td>\n",
              "      <td>0.046544</td>\n",
              "      <td>-0.036014</td>\n",
              "      <td>0.168213</td>\n",
              "    </tr>\n",
              "    <tr>\n",
              "      <th>KitchenAbvGr</th>\n",
              "      <td>0.002951</td>\n",
              "      <td>0.281721</td>\n",
              "      <td>-0.006069</td>\n",
              "      <td>-0.017784</td>\n",
              "      <td>-0.183882</td>\n",
              "      <td>-0.087001</td>\n",
              "      <td>-0.174800</td>\n",
              "      <td>-0.149598</td>\n",
              "      <td>-0.037610</td>\n",
              "      <td>-0.081007</td>\n",
              "      <td>...</td>\n",
              "      <td>-0.090130</td>\n",
              "      <td>-0.070091</td>\n",
              "      <td>0.037312</td>\n",
              "      <td>-0.024600</td>\n",
              "      <td>-0.051613</td>\n",
              "      <td>-0.014525</td>\n",
              "      <td>0.062341</td>\n",
              "      <td>0.026589</td>\n",
              "      <td>0.031687</td>\n",
              "      <td>-0.135907</td>\n",
              "    </tr>\n",
              "    <tr>\n",
              "      <th>TotRmsAbvGrd</th>\n",
              "      <td>0.027239</td>\n",
              "      <td>0.040380</td>\n",
              "      <td>0.352096</td>\n",
              "      <td>0.190015</td>\n",
              "      <td>0.427452</td>\n",
              "      <td>-0.057583</td>\n",
              "      <td>0.095589</td>\n",
              "      <td>0.191740</td>\n",
              "      <td>0.280682</td>\n",
              "      <td>0.044316</td>\n",
              "      <td>...</td>\n",
              "      <td>0.165984</td>\n",
              "      <td>0.234192</td>\n",
              "      <td>0.004151</td>\n",
              "      <td>-0.006683</td>\n",
              "      <td>0.059383</td>\n",
              "      <td>0.083757</td>\n",
              "      <td>0.024763</td>\n",
              "      <td>0.036907</td>\n",
              "      <td>-0.034516</td>\n",
              "      <td>0.533723</td>\n",
              "    </tr>\n",
              "    <tr>\n",
              "      <th>Fireplaces</th>\n",
              "      <td>-0.019772</td>\n",
              "      <td>-0.045569</td>\n",
              "      <td>0.266639</td>\n",
              "      <td>0.271364</td>\n",
              "      <td>0.396765</td>\n",
              "      <td>-0.023820</td>\n",
              "      <td>0.147716</td>\n",
              "      <td>0.112581</td>\n",
              "      <td>0.249070</td>\n",
              "      <td>0.260011</td>\n",
              "      <td>...</td>\n",
              "      <td>0.200019</td>\n",
              "      <td>0.169405</td>\n",
              "      <td>-0.024822</td>\n",
              "      <td>0.011257</td>\n",
              "      <td>0.184530</td>\n",
              "      <td>0.095074</td>\n",
              "      <td>0.001409</td>\n",
              "      <td>0.046357</td>\n",
              "      <td>-0.024096</td>\n",
              "      <td>0.466929</td>\n",
              "    </tr>\n",
              "    <tr>\n",
              "      <th>GarageYrBlt</th>\n",
              "      <td>0.000072</td>\n",
              "      <td>0.085072</td>\n",
              "      <td>0.070250</td>\n",
              "      <td>-0.024947</td>\n",
              "      <td>0.547766</td>\n",
              "      <td>-0.324297</td>\n",
              "      <td>0.825667</td>\n",
              "      <td>0.642277</td>\n",
              "      <td>0.252691</td>\n",
              "      <td>0.153484</td>\n",
              "      <td>...</td>\n",
              "      <td>0.224577</td>\n",
              "      <td>0.228425</td>\n",
              "      <td>-0.297003</td>\n",
              "      <td>0.023544</td>\n",
              "      <td>-0.075418</td>\n",
              "      <td>-0.014501</td>\n",
              "      <td>-0.032417</td>\n",
              "      <td>0.005337</td>\n",
              "      <td>-0.001014</td>\n",
              "      <td>0.486362</td>\n",
              "    </tr>\n",
              "    <tr>\n",
              "      <th>GarageCars</th>\n",
              "      <td>0.016570</td>\n",
              "      <td>-0.040110</td>\n",
              "      <td>0.285691</td>\n",
              "      <td>0.154871</td>\n",
              "      <td>0.600671</td>\n",
              "      <td>-0.185758</td>\n",
              "      <td>0.537850</td>\n",
              "      <td>0.420622</td>\n",
              "      <td>0.364204</td>\n",
              "      <td>0.224054</td>\n",
              "      <td>...</td>\n",
              "      <td>0.226342</td>\n",
              "      <td>0.213569</td>\n",
              "      <td>-0.151434</td>\n",
              "      <td>0.035765</td>\n",
              "      <td>0.050494</td>\n",
              "      <td>0.020934</td>\n",
              "      <td>-0.043080</td>\n",
              "      <td>0.040522</td>\n",
              "      <td>-0.039117</td>\n",
              "      <td>0.640409</td>\n",
              "    </tr>\n",
              "    <tr>\n",
              "      <th>GarageArea</th>\n",
              "      <td>0.017634</td>\n",
              "      <td>-0.098672</td>\n",
              "      <td>0.344997</td>\n",
              "      <td>0.180403</td>\n",
              "      <td>0.562022</td>\n",
              "      <td>-0.151521</td>\n",
              "      <td>0.478954</td>\n",
              "      <td>0.371600</td>\n",
              "      <td>0.373066</td>\n",
              "      <td>0.296970</td>\n",
              "      <td>...</td>\n",
              "      <td>0.224666</td>\n",
              "      <td>0.241435</td>\n",
              "      <td>-0.121777</td>\n",
              "      <td>0.035087</td>\n",
              "      <td>0.051412</td>\n",
              "      <td>0.061047</td>\n",
              "      <td>-0.027400</td>\n",
              "      <td>0.027974</td>\n",
              "      <td>-0.027378</td>\n",
              "      <td>0.623431</td>\n",
              "    </tr>\n",
              "    <tr>\n",
              "      <th>WoodDeckSF</th>\n",
              "      <td>-0.029643</td>\n",
              "      <td>-0.012579</td>\n",
              "      <td>0.088521</td>\n",
              "      <td>0.171698</td>\n",
              "      <td>0.238923</td>\n",
              "      <td>-0.003334</td>\n",
              "      <td>0.224880</td>\n",
              "      <td>0.205726</td>\n",
              "      <td>0.159718</td>\n",
              "      <td>0.204306</td>\n",
              "      <td>...</td>\n",
              "      <td>1.000000</td>\n",
              "      <td>0.058661</td>\n",
              "      <td>-0.125989</td>\n",
              "      <td>-0.032771</td>\n",
              "      <td>-0.074181</td>\n",
              "      <td>0.073378</td>\n",
              "      <td>-0.009551</td>\n",
              "      <td>0.021011</td>\n",
              "      <td>0.022270</td>\n",
              "      <td>0.324413</td>\n",
              "    </tr>\n",
              "    <tr>\n",
              "      <th>OpenPorchSF</th>\n",
              "      <td>-0.000477</td>\n",
              "      <td>-0.006100</td>\n",
              "      <td>0.151972</td>\n",
              "      <td>0.084774</td>\n",
              "      <td>0.308819</td>\n",
              "      <td>-0.032589</td>\n",
              "      <td>0.188686</td>\n",
              "      <td>0.226298</td>\n",
              "      <td>0.125703</td>\n",
              "      <td>0.111761</td>\n",
              "      <td>...</td>\n",
              "      <td>0.058661</td>\n",
              "      <td>1.000000</td>\n",
              "      <td>-0.093079</td>\n",
              "      <td>-0.005842</td>\n",
              "      <td>0.074304</td>\n",
              "      <td>0.060762</td>\n",
              "      <td>-0.018584</td>\n",
              "      <td>0.071255</td>\n",
              "      <td>-0.057619</td>\n",
              "      <td>0.315856</td>\n",
              "    </tr>\n",
              "    <tr>\n",
              "      <th>EnclosedPorch</th>\n",
              "      <td>0.002889</td>\n",
              "      <td>-0.012037</td>\n",
              "      <td>0.010700</td>\n",
              "      <td>-0.018340</td>\n",
              "      <td>-0.113937</td>\n",
              "      <td>0.070356</td>\n",
              "      <td>-0.387268</td>\n",
              "      <td>-0.193919</td>\n",
              "      <td>-0.110204</td>\n",
              "      <td>-0.102303</td>\n",
              "      <td>...</td>\n",
              "      <td>-0.125989</td>\n",
              "      <td>-0.093079</td>\n",
              "      <td>1.000000</td>\n",
              "      <td>-0.037305</td>\n",
              "      <td>-0.082864</td>\n",
              "      <td>0.054203</td>\n",
              "      <td>0.018361</td>\n",
              "      <td>-0.028887</td>\n",
              "      <td>-0.009916</td>\n",
              "      <td>-0.128578</td>\n",
              "    </tr>\n",
              "    <tr>\n",
              "      <th>3SsnPorch</th>\n",
              "      <td>-0.046635</td>\n",
              "      <td>-0.043825</td>\n",
              "      <td>0.070029</td>\n",
              "      <td>0.020423</td>\n",
              "      <td>0.030371</td>\n",
              "      <td>0.025504</td>\n",
              "      <td>0.031355</td>\n",
              "      <td>0.045286</td>\n",
              "      <td>0.018796</td>\n",
              "      <td>0.026451</td>\n",
              "      <td>...</td>\n",
              "      <td>-0.032771</td>\n",
              "      <td>-0.005842</td>\n",
              "      <td>-0.037305</td>\n",
              "      <td>1.000000</td>\n",
              "      <td>-0.031436</td>\n",
              "      <td>-0.007992</td>\n",
              "      <td>0.000354</td>\n",
              "      <td>0.029474</td>\n",
              "      <td>0.018645</td>\n",
              "      <td>0.044584</td>\n",
              "    </tr>\n",
              "    <tr>\n",
              "      <th>ScreenPorch</th>\n",
              "      <td>0.001330</td>\n",
              "      <td>-0.026030</td>\n",
              "      <td>0.041383</td>\n",
              "      <td>0.043160</td>\n",
              "      <td>0.064886</td>\n",
              "      <td>0.054811</td>\n",
              "      <td>-0.050364</td>\n",
              "      <td>-0.038740</td>\n",
              "      <td>0.061466</td>\n",
              "      <td>0.062021</td>\n",
              "      <td>...</td>\n",
              "      <td>-0.074181</td>\n",
              "      <td>0.074304</td>\n",
              "      <td>-0.082864</td>\n",
              "      <td>-0.031436</td>\n",
              "      <td>1.000000</td>\n",
              "      <td>0.051307</td>\n",
              "      <td>0.031946</td>\n",
              "      <td>0.023217</td>\n",
              "      <td>0.010694</td>\n",
              "      <td>0.111447</td>\n",
              "    </tr>\n",
              "    <tr>\n",
              "      <th>PoolArea</th>\n",
              "      <td>0.057044</td>\n",
              "      <td>0.008283</td>\n",
              "      <td>0.206167</td>\n",
              "      <td>0.077672</td>\n",
              "      <td>0.065166</td>\n",
              "      <td>-0.001985</td>\n",
              "      <td>0.004950</td>\n",
              "      <td>0.005829</td>\n",
              "      <td>0.011723</td>\n",
              "      <td>0.140491</td>\n",
              "      <td>...</td>\n",
              "      <td>0.073378</td>\n",
              "      <td>0.060762</td>\n",
              "      <td>0.054203</td>\n",
              "      <td>-0.007992</td>\n",
              "      <td>0.051307</td>\n",
              "      <td>1.000000</td>\n",
              "      <td>0.029669</td>\n",
              "      <td>-0.033737</td>\n",
              "      <td>-0.059689</td>\n",
              "      <td>0.092404</td>\n",
              "    </tr>\n",
              "    <tr>\n",
              "      <th>MiscVal</th>\n",
              "      <td>-0.006242</td>\n",
              "      <td>-0.007683</td>\n",
              "      <td>0.003368</td>\n",
              "      <td>0.038068</td>\n",
              "      <td>-0.031406</td>\n",
              "      <td>0.068777</td>\n",
              "      <td>-0.034383</td>\n",
              "      <td>-0.010286</td>\n",
              "      <td>-0.029815</td>\n",
              "      <td>0.003571</td>\n",
              "      <td>...</td>\n",
              "      <td>-0.009551</td>\n",
              "      <td>-0.018584</td>\n",
              "      <td>0.018361</td>\n",
              "      <td>0.000354</td>\n",
              "      <td>0.031946</td>\n",
              "      <td>0.029669</td>\n",
              "      <td>1.000000</td>\n",
              "      <td>-0.006495</td>\n",
              "      <td>0.004906</td>\n",
              "      <td>-0.021190</td>\n",
              "    </tr>\n",
              "    <tr>\n",
              "      <th>MoSold</th>\n",
              "      <td>0.021172</td>\n",
              "      <td>-0.013585</td>\n",
              "      <td>0.011200</td>\n",
              "      <td>0.001205</td>\n",
              "      <td>0.070815</td>\n",
              "      <td>-0.003511</td>\n",
              "      <td>0.012398</td>\n",
              "      <td>0.021490</td>\n",
              "      <td>-0.005965</td>\n",
              "      <td>-0.015727</td>\n",
              "      <td>...</td>\n",
              "      <td>0.021011</td>\n",
              "      <td>0.071255</td>\n",
              "      <td>-0.028887</td>\n",
              "      <td>0.029474</td>\n",
              "      <td>0.023217</td>\n",
              "      <td>-0.033737</td>\n",
              "      <td>-0.006495</td>\n",
              "      <td>1.000000</td>\n",
              "      <td>-0.145721</td>\n",
              "      <td>0.046432</td>\n",
              "    </tr>\n",
              "    <tr>\n",
              "      <th>YrSold</th>\n",
              "      <td>0.000712</td>\n",
              "      <td>-0.021407</td>\n",
              "      <td>0.007450</td>\n",
              "      <td>-0.014261</td>\n",
              "      <td>-0.027347</td>\n",
              "      <td>0.043950</td>\n",
              "      <td>-0.013618</td>\n",
              "      <td>0.035743</td>\n",
              "      <td>-0.008201</td>\n",
              "      <td>0.014359</td>\n",
              "      <td>...</td>\n",
              "      <td>0.022270</td>\n",
              "      <td>-0.057619</td>\n",
              "      <td>-0.009916</td>\n",
              "      <td>0.018645</td>\n",
              "      <td>0.010694</td>\n",
              "      <td>-0.059689</td>\n",
              "      <td>0.004906</td>\n",
              "      <td>-0.145721</td>\n",
              "      <td>1.000000</td>\n",
              "      <td>-0.028923</td>\n",
              "    </tr>\n",
              "    <tr>\n",
              "      <th>SalePrice</th>\n",
              "      <td>-0.021917</td>\n",
              "      <td>-0.084284</td>\n",
              "      <td>0.351799</td>\n",
              "      <td>0.263843</td>\n",
              "      <td>0.790982</td>\n",
              "      <td>-0.077856</td>\n",
              "      <td>0.522897</td>\n",
              "      <td>0.507101</td>\n",
              "      <td>0.477493</td>\n",
              "      <td>0.386420</td>\n",
              "      <td>...</td>\n",
              "      <td>0.324413</td>\n",
              "      <td>0.315856</td>\n",
              "      <td>-0.128578</td>\n",
              "      <td>0.044584</td>\n",
              "      <td>0.111447</td>\n",
              "      <td>0.092404</td>\n",
              "      <td>-0.021190</td>\n",
              "      <td>0.046432</td>\n",
              "      <td>-0.028923</td>\n",
              "      <td>1.000000</td>\n",
              "    </tr>\n",
              "  </tbody>\n",
              "</table>\n",
              "<p>38 rows × 38 columns</p>\n",
              "</div>\n",
              "      <button class=\"colab-df-convert\" onclick=\"convertToInteractive('df-1fadb2c4-85db-433c-b03c-4ddeea22d34a')\"\n",
              "              title=\"Convert this dataframe to an interactive table.\"\n",
              "              style=\"display:none;\">\n",
              "        \n",
              "  <svg xmlns=\"http://www.w3.org/2000/svg\" height=\"24px\"viewBox=\"0 0 24 24\"\n",
              "       width=\"24px\">\n",
              "    <path d=\"M0 0h24v24H0V0z\" fill=\"none\"/>\n",
              "    <path d=\"M18.56 5.44l.94 2.06.94-2.06 2.06-.94-2.06-.94-.94-2.06-.94 2.06-2.06.94zm-11 1L8.5 8.5l.94-2.06 2.06-.94-2.06-.94L8.5 2.5l-.94 2.06-2.06.94zm10 10l.94 2.06.94-2.06 2.06-.94-2.06-.94-.94-2.06-.94 2.06-2.06.94z\"/><path d=\"M17.41 7.96l-1.37-1.37c-.4-.4-.92-.59-1.43-.59-.52 0-1.04.2-1.43.59L10.3 9.45l-7.72 7.72c-.78.78-.78 2.05 0 2.83L4 21.41c.39.39.9.59 1.41.59.51 0 1.02-.2 1.41-.59l7.78-7.78 2.81-2.81c.8-.78.8-2.07 0-2.86zM5.41 20L4 18.59l7.72-7.72 1.47 1.35L5.41 20z\"/>\n",
              "  </svg>\n",
              "      </button>\n",
              "      \n",
              "  <style>\n",
              "    .colab-df-container {\n",
              "      display:flex;\n",
              "      flex-wrap:wrap;\n",
              "      gap: 12px;\n",
              "    }\n",
              "\n",
              "    .colab-df-convert {\n",
              "      background-color: #E8F0FE;\n",
              "      border: none;\n",
              "      border-radius: 50%;\n",
              "      cursor: pointer;\n",
              "      display: none;\n",
              "      fill: #1967D2;\n",
              "      height: 32px;\n",
              "      padding: 0 0 0 0;\n",
              "      width: 32px;\n",
              "    }\n",
              "\n",
              "    .colab-df-convert:hover {\n",
              "      background-color: #E2EBFA;\n",
              "      box-shadow: 0px 1px 2px rgba(60, 64, 67, 0.3), 0px 1px 3px 1px rgba(60, 64, 67, 0.15);\n",
              "      fill: #174EA6;\n",
              "    }\n",
              "\n",
              "    [theme=dark] .colab-df-convert {\n",
              "      background-color: #3B4455;\n",
              "      fill: #D2E3FC;\n",
              "    }\n",
              "\n",
              "    [theme=dark] .colab-df-convert:hover {\n",
              "      background-color: #434B5C;\n",
              "      box-shadow: 0px 1px 3px 1px rgba(0, 0, 0, 0.15);\n",
              "      filter: drop-shadow(0px 1px 2px rgba(0, 0, 0, 0.3));\n",
              "      fill: #FFFFFF;\n",
              "    }\n",
              "  </style>\n",
              "\n",
              "      <script>\n",
              "        const buttonEl =\n",
              "          document.querySelector('#df-1fadb2c4-85db-433c-b03c-4ddeea22d34a button.colab-df-convert');\n",
              "        buttonEl.style.display =\n",
              "          google.colab.kernel.accessAllowed ? 'block' : 'none';\n",
              "\n",
              "        async function convertToInteractive(key) {\n",
              "          const element = document.querySelector('#df-1fadb2c4-85db-433c-b03c-4ddeea22d34a');\n",
              "          const dataTable =\n",
              "            await google.colab.kernel.invokeFunction('convertToInteractive',\n",
              "                                                     [key], {});\n",
              "          if (!dataTable) return;\n",
              "\n",
              "          const docLinkHtml = 'Like what you see? Visit the ' +\n",
              "            '<a target=\"_blank\" href=https://colab.research.google.com/notebooks/data_table.ipynb>data table notebook</a>'\n",
              "            + ' to learn more about interactive tables.';\n",
              "          element.innerHTML = '';\n",
              "          dataTable['output_type'] = 'display_data';\n",
              "          await google.colab.output.renderOutput(dataTable, element);\n",
              "          const docLink = document.createElement('div');\n",
              "          docLink.innerHTML = docLinkHtml;\n",
              "          element.appendChild(docLink);\n",
              "        }\n",
              "      </script>\n",
              "    </div>\n",
              "  </div>\n",
              "  "
            ]
          },
          "metadata": {},
          "execution_count": 153
        }
      ]
    },
    {
      "cell_type": "code",
      "source": [
        "#Correlations to sale price sorted\n",
        "correlation['SalePrice'].sort_values()"
      ],
      "metadata": {
        "colab": {
          "base_uri": "https://localhost:8080/"
        },
        "id": "ZPZXOT2WySlk",
        "outputId": "dd6dc8e0-a1dd-48f0-8843-f545a16a9766"
      },
      "execution_count": 154,
      "outputs": [
        {
          "output_type": "execute_result",
          "data": {
            "text/plain": [
              "KitchenAbvGr    -0.135907\n",
              "EnclosedPorch   -0.128578\n",
              "MSSubClass      -0.084284\n",
              "OverallCond     -0.077856\n",
              "YrSold          -0.028923\n",
              "LowQualFinSF    -0.025606\n",
              "Id              -0.021917\n",
              "MiscVal         -0.021190\n",
              "BsmtHalfBath    -0.016844\n",
              "BsmtFinSF2      -0.011378\n",
              "3SsnPorch        0.044584\n",
              "MoSold           0.046432\n",
              "PoolArea         0.092404\n",
              "ScreenPorch      0.111447\n",
              "BedroomAbvGr     0.168213\n",
              "BsmtUnfSF        0.214479\n",
              "BsmtFullBath     0.227122\n",
              "LotArea          0.263843\n",
              "HalfBath         0.284108\n",
              "OpenPorchSF      0.315856\n",
              "2ndFlrSF         0.319334\n",
              "WoodDeckSF       0.324413\n",
              "LotFrontage      0.351799\n",
              "BsmtFinSF1       0.386420\n",
              "Fireplaces       0.466929\n",
              "MasVnrArea       0.477493\n",
              "GarageYrBlt      0.486362\n",
              "YearRemodAdd     0.507101\n",
              "YearBuilt        0.522897\n",
              "TotRmsAbvGrd     0.533723\n",
              "FullBath         0.560664\n",
              "1stFlrSF         0.605852\n",
              "TotalBsmtSF      0.613581\n",
              "GarageArea       0.623431\n",
              "GarageCars       0.640409\n",
              "GrLivArea        0.708624\n",
              "OverallQual      0.790982\n",
              "SalePrice        1.000000\n",
              "Name: SalePrice, dtype: float64"
            ]
          },
          "metadata": {},
          "execution_count": 154
        }
      ]
    },
    {
      "cell_type": "code",
      "source": [
        "housing.plot(kind=\"scatter\", x=\"OverallQual\", y=\"SalePrice\")"
      ],
      "metadata": {
        "colab": {
          "base_uri": "https://localhost:8080/",
          "height": 296
        },
        "id": "WIKSGNJw0Sg9",
        "outputId": "44f71460-acfd-4e81-b29b-6c30e0374a66"
      },
      "execution_count": 155,
      "outputs": [
        {
          "output_type": "execute_result",
          "data": {
            "text/plain": [
              "<matplotlib.axes._subplots.AxesSubplot at 0x7f021fd4da50>"
            ]
          },
          "metadata": {},
          "execution_count": 155
        },
        {
          "output_type": "display_data",
          "data": {
            "text/plain": [
              "<Figure size 432x288 with 1 Axes>"
            ],
            "image/png": "[encoded data removed]"
          },
          "metadata": {
            "needs_background": "light"
          }
        }
      ]
    },
    {
      "cell_type": "code",
      "source": [
        "housing.plot(kind=\"scatter\", x=\"GrLivArea\", y=\"SalePrice\")"
      ],
      "metadata": {
        "colab": {
          "base_uri": "https://localhost:8080/",
          "height": 296
        },
        "id": "BcUwXH8M0sl9",
        "outputId": "5a1545fd-7fef-436b-a1da-80f97ae218e8"
      },
      "execution_count": 156,
      "outputs": [
        {
          "output_type": "execute_result",
          "data": {
            "text/plain": [
              "<matplotlib.axes._subplots.AxesSubplot at 0x7f020afa8650>"
            ]
          },
          "metadata": {},
          "execution_count": 156
        },
        {
          "output_type": "display_data",
          "data": {
            "text/plain": [
              "<Figure size 432x288 with 1 Axes>"
            ],
            "image/png": "[encoded data removed]"
          },
          "metadata": {
            "needs_background": "light"
          }
        }
      ]
    },
    {
      "cell_type": "code",
      "source": [
        "housing.plot(kind=\"scatter\", x=\"GarageCars\", y=\"SalePrice\")"
      ],
      "metadata": {
        "colab": {
          "base_uri": "https://localhost:8080/",
          "height": 296
        },
        "id": "6PdcWK2k0syh",
        "outputId": "4755d5d1-d5a1-4a82-f131-2c1e931422c6"
      },
      "execution_count": 157,
      "outputs": [
        {
          "output_type": "execute_result",
          "data": {
            "text/plain": [
              "<matplotlib.axes._subplots.AxesSubplot at 0x7f020b057890>"
            ]
          },
          "metadata": {},
          "execution_count": 157
        },
        {
          "output_type": "display_data",
          "data": {
            "text/plain": [
              "<Figure size 432x288 with 1 Axes>"
            ],
            "image/png": "[encoded data removed]"
          },
          "metadata": {
            "needs_background": "light"
          }
        }
      ]
    },
    {
      "cell_type": "code",
      "source": [
        "housing.plot(kind=\"scatter\", x=\"GarageArea\", y=\"SalePrice\")"
      ],
      "metadata": {
        "colab": {
          "base_uri": "https://localhost:8080/",
          "height": 296
        },
        "id": "c5Hqoa470s6B",
        "outputId": "4153ff90-f64c-404f-b106-15577659d32f"
      },
      "execution_count": 158,
      "outputs": [
        {
          "output_type": "execute_result",
          "data": {
            "text/plain": [
              "<matplotlib.axes._subplots.AxesSubplot at 0x7f020b0218d0>"
            ]
          },
          "metadata": {},
          "execution_count": 158
        },
        {
          "output_type": "display_data",
          "data": {
            "text/plain": [
              "<Figure size 432x288 with 1 Axes>"
            ],
            "image/png": "[encoded data removed]"
          },
          "metadata": {
            "needs_background": "light"
          }
        }
      ]
    },
    {
      "cell_type": "code",
      "source": [
        "housing.plot(kind=\"scatter\", x=\"TotalBsmtSF\", y=\"SalePrice\")"
      ],
      "metadata": {
        "colab": {
          "base_uri": "https://localhost:8080/",
          "height": 296
        },
        "id": "ZsgMrGdz0tAF",
        "outputId": "8a045256-ad84-4425-b8e2-d9c805c39261"
      },
      "execution_count": 159,
      "outputs": [
        {
          "output_type": "execute_result",
          "data": {
            "text/plain": [
              "<matplotlib.axes._subplots.AxesSubplot at 0x7f020aec7750>"
            ]
          },
          "metadata": {},
          "execution_count": 159
        },
        {
          "output_type": "display_data",
          "data": {
            "text/plain": [
              "<Figure size 432x288 with 1 Axes>"
            ],
            "image/png": "[encoded data removed]"
          },
          "metadata": {
            "needs_background": "light"
          }
        }
      ]
    },
    {
      "cell_type": "markdown",
      "metadata": {
        "id": "Hr8UHps5Z0cF"
      },
      "source": [
        "##  Step 4: Data Preparation and Cleaning\n",
        "Since we can only use the \"train.csv\", you have to \"artificially\" split the data into training set, validation set, and test set. You may use the `train_test_split()` function *twice*: first is to split into train and set, then to split the train again into training and validation sets.\n",
        "\n",
        "Next, you need to construct the following:\n",
        "\n",
        "* **Data Cleaning:** If your dataset has some missing values, make sure you are able to fill those values with the `Imputer` class. \n",
        "\n",
        "* **Feature Scaling:** Your task is to call the `StandardScaler` to normalize the value of each feature.\n",
        "\n",
        "* **Transformation Pipeline:** More importantly, you will need to integrate the above operations into a `Pipeline` to process and transform the training data (via `fit_transform()`), then use the same pipeline to transform any validation and testing data (using `transform()` only)."
      ]
    },
    {
      "cell_type": "code",
      "metadata": {
        "id": "ju-kzr0LaFb_"
      },
      "source": [
        "# Your code check for missing values, feature scaling, and put all transformation into a pipeline here\n",
        "from sklearn.model_selection import train_test_split\n",
        "# Split the data into train set (80%) and test set (20%)\n",
        "train_set, housing_test_set = train_test_split(housing, test_size=0.2, random_state=42)\n",
        "#housing_train_set, housing_validation_set = train_test_split(train_set, test_size=0.2, random_state=42)"
      ],
      "execution_count": 160,
      "outputs": []
    },
    {
      "cell_type": "code",
      "source": [
        "housing_train_set, housing_validation_set = train_test_split(train_set, test_size=0.2, random_state=42)"
      ],
      "metadata": {
        "id": "GkFTWbOlr5mV"
      },
      "execution_count": 161,
      "outputs": []
    },
    {
      "cell_type": "code",
      "source": [
        "#Create labels for each set\n",
        "train_labels = housing_train_set['SalePrice']\n",
        "validation_labels = housing_validation_set['SalePrice']\n",
        "test_labels = housing_test_set['SalePrice']\n",
        "\n",
        "#Drop labels in each set\n",
        "housing_train_set.drop(['SalePrice'], axis = 1, inplace = True)\n",
        "housing_validation_set.drop(['SalePrice'], axis = 1, inplace = True)\n",
        "housing_test_set.drop(['SalePrice'], axis = 1, inplace = True)"
      ],
      "metadata": {
        "id": "Ws0U8BkdsD-a"
      },
      "execution_count": 162,
      "outputs": []
    },
    {
      "cell_type": "code",
      "source": [
        "from sklearn.impute import SimpleImputer\n",
        "imputer = SimpleImputer(strategy=\"median\")"
      ],
      "metadata": {
        "id": "HLFomIc2aqvH"
      },
      "execution_count": 163,
      "outputs": []
    },
    {
      "cell_type": "code",
      "source": [
        "housing_num_tr = housing_train_set._get_numeric_data()\n",
        "numeric_columns = housing_num_tr.columns"
      ],
      "metadata": {
        "id": "ACrnzRS9bAMi"
      },
      "execution_count": 164,
      "outputs": []
    },
    {
      "cell_type": "code",
      "source": [
        "# imputer.fit(housing_num)"
      ],
      "metadata": {
        "id": "jjT4UuUOKz6Z"
      },
      "execution_count": 165,
      "outputs": []
    },
    {
      "cell_type": "code",
      "source": [
        "# X = imputer.transform(housing_num)"
      ],
      "metadata": {
        "id": "ahfQUqzjOPpN"
      },
      "execution_count": 166,
      "outputs": []
    },
    {
      "cell_type": "code",
      "source": [
        "# housing_fixedNum = pd.DataFrame(X, columns=housing_num.columns,\n",
        "#                           index=housing.index)"
      ],
      "metadata": {
        "id": "UqknIutLOPxz"
      },
      "execution_count": 167,
      "outputs": []
    },
    {
      "cell_type": "code",
      "source": [
        "# housing_fixedNum.head()"
      ],
      "metadata": {
        "id": "YUspskUGSAps"
      },
      "execution_count": 168,
      "outputs": []
    },
    {
      "cell_type": "code",
      "source": [
        "housing_cat_tr = housing_train_set.drop(numeric_columns, axis = 1)"
      ],
      "metadata": {
        "id": "ljT3irnFOP5R"
      },
      "execution_count": 169,
      "outputs": []
    },
    {
      "cell_type": "code",
      "source": [
        "# housing_cat.head()"
      ],
      "metadata": {
        "id": "iMqGYmerqX7u"
      },
      "execution_count": 170,
      "outputs": []
    },
    {
      "cell_type": "code",
      "source": [
        "# from sklearn.preprocessing import OneHotEncoder\n",
        "\n",
        "# cat_encoder = OneHotEncoder()\n",
        "# housing_cat_1hot = cat_encoder.fit_transform(housing_cat)\n",
        "# housing_cat_1hot = housing_cat_1hot.toarray()"
      ],
      "metadata": {
        "id": "G-AkxFGXSNJD"
      },
      "execution_count": 171,
      "outputs": []
    },
    {
      "cell_type": "code",
      "source": [
        "# housing_cat_1hot"
      ],
      "metadata": {
        "id": "9pwMynXwSNYC"
      },
      "execution_count": 172,
      "outputs": []
    },
    {
      "cell_type": "code",
      "source": [
        "# housing_cat_1hotdf = pd.DataFrame(housing_cat_1hot)"
      ],
      "metadata": {
        "id": "KnadwSiwmpu3"
      },
      "execution_count": 173,
      "outputs": []
    },
    {
      "cell_type": "code",
      "source": [
        "from sklearn.pipeline import Pipeline\n",
        "from sklearn.preprocessing import StandardScaler\n",
        "num_pipeline = Pipeline([\n",
        "        ('imputer', SimpleImputer(strategy=\"median\")),\n",
        "        ('std_scaler', StandardScaler()),\n",
        "    ])"
      ],
      "metadata": {
        "id": "B1MOqh6hWi6V"
      },
      "execution_count": 174,
      "outputs": []
    },
    {
      "cell_type": "code",
      "source": [
        "from sklearn.compose import ColumnTransformer\n",
        "from sklearn.preprocessing import OneHotEncoder\n",
        "\n",
        "num_attribs = list(housing_num_tr)\n",
        "cat_attribs = list(housing_cat_tr)\n",
        "\n",
        "full_pipeline = ColumnTransformer([\n",
        "        (\"num\", num_pipeline, num_attribs),\n",
        "        (\"cat\", OneHotEncoder(), cat_attribs),\n",
        "    ])\n",
        "\n",
        "housing_prepared_tr = full_pipeline.fit_transform(housing_train_set)\n",
        "housing_prepared_val = full_pipeline.fit_transform(housing_validation_set)\n",
        "housing_prepared_test = full_pipeline.fit_transform(housing_test_set)"
      ],
      "metadata": {
        "id": "DmQdnKz4Wsll"
      },
      "execution_count": 175,
      "outputs": []
    },
    {
      "cell_type": "markdown",
      "metadata": {
        "id": "8ExMZjJgaZ7j"
      },
      "source": [
        "## Step 5: Model Selection\n",
        "You should use (at the minimum) the basic ML models which we’ve covered: `LinearRegression`, `DecisionTreeRegressor`, `RandomForestRegressor`. Optionally, you may go for the extra miles by doing some research and try some more advanced models (ie. `Artificial Neural Networks`). You may use `RMSE` as the performance measure.\n",
        "\n",
        "You must use 5-fold CV on the data set to evaluate the performance of your models (following the sample codes on Colab 02).\n"
      ]
    },
    {
      "cell_type": "code",
      "metadata": {
        "id": "waI2JEldacQF",
        "colab": {
          "base_uri": "https://localhost:8080/"
        },
        "outputId": "dc15eee2-a713-4347-dd8e-1d2509a38a69"
      },
      "source": [
        "# Try a few models here\n",
        "from sklearn.linear_model import LinearRegression\n",
        "\n",
        "lin_reg = LinearRegression()\n",
        "lin_reg.fit(housing_prepared_tr, train_labels)"
      ],
      "execution_count": 176,
      "outputs": [
        {
          "output_type": "execute_result",
          "data": {
            "text/plain": [
              "LinearRegression()"
            ]
          },
          "metadata": {},
          "execution_count": 176
        }
      ]
    },
    {
      "cell_type": "code",
      "source": [
        "from sklearn.model_selection import cross_val_score\n",
        "import numpy as np\n",
        "\n",
        "scores = cross_val_score(lin_reg, housing_prepared_tr, train_labels,\n",
        "                         scoring=\"neg_mean_squared_error\", cv=5)\n",
        "print(\"Lin Reg Training Scores\")\n",
        "display(np.sqrt(-scores))\n",
        "\n",
        "scores = cross_val_score(lin_reg, housing_prepared_val, validation_labels,\n",
        "                         scoring=\"neg_mean_squared_error\", cv=5)\n",
        "print(\"Lin Reg Validation Scores\")\n",
        "display(np.sqrt(-scores))\n",
        "\n",
        "scores = cross_val_score(lin_reg, housing_prepared_test, test_labels,\n",
        "                         scoring=\"neg_mean_squared_error\", cv=5)\n",
        "print(\"Lin Reg Testing Scores\")\n",
        "display(np.sqrt(-scores))"
      ],
      "metadata": {
        "colab": {
          "base_uri": "https://localhost:8080/",
          "height": 173
        },
        "id": "yRz7hHqX2wlb",
        "outputId": "6ffe5d34-e458-46af-8a53-be74760638c1"
      },
      "execution_count": 177,
      "outputs": [
        {
          "output_type": "stream",
          "name": "stdout",
          "text": [
            "Lin Reg Training Scores\n"
          ]
        },
        {
          "output_type": "display_data",
          "data": {
            "text/plain": [
              "array([30319.80575844, 64865.50342669, 83766.51380075, 35215.788958  ,\n",
              "       67551.25760664])"
            ]
          },
          "metadata": {}
        },
        {
          "output_type": "stream",
          "name": "stdout",
          "text": [
            "Lin Reg Validation Scores\n"
          ]
        },
        {
          "output_type": "display_data",
          "data": {
            "text/plain": [
              "array([ 727449.80951909,  370362.56783204,  700801.34275039,\n",
              "       5253711.93951888,  534146.8364901 ])"
            ]
          },
          "metadata": {}
        },
        {
          "output_type": "stream",
          "name": "stdout",
          "text": [
            "Lin Reg Testing Scores\n"
          ]
        },
        {
          "output_type": "display_data",
          "data": {
            "text/plain": [
              "array([2.50818737e+15, 4.02552545e+16, 5.56619798e+15, 9.48892213e+17,\n",
              "       1.81770487e+16])"
            ]
          },
          "metadata": {}
        }
      ]
    },
    {
      "cell_type": "code",
      "source": [
        "from sklearn.tree import DecisionTreeRegressor\n",
        "\n",
        "tree_reg = DecisionTreeRegressor(random_state=42)\n",
        "tree_reg.fit(housing_prepared_tr, train_labels)"
      ],
      "metadata": {
        "colab": {
          "base_uri": "https://localhost:8080/"
        },
        "id": "4eS9orw38CB9",
        "outputId": "7935d5c5-9eeb-418a-d290-66ffc88aacfe"
      },
      "execution_count": 178,
      "outputs": [
        {
          "output_type": "execute_result",
          "data": {
            "text/plain": [
              "DecisionTreeRegressor(random_state=42)"
            ]
          },
          "metadata": {},
          "execution_count": 178
        }
      ]
    },
    {
      "cell_type": "code",
      "source": [
        "scores = cross_val_score(tree_reg, housing_prepared_tr, train_labels,\n",
        "                         scoring=\"neg_mean_squared_error\", cv=5)\n",
        "print(\"Tree Reg Training Scores\")\n",
        "display(np.sqrt(-scores))\n",
        "\n",
        "scores = cross_val_score(tree_reg, housing_prepared_val, validation_labels,\n",
        "                         scoring=\"neg_mean_squared_error\", cv=5)\n",
        "print(\"Tree Reg Validation Scores\")\n",
        "display(np.sqrt(-scores))\n",
        "\n",
        "scores = cross_val_score(tree_reg, housing_prepared_test, test_labels,\n",
        "                         scoring=\"neg_mean_squared_error\", cv=5)\n",
        "print(\"Tree Reg Testing Scores\")\n",
        "display(np.sqrt(-scores))"
      ],
      "metadata": {
        "colab": {
          "base_uri": "https://localhost:8080/",
          "height": 173
        },
        "id": "1XiMratF8HdP",
        "outputId": "2c4f82c2-803c-40fc-db64-fae3431c1cf0"
      },
      "execution_count": 179,
      "outputs": [
        {
          "output_type": "stream",
          "name": "stdout",
          "text": [
            "Tree Reg Training Scores\n"
          ]
        },
        {
          "output_type": "display_data",
          "data": {
            "text/plain": [
              "array([36985.26347884, 60503.01088561, 37575.96936304, 39474.34502842,\n",
              "       36055.70657919])"
            ]
          },
          "metadata": {}
        },
        {
          "output_type": "stream",
          "name": "stdout",
          "text": [
            "Tree Reg Validation Scores\n"
          ]
        },
        {
          "output_type": "display_data",
          "data": {
            "text/plain": [
              "array([32866.69174233, 40574.96922378, 55005.50606443, 35692.86502036,\n",
              "       58754.51778097])"
            ]
          },
          "metadata": {}
        },
        {
          "output_type": "stream",
          "name": "stdout",
          "text": [
            "Tree Reg Testing Scores\n"
          ]
        },
        {
          "output_type": "display_data",
          "data": {
            "text/plain": [
              "array([66029.1098579 , 57080.72202295, 59375.68452876, 33688.74255491,\n",
              "       37188.85383233])"
            ]
          },
          "metadata": {}
        }
      ]
    },
    {
      "cell_type": "code",
      "source": [
        "from sklearn.ensemble import RandomForestRegressor\n",
        "\n",
        "forest_reg = RandomForestRegressor(n_estimators=100, random_state=42)\n",
        "forest_reg.fit(housing_prepared_tr, train_labels)"
      ],
      "metadata": {
        "colab": {
          "base_uri": "https://localhost:8080/"
        },
        "id": "jKU4YBIL9Wzk",
        "outputId": "8c57bd5a-7cfa-4845-c63b-4cd312a1d679"
      },
      "execution_count": 180,
      "outputs": [
        {
          "output_type": "execute_result",
          "data": {
            "text/plain": [
              "RandomForestRegressor(random_state=42)"
            ]
          },
          "metadata": {},
          "execution_count": 180
        }
      ]
    },
    {
      "cell_type": "code",
      "source": [
        "scores = cross_val_score(forest_reg, housing_prepared_tr, train_labels,\n",
        "                         scoring=\"neg_mean_squared_error\", cv=5)\n",
        "print(\"Random Forest Reg Training Scores\")\n",
        "display(np.sqrt(-scores))\n",
        "\n",
        "scores = cross_val_score(forest_reg, housing_prepared_val, validation_labels,\n",
        "                         scoring=\"neg_mean_squared_error\", cv=5)\n",
        "print(\"Random Forest Validation Scores\")\n",
        "display(np.sqrt(-scores))\n",
        "\n",
        "scores = cross_val_score(forest_reg, housing_prepared_test, test_labels,\n",
        "                         scoring=\"neg_mean_squared_error\", cv=5)\n",
        "print(\"Random Forest Testing Scores\")\n",
        "display(np.sqrt(-scores))"
      ],
      "metadata": {
        "colab": {
          "base_uri": "https://localhost:8080/",
          "height": 173
        },
        "id": "C6M8MqLw9W7l",
        "outputId": "efd829f3-e194-4575-fab9-e427d36df9ea"
      },
      "execution_count": 181,
      "outputs": [
        {
          "output_type": "stream",
          "name": "stdout",
          "text": [
            "Random Forest Reg Training Scores\n"
          ]
        },
        {
          "output_type": "display_data",
          "data": {
            "text/plain": [
              "array([28146.88915091, 46864.31064234, 22769.08199062, 28697.81711254,\n",
              "       26073.56866521])"
            ]
          },
          "metadata": {}
        },
        {
          "output_type": "stream",
          "name": "stdout",
          "text": [
            "Random Forest Validation Scores\n"
          ]
        },
        {
          "output_type": "display_data",
          "data": {
            "text/plain": [
              "array([24313.93306409, 29159.03912728, 45136.36858924, 21200.53186927,\n",
              "       46107.3564337 ])"
            ]
          },
          "metadata": {}
        },
        {
          "output_type": "stream",
          "name": "stdout",
          "text": [
            "Random Forest Testing Scores\n"
          ]
        },
        {
          "output_type": "display_data",
          "data": {
            "text/plain": [
              "array([26402.14935885, 36341.00895974, 51314.53789032, 29179.28501832,\n",
              "       22779.72836809])"
            ]
          },
          "metadata": {}
        }
      ]
    },
    {
      "cell_type": "markdown",
      "metadata": {
        "id": "FFiwPfmZeK2i"
      },
      "source": [
        "## Step 6: Model Tuning\n",
        "\n",
        "In this step, you should attempt to use one of the provided tools for hyperparameter tuning: `GridSearchCV`, `RandomizedSearchCV` to identify the best set of hyperparameters for your model. After tweaking your models, you eventually should report the 5-fold CV RMSE of your tuned model."
      ]
    },
    {
      "cell_type": "code",
      "metadata": {
        "id": "xmXB7iTPdIuu",
        "colab": {
          "base_uri": "https://localhost:8080/"
        },
        "outputId": "e244066d-5139-463d-eda8-6617cb881095"
      },
      "source": [
        "from sklearn.model_selection import RandomizedSearchCV\n",
        "from scipy.stats import randint\n",
        "\n",
        "param_distribs = {\n",
        "        'n_estimators': randint(low=1, high=200),\n",
        "        'max_features': randint(low=1, high=79),\n",
        "    }\n",
        "\n",
        "forest_reg = RandomForestRegressor(random_state=42)\n",
        "rnd_search = RandomizedSearchCV(forest_reg, param_distributions=param_distribs,\n",
        "                                n_iter=10, cv=5, scoring='neg_mean_squared_error', random_state=42)\n",
        "rnd_search.fit(housing_prepared_tr, train_labels)"
      ],
      "execution_count": 182,
      "outputs": [
        {
          "output_type": "execute_result",
          "data": {
            "text/plain": [
              "RandomizedSearchCV(cv=5, estimator=RandomForestRegressor(random_state=42),\n",
              "                   param_distributions={'max_features': <scipy.stats._distn_infrastructure.rv_frozen object at 0x7f020b1604d0>,\n",
              "                                        'n_estimators': <scipy.stats._distn_infrastructure.rv_frozen object at 0x7f020af3d090>},\n",
              "                   random_state=42, scoring='neg_mean_squared_error')"
            ]
          },
          "metadata": {},
          "execution_count": 182
        }
      ]
    },
    {
      "cell_type": "code",
      "source": [
        "rnd_search.best_params_"
      ],
      "metadata": {
        "colab": {
          "base_uri": "https://localhost:8080/"
        },
        "id": "r_hOd0vpH-s4",
        "outputId": "6763829a-0449-412d-ff60-a1bc2effe875"
      },
      "execution_count": 183,
      "outputs": [
        {
          "output_type": "execute_result",
          "data": {
            "text/plain": [
              "{'max_features': 72, 'n_estimators': 189}"
            ]
          },
          "metadata": {},
          "execution_count": 183
        }
      ]
    },
    {
      "cell_type": "code",
      "source": [
        "forest_reg = RandomForestRegressor(n_estimators=189, max_features = 72, random_state=42)\n",
        "forest_reg.fit(housing_prepared_tr, train_labels)"
      ],
      "metadata": {
        "colab": {
          "base_uri": "https://localhost:8080/"
        },
        "id": "XeLuP15vJJev",
        "outputId": "eb595452-d1a6-4aae-d4ce-9581fcfceec3"
      },
      "execution_count": 186,
      "outputs": [
        {
          "output_type": "execute_result",
          "data": {
            "text/plain": [
              "RandomForestRegressor(max_features=72, n_estimators=189, random_state=42)"
            ]
          },
          "metadata": {},
          "execution_count": 186
        }
      ]
    },
    {
      "cell_type": "code",
      "source": [
        "scores = cross_val_score(forest_reg, housing_prepared_tr, train_labels,\n",
        "                         scoring=\"neg_mean_squared_error\", cv=5)\n",
        "print(\"Final Random Forest Reg Training Scores\")\n",
        "display(np.sqrt(-scores))\n",
        "\n",
        "scores = cross_val_score(forest_reg, housing_prepared_val, validation_labels,\n",
        "                         scoring=\"neg_mean_squared_error\", cv=5)\n",
        "print(\"Final Random Forest Validation Scores\")\n",
        "display(np.sqrt(-scores))\n",
        "\n",
        "scores = cross_val_score(forest_reg, housing_prepared_test, test_labels,\n",
        "                         scoring=\"neg_mean_squared_error\", cv=5)\n",
        "print(\"Final Random Forest Testing Scores\")\n",
        "display(np.sqrt(-scores))"
      ],
      "metadata": {
        "colab": {
          "base_uri": "https://localhost:8080/",
          "height": 173
        },
        "id": "zhD4-MPVJUiL",
        "outputId": "af252217-7d0d-4891-cc70-1e7de46bdb85"
      },
      "execution_count": 187,
      "outputs": [
        {
          "output_type": "stream",
          "name": "stdout",
          "text": [
            "Final Random Forest Reg Training Scores\n"
          ]
        },
        {
          "output_type": "display_data",
          "data": {
            "text/plain": [
              "array([28137.24685508, 44539.20172513, 23052.24030514, 27992.91902514,\n",
              "       26257.40057284])"
            ]
          },
          "metadata": {}
        },
        {
          "output_type": "stream",
          "name": "stdout",
          "text": [
            "Final Random Forest Validation Scores\n"
          ]
        },
        {
          "output_type": "display_data",
          "data": {
            "text/plain": [
              "array([20986.35153211, 25745.88037227, 42576.62951786, 25403.37636047,\n",
              "       45239.64611782])"
            ]
          },
          "metadata": {}
        },
        {
          "output_type": "stream",
          "name": "stdout",
          "text": [
            "Final Random Forest Testing Scores\n"
          ]
        },
        {
          "output_type": "display_data",
          "data": {
            "text/plain": [
              "array([29182.4222638 , 35580.28244673, 56228.87973745, 27389.36977939,\n",
              "       24483.97974405])"
            ]
          },
          "metadata": {}
        }
      ]
    },
    {
      "cell_type": "markdown",
      "metadata": {
        "id": "K3YvBnpUeSEH"
      },
      "source": [
        "## Step 7: Solution Presentation\n",
        "Now that you need to write a short memo of one paragraph to be read by a non-technical audience (ie. your manager/supervisor). Focus on answering the following: \n",
        "\n",
        "* How can you pitch your solution to this project? \n",
        "* What did you learn so far about the problem?\n",
        "* Is there any insight moving forward to improve the solution?"
      ]
    },
    {
      "cell_type": "code",
      "metadata": {
        "id": "-nu7XgXRee3R",
        "colab": {
          "base_uri": "https://localhost:8080/"
        },
        "outputId": "2c0a9b37-0234-4b00-f3ad-7855a219b557"
      },
      "source": [
        "test_labels.mean()"
      ],
      "execution_count": 189,
      "outputs": [
        {
          "output_type": "execute_result",
          "data": {
            "text/plain": [
              "178839.81164383562"
            ]
          },
          "metadata": {},
          "execution_count": 189
        }
      ]
    },
    {
      "cell_type": "code",
      "source": [
        "(np.sqrt(-scores)).mean()"
      ],
      "metadata": {
        "colab": {
          "base_uri": "https://localhost:8080/"
        },
        "id": "S3yEDwzaVhWl",
        "outputId": "d66b12d2-c110-45a5-e53b-67d18a18c068"
      },
      "execution_count": 192,
      "outputs": [
        {
          "output_type": "execute_result",
          "data": {
            "text/plain": [
              "34572.98679428226"
            ]
          },
          "metadata": {},
          "execution_count": 192
        }
      ]
    },
    {
      "cell_type": "markdown",
      "source": [
        "Within the data used to test the optimized algorithm, the average sale price of a house was 178,839 dollars. The average RMSE from the tests is well below this value; it was 34,572; therefore, we can predict the sale price of a house with moderate accuracy. Most features were used to contribute to this prediction (72 of the 79) and features such as overall quality or general living area had greater importance than other features. To improve the solution, feature engineering could be performed to find create more data or a more complicated algorithm could be tested. However, the random forest regressor in this project was able to adequately create predictions using the given data."
      ],
      "metadata": {
        "id": "Y-gfcJc6VFZR"
      }
    },
    {
      "cell_type": "markdown",
      "metadata": {
        "id": "HrRRoBcWeVju"
      },
      "source": [
        "## Step 8: Model Launching, Monitoring, and Updating\n",
        "You don't need to do anything for this step. However, in the real-world, this is an iterative process where you launch, monitor, and update your model (on the cloud).\n",
        "\n",
        "In case you get stuck in any step in the process, you may find some useful information from:\n",
        "\n",
        " * Consult my slides and/or the textbook\n",
        " * Talk to the TA, they are available and there to help you during their office hours\n",
        " * Come talk to me or email me <nn4pj@virginia.edu> with subject starting \"CS4774 Codeathon 1:...\".\n",
        "\n",
        "Best of luck and have fun!"
      ]
    },
    {
      "cell_type": "code",
      "metadata": {
        "id": "Tzpq8NedeU-m"
      },
      "source": [],
      "execution_count": 185,
      "outputs": []
    }
  ]
}