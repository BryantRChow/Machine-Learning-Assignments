{
  "nbformat": 4,
  "nbformat_minor": 0,
  "metadata": {
    "kernelspec": {
      "display_name": "Python 3",
      "language": "python",
      "name": "python3"
    },
    "language_info": {
      "codemirror_mode": {
        "name": "ipython",
        "version": 3
      },
      "file_extension": ".py",
      "mimetype": "text/x-python",
      "name": "python",
      "nbconvert_exporter": "python",
      "pygments_lexer": "ipython3",
      "version": "3.7.0"
    },
    "colab": {
      "provenance": [],
      "collapsed_sections": []
    }
  },
  "cells": [
    {
      "cell_type": "markdown",
      "metadata": {
        "id": "s-RzEZEBR10z"
      },
      "source": [
        "# Assignment 1: Comparison of Regression Models on Predicting Medical Costs"
      ]
    },
    {
      "cell_type": "markdown",
      "metadata": {
        "id": "0qYDyMDTR100"
      },
      "source": [
        "### CS 4774 Machine Learning - Department of Computer Science - University of Virginia\n",
        "![Medical Cost](https://creditkarma-cms.imgix.net/wp-content/uploads/2018/04/boomers-gen-x-high-cost-medical-care.jpg)\n",
        "In this assignment, you will implement some learning models in the context of a **regression** problem in the [Medical Cost Personal Dataset on Kaggle](https://www.kaggle.com/mirichoi0218/insurance). Specifically, you will attempt to predict the medical cost billed by health insurance using other provided patient's data. For references, you may refer to [my slides](https://docs.google.com/presentation/d/10D1he89peAWaFgjtZlHpUzvOOAie_vIFT95htKCKgc0/edit#slide=id.p) or the Google Colab if you need additional sample codes to help with your assignment. To get started, you will need to upload/copy the dataset (.csv) into the same folder as this file. \n",
        "\n",
        "For deliverables, you must write code in Colab and submit the downloaded Jupyter Notebook file (.ipynb) to earn a total of 100 pts. You will gain points depending on how you perform in the following sections.\n"
      ]
    },
    {
      "cell_type": "markdown",
      "metadata": {
        "id": "l0lLa-xiR101"
      },
      "source": [
        "***\n",
        "##  Task 1: SEE THE BIG PICTURE\n",
        "Write a paragraph explaining the context of the problem in which you are trying to investigate. We will assume that the data file is put into the same workspace on Colab. Then, you can write some code to load the CSV file and take a quick look at the dataset, and output the following:\n",
        "\n",
        " * How big is your dataset? (in terms of MB)\n",
        " * How many entries does it have?\n",
        " * How many features does it have?\n",
        " * Does it contain any categorical data?\n",
        " * Is there any missing value?\n",
        " * What are some basic statistics you can learn right away about this dataset?"
      ]
    },
    {
      "cell_type": "markdown",
      "source": [
        "**Context** <br>\n",
        "The purpose of this project is to create a multivariate regression algorithm to try and predict the cost of health insurance bills for different people. This can be useful to people as they can know what to expect when it comes to paying for health insurance; this will allow them to now if they're overpaying or it will help them plan a budget beforehand. <br>\n",
        "Root mean squared error will be the main error evaluator as it's a commonly standard for multivariate regression algorithms. The dataset used includes 1338 entries where age, sex, bmi, children status, smoker status, geographic region, and insurance charges are given for different patients."
      ],
      "metadata": {
        "id": "FJqmzvWmOppZ"
      }
    },
    {
      "cell_type": "code",
      "metadata": {
        "id": "ujitZUYeR101",
        "colab": {
          "base_uri": "https://localhost:8080/",
          "height": 206
        },
        "outputId": "3e188949-a2ba-4402-8831-e48a164dde47"
      },
      "source": [
        "# Import some common packages\n",
        "import os\n",
        "import numpy as np\n",
        "import matplotlib\n",
        "import matplotlib.pyplot as plt\n",
        "import pandas as pd\n",
        "\n",
        "# to make this notebook's output stable across runs\n",
        "np.random.seed(42)\n",
        "\n",
        "# Your code goes here for this section, make sure you also include the output to answer the above questions.\n",
        "insurance  = pd.read_csv(\"insurance.csv\")\n",
        "insurance.head()"
      ],
      "execution_count": 104,
      "outputs": [
        {
          "output_type": "execute_result",
          "data": {
            "text/plain": [
              "   age     sex     bmi  children smoker     region      charges\n",
              "0   19  female  27.900         0    yes  southwest  16884.92400\n",
              "1   18    male  33.770         1     no  southeast   1725.55230\n",
              "2   28    male  33.000         3     no  southeast   4449.46200\n",
              "3   33    male  22.705         0     no  northwest  21984.47061\n",
              "4   32    male  28.880         0     no  northwest   3866.85520"
            ],
            "text/html": [
              "\n",
              "  <div id=\"df-254ea7b3-ee99-4c0c-bd81-f1dd543adbb4\">\n",
              "    <div class=\"colab-df-container\">\n",
              "      <div>\n",
              "<style scoped>\n",
              "    .dataframe tbody tr th:only-of-type {\n",
              "        vertical-align: middle;\n",
              "    }\n",
              "\n",
              "    .dataframe tbody tr th {\n",
              "        vertical-align: top;\n",
              "    }\n",
              "\n",
              "    .dataframe thead th {\n",
              "        text-align: right;\n",
              "    }\n",
              "</style>\n",
              "<table border=\"1\" class=\"dataframe\">\n",
              "  <thead>\n",
              "    <tr style=\"text-align: right;\">\n",
              "      <th></th>\n",
              "      <th>age</th>\n",
              "      <th>sex</th>\n",
              "      <th>bmi</th>\n",
              "      <th>children</th>\n",
              "      <th>smoker</th>\n",
              "      <th>region</th>\n",
              "      <th>charges</th>\n",
              "    </tr>\n",
              "  </thead>\n",
              "  <tbody>\n",
              "    <tr>\n",
              "      <th>0</th>\n",
              "      <td>19</td>\n",
              "      <td>female</td>\n",
              "      <td>27.900</td>\n",
              "      <td>0</td>\n",
              "      <td>yes</td>\n",
              "      <td>southwest</td>\n",
              "      <td>16884.92400</td>\n",
              "    </tr>\n",
              "    <tr>\n",
              "      <th>1</th>\n",
              "      <td>18</td>\n",
              "      <td>male</td>\n",
              "      <td>33.770</td>\n",
              "      <td>1</td>\n",
              "      <td>no</td>\n",
              "      <td>southeast</td>\n",
              "      <td>1725.55230</td>\n",
              "    </tr>\n",
              "    <tr>\n",
              "      <th>2</th>\n",
              "      <td>28</td>\n",
              "      <td>male</td>\n",
              "      <td>33.000</td>\n",
              "      <td>3</td>\n",
              "      <td>no</td>\n",
              "      <td>southeast</td>\n",
              "      <td>4449.46200</td>\n",
              "    </tr>\n",
              "    <tr>\n",
              "      <th>3</th>\n",
              "      <td>33</td>\n",
              "      <td>male</td>\n",
              "      <td>22.705</td>\n",
              "      <td>0</td>\n",
              "      <td>no</td>\n",
              "      <td>northwest</td>\n",
              "      <td>21984.47061</td>\n",
              "    </tr>\n",
              "    <tr>\n",
              "      <th>4</th>\n",
              "      <td>32</td>\n",
              "      <td>male</td>\n",
              "      <td>28.880</td>\n",
              "      <td>0</td>\n",
              "      <td>no</td>\n",
              "      <td>northwest</td>\n",
              "      <td>3866.85520</td>\n",
              "    </tr>\n",
              "  </tbody>\n",
              "</table>\n",
              "</div>\n",
              "      <button class=\"colab-df-convert\" onclick=\"convertToInteractive('df-254ea7b3-ee99-4c0c-bd81-f1dd543adbb4')\"\n",
              "              title=\"Convert this dataframe to an interactive table.\"\n",
              "              style=\"display:none;\">\n",
              "        \n",
              "  <svg xmlns=\"http://www.w3.org/2000/svg\" height=\"24px\"viewBox=\"0 0 24 24\"\n",
              "       width=\"24px\">\n",
              "    <path d=\"M0 0h24v24H0V0z\" fill=\"none\"/>\n",
              "    <path d=\"M18.56 5.44l.94 2.06.94-2.06 2.06-.94-2.06-.94-.94-2.06-.94 2.06-2.06.94zm-11 1L8.5 8.5l.94-2.06 2.06-.94-2.06-.94L8.5 2.5l-.94 2.06-2.06.94zm10 10l.94 2.06.94-2.06 2.06-.94-2.06-.94-.94-2.06-.94 2.06-2.06.94z\"/><path d=\"M17.41 7.96l-1.37-1.37c-.4-.4-.92-.59-1.43-.59-.52 0-1.04.2-1.43.59L10.3 9.45l-7.72 7.72c-.78.78-.78 2.05 0 2.83L4 21.41c.39.39.9.59 1.41.59.51 0 1.02-.2 1.41-.59l7.78-7.78 2.81-2.81c.8-.78.8-2.07 0-2.86zM5.41 20L4 18.59l7.72-7.72 1.47 1.35L5.41 20z\"/>\n",
              "  </svg>\n",
              "      </button>\n",
              "      \n",
              "  <style>\n",
              "    .colab-df-container {\n",
              "      display:flex;\n",
              "      flex-wrap:wrap;\n",
              "      gap: 12px;\n",
              "    }\n",
              "\n",
              "    .colab-df-convert {\n",
              "      background-color: #E8F0FE;\n",
              "      border: none;\n",
              "      border-radius: 50%;\n",
              "      cursor: pointer;\n",
              "      display: none;\n",
              "      fill: #1967D2;\n",
              "      height: 32px;\n",
              "      padding: 0 0 0 0;\n",
              "      width: 32px;\n",
              "    }\n",
              "\n",
              "    .colab-df-convert:hover {\n",
              "      background-color: #E2EBFA;\n",
              "      box-shadow: 0px 1px 2px rgba(60, 64, 67, 0.3), 0px 1px 3px 1px rgba(60, 64, 67, 0.15);\n",
              "      fill: #174EA6;\n",
              "    }\n",
              "\n",
              "    [theme=dark] .colab-df-convert {\n",
              "      background-color: #3B4455;\n",
              "      fill: #D2E3FC;\n",
              "    }\n",
              "\n",
              "    [theme=dark] .colab-df-convert:hover {\n",
              "      background-color: #434B5C;\n",
              "      box-shadow: 0px 1px 3px 1px rgba(0, 0, 0, 0.15);\n",
              "      filter: drop-shadow(0px 1px 2px rgba(0, 0, 0, 0.3));\n",
              "      fill: #FFFFFF;\n",
              "    }\n",
              "  </style>\n",
              "\n",
              "      <script>\n",
              "        const buttonEl =\n",
              "          document.querySelector('#df-254ea7b3-ee99-4c0c-bd81-f1dd543adbb4 button.colab-df-convert');\n",
              "        buttonEl.style.display =\n",
              "          google.colab.kernel.accessAllowed ? 'block' : 'none';\n",
              "\n",
              "        async function convertToInteractive(key) {\n",
              "          const element = document.querySelector('#df-254ea7b3-ee99-4c0c-bd81-f1dd543adbb4');\n",
              "          const dataTable =\n",
              "            await google.colab.kernel.invokeFunction('convertToInteractive',\n",
              "                                                     [key], {});\n",
              "          if (!dataTable) return;\n",
              "\n",
              "          const docLinkHtml = 'Like what you see? Visit the ' +\n",
              "            '<a target=\"_blank\" href=https://colab.research.google.com/notebooks/data_table.ipynb>data table notebook</a>'\n",
              "            + ' to learn more about interactive tables.';\n",
              "          element.innerHTML = '';\n",
              "          dataTable['output_type'] = 'display_data';\n",
              "          await google.colab.output.renderOutput(dataTable, element);\n",
              "          const docLink = document.createElement('div');\n",
              "          docLink.innerHTML = docLinkHtml;\n",
              "          element.appendChild(docLink);\n",
              "        }\n",
              "      </script>\n",
              "    </div>\n",
              "  </div>\n",
              "  "
            ]
          },
          "metadata": {},
          "execution_count": 104
        }
      ]
    },
    {
      "cell_type": "code",
      "source": [
        "insurance.info()"
      ],
      "metadata": {
        "colab": {
          "base_uri": "https://localhost:8080/"
        },
        "id": "EU5TWVExS3zK",
        "outputId": "ae552765-6ab8-4c06-a9d1-884c917f5138"
      },
      "execution_count": 105,
      "outputs": [
        {
          "output_type": "stream",
          "name": "stdout",
          "text": [
            "<class 'pandas.core.frame.DataFrame'>\n",
            "RangeIndex: 1338 entries, 0 to 1337\n",
            "Data columns (total 7 columns):\n",
            " #   Column    Non-Null Count  Dtype  \n",
            "---  ------    --------------  -----  \n",
            " 0   age       1338 non-null   int64  \n",
            " 1   sex       1338 non-null   object \n",
            " 2   bmi       1338 non-null   float64\n",
            " 3   children  1338 non-null   int64  \n",
            " 4   smoker    1338 non-null   object \n",
            " 5   region    1338 non-null   object \n",
            " 6   charges   1338 non-null   float64\n",
            "dtypes: float64(2), int64(2), object(3)\n",
            "memory usage: 73.3+ KB\n"
          ]
        }
      ]
    },
    {
      "cell_type": "code",
      "source": [
        "nulls = insurance.isnull().sum()\n",
        "print(\"Number of missing values in each column:\")\n",
        "print(nulls)"
      ],
      "metadata": {
        "colab": {
          "base_uri": "https://localhost:8080/"
        },
        "id": "sgfG6unrTCsi",
        "outputId": "b0133e84-b45a-43a5-e4bd-03fce066246f"
      },
      "execution_count": 106,
      "outputs": [
        {
          "output_type": "stream",
          "name": "stdout",
          "text": [
            "Number of missing values in each column:\n",
            "age         0\n",
            "sex         0\n",
            "bmi         0\n",
            "children    0\n",
            "smoker      0\n",
            "region      0\n",
            "charges     0\n",
            "dtype: int64\n"
          ]
        }
      ]
    },
    {
      "cell_type": "code",
      "source": [
        "insurance.describe()"
      ],
      "metadata": {
        "colab": {
          "base_uri": "https://localhost:8080/",
          "height": 300
        },
        "id": "04vW4FppT0cj",
        "outputId": "6f1b122e-dc95-4055-f150-b1243c90b1c6"
      },
      "execution_count": 107,
      "outputs": [
        {
          "output_type": "execute_result",
          "data": {
            "text/plain": [
              "               age          bmi     children       charges\n",
              "count  1338.000000  1338.000000  1338.000000   1338.000000\n",
              "mean     39.207025    30.663397     1.094918  13270.422265\n",
              "std      14.049960     6.098187     1.205493  12110.011237\n",
              "min      18.000000    15.960000     0.000000   1121.873900\n",
              "25%      27.000000    26.296250     0.000000   4740.287150\n",
              "50%      39.000000    30.400000     1.000000   9382.033000\n",
              "75%      51.000000    34.693750     2.000000  16639.912515\n",
              "max      64.000000    53.130000     5.000000  63770.428010"
            ],
            "text/html": [
              "\n",
              "  <div id=\"df-3f85441e-be3f-4c7d-9964-d2f9a0cb2015\">\n",
              "    <div class=\"colab-df-container\">\n",
              "      <div>\n",
              "<style scoped>\n",
              "    .dataframe tbody tr th:only-of-type {\n",
              "        vertical-align: middle;\n",
              "    }\n",
              "\n",
              "    .dataframe tbody tr th {\n",
              "        vertical-align: top;\n",
              "    }\n",
              "\n",
              "    .dataframe thead th {\n",
              "        text-align: right;\n",
              "    }\n",
              "</style>\n",
              "<table border=\"1\" class=\"dataframe\">\n",
              "  <thead>\n",
              "    <tr style=\"text-align: right;\">\n",
              "      <th></th>\n",
              "      <th>age</th>\n",
              "      <th>bmi</th>\n",
              "      <th>children</th>\n",
              "      <th>charges</th>\n",
              "    </tr>\n",
              "  </thead>\n",
              "  <tbody>\n",
              "    <tr>\n",
              "      <th>count</th>\n",
              "      <td>1338.000000</td>\n",
              "      <td>1338.000000</td>\n",
              "      <td>1338.000000</td>\n",
              "      <td>1338.000000</td>\n",
              "    </tr>\n",
              "    <tr>\n",
              "      <th>mean</th>\n",
              "      <td>39.207025</td>\n",
              "      <td>30.663397</td>\n",
              "      <td>1.094918</td>\n",
              "      <td>13270.422265</td>\n",
              "    </tr>\n",
              "    <tr>\n",
              "      <th>std</th>\n",
              "      <td>14.049960</td>\n",
              "      <td>6.098187</td>\n",
              "      <td>1.205493</td>\n",
              "      <td>12110.011237</td>\n",
              "    </tr>\n",
              "    <tr>\n",
              "      <th>min</th>\n",
              "      <td>18.000000</td>\n",
              "      <td>15.960000</td>\n",
              "      <td>0.000000</td>\n",
              "      <td>1121.873900</td>\n",
              "    </tr>\n",
              "    <tr>\n",
              "      <th>25%</th>\n",
              "      <td>27.000000</td>\n",
              "      <td>26.296250</td>\n",
              "      <td>0.000000</td>\n",
              "      <td>4740.287150</td>\n",
              "    </tr>\n",
              "    <tr>\n",
              "      <th>50%</th>\n",
              "      <td>39.000000</td>\n",
              "      <td>30.400000</td>\n",
              "      <td>1.000000</td>\n",
              "      <td>9382.033000</td>\n",
              "    </tr>\n",
              "    <tr>\n",
              "      <th>75%</th>\n",
              "      <td>51.000000</td>\n",
              "      <td>34.693750</td>\n",
              "      <td>2.000000</td>\n",
              "      <td>16639.912515</td>\n",
              "    </tr>\n",
              "    <tr>\n",
              "      <th>max</th>\n",
              "      <td>64.000000</td>\n",
              "      <td>53.130000</td>\n",
              "      <td>5.000000</td>\n",
              "      <td>63770.428010</td>\n",
              "    </tr>\n",
              "  </tbody>\n",
              "</table>\n",
              "</div>\n",
              "      <button class=\"colab-df-convert\" onclick=\"convertToInteractive('df-3f85441e-be3f-4c7d-9964-d2f9a0cb2015')\"\n",
              "              title=\"Convert this dataframe to an interactive table.\"\n",
              "              style=\"display:none;\">\n",
              "        \n",
              "  <svg xmlns=\"http://www.w3.org/2000/svg\" height=\"24px\"viewBox=\"0 0 24 24\"\n",
              "       width=\"24px\">\n",
              "    <path d=\"M0 0h24v24H0V0z\" fill=\"none\"/>\n",
              "    <path d=\"M18.56 5.44l.94 2.06.94-2.06 2.06-.94-2.06-.94-.94-2.06-.94 2.06-2.06.94zm-11 1L8.5 8.5l.94-2.06 2.06-.94-2.06-.94L8.5 2.5l-.94 2.06-2.06.94zm10 10l.94 2.06.94-2.06 2.06-.94-2.06-.94-.94-2.06-.94 2.06-2.06.94z\"/><path d=\"M17.41 7.96l-1.37-1.37c-.4-.4-.92-.59-1.43-.59-.52 0-1.04.2-1.43.59L10.3 9.45l-7.72 7.72c-.78.78-.78 2.05 0 2.83L4 21.41c.39.39.9.59 1.41.59.51 0 1.02-.2 1.41-.59l7.78-7.78 2.81-2.81c.8-.78.8-2.07 0-2.86zM5.41 20L4 18.59l7.72-7.72 1.47 1.35L5.41 20z\"/>\n",
              "  </svg>\n",
              "      </button>\n",
              "      \n",
              "  <style>\n",
              "    .colab-df-container {\n",
              "      display:flex;\n",
              "      flex-wrap:wrap;\n",
              "      gap: 12px;\n",
              "    }\n",
              "\n",
              "    .colab-df-convert {\n",
              "      background-color: #E8F0FE;\n",
              "      border: none;\n",
              "      border-radius: 50%;\n",
              "      cursor: pointer;\n",
              "      display: none;\n",
              "      fill: #1967D2;\n",
              "      height: 32px;\n",
              "      padding: 0 0 0 0;\n",
              "      width: 32px;\n",
              "    }\n",
              "\n",
              "    .colab-df-convert:hover {\n",
              "      background-color: #E2EBFA;\n",
              "      box-shadow: 0px 1px 2px rgba(60, 64, 67, 0.3), 0px 1px 3px 1px rgba(60, 64, 67, 0.15);\n",
              "      fill: #174EA6;\n",
              "    }\n",
              "\n",
              "    [theme=dark] .colab-df-convert {\n",
              "      background-color: #3B4455;\n",
              "      fill: #D2E3FC;\n",
              "    }\n",
              "\n",
              "    [theme=dark] .colab-df-convert:hover {\n",
              "      background-color: #434B5C;\n",
              "      box-shadow: 0px 1px 3px 1px rgba(0, 0, 0, 0.15);\n",
              "      filter: drop-shadow(0px 1px 2px rgba(0, 0, 0, 0.3));\n",
              "      fill: #FFFFFF;\n",
              "    }\n",
              "  </style>\n",
              "\n",
              "      <script>\n",
              "        const buttonEl =\n",
              "          document.querySelector('#df-3f85441e-be3f-4c7d-9964-d2f9a0cb2015 button.colab-df-convert');\n",
              "        buttonEl.style.display =\n",
              "          google.colab.kernel.accessAllowed ? 'block' : 'none';\n",
              "\n",
              "        async function convertToInteractive(key) {\n",
              "          const element = document.querySelector('#df-3f85441e-be3f-4c7d-9964-d2f9a0cb2015');\n",
              "          const dataTable =\n",
              "            await google.colab.kernel.invokeFunction('convertToInteractive',\n",
              "                                                     [key], {});\n",
              "          if (!dataTable) return;\n",
              "\n",
              "          const docLinkHtml = 'Like what you see? Visit the ' +\n",
              "            '<a target=\"_blank\" href=https://colab.research.google.com/notebooks/data_table.ipynb>data table notebook</a>'\n",
              "            + ' to learn more about interactive tables.';\n",
              "          element.innerHTML = '';\n",
              "          dataTable['output_type'] = 'display_data';\n",
              "          await google.colab.output.renderOutput(dataTable, element);\n",
              "          const docLink = document.createElement('div');\n",
              "          docLink.innerHTML = docLinkHtml;\n",
              "          element.appendChild(docLink);\n",
              "        }\n",
              "      </script>\n",
              "    </div>\n",
              "  </div>\n",
              "  "
            ]
          },
          "metadata": {},
          "execution_count": 107
        }
      ]
    },
    {
      "cell_type": "markdown",
      "metadata": {
        "id": "Xfw6nVzoR104"
      },
      "source": [
        "---\n",
        "##  Task 2: DATA DISCOVERY, CLEANING, AND SCALING \n",
        "\n",
        "**Data Discover:** Plot out all correlations among the features. You should notice some features are more correlated with your predicted value than other. This information will help you confirm that weights of your regression model later on.\n",
        "\n",
        "**Data Cleaning:** If your dataset has some missing values, make sure you are able to fill those values with the Imputer class. If your dataset has categorical features, make sure you conver those features into numerical using OneHotEncoder class. \n",
        "\n",
        "**Feature Scaling** More importantly, your task is to write some codes to normalize the value of each features as follow:\n",
        "\n",
        "* Subtract the mean value of each feature from the dataset\n",
        "* Scale (divide) the feature values by their respective standard deviation\n",
        "\n",
        "**Implementation Note:** You will need to integrate the above operations into a Pipeline to process and transform the training data, then use the same pipeline to transform any validation and testing data."
      ]
    },
    {
      "cell_type": "code",
      "source": [
        "print(\"Feature Correlations:\")\n",
        "insurance.corr()"
      ],
      "metadata": {
        "colab": {
          "base_uri": "https://localhost:8080/",
          "height": 192
        },
        "id": "B470AaESVepp",
        "outputId": "762f4e40-7b08-43c5-b47f-07e0175d481f"
      },
      "execution_count": 108,
      "outputs": [
        {
          "output_type": "stream",
          "name": "stdout",
          "text": [
            "Feature Correlations:\n"
          ]
        },
        {
          "output_type": "execute_result",
          "data": {
            "text/plain": [
              "               age       bmi  children   charges\n",
              "age       1.000000  0.109272  0.042469  0.299008\n",
              "bmi       0.109272  1.000000  0.012759  0.198341\n",
              "children  0.042469  0.012759  1.000000  0.067998\n",
              "charges   0.299008  0.198341  0.067998  1.000000"
            ],
            "text/html": [
              "\n",
              "  <div id=\"df-4b72e088-53dd-4a6f-9d4f-57d0509220be\">\n",
              "    <div class=\"colab-df-container\">\n",
              "      <div>\n",
              "<style scoped>\n",
              "    .dataframe tbody tr th:only-of-type {\n",
              "        vertical-align: middle;\n",
              "    }\n",
              "\n",
              "    .dataframe tbody tr th {\n",
              "        vertical-align: top;\n",
              "    }\n",
              "\n",
              "    .dataframe thead th {\n",
              "        text-align: right;\n",
              "    }\n",
              "</style>\n",
              "<table border=\"1\" class=\"dataframe\">\n",
              "  <thead>\n",
              "    <tr style=\"text-align: right;\">\n",
              "      <th></th>\n",
              "      <th>age</th>\n",
              "      <th>bmi</th>\n",
              "      <th>children</th>\n",
              "      <th>charges</th>\n",
              "    </tr>\n",
              "  </thead>\n",
              "  <tbody>\n",
              "    <tr>\n",
              "      <th>age</th>\n",
              "      <td>1.000000</td>\n",
              "      <td>0.109272</td>\n",
              "      <td>0.042469</td>\n",
              "      <td>0.299008</td>\n",
              "    </tr>\n",
              "    <tr>\n",
              "      <th>bmi</th>\n",
              "      <td>0.109272</td>\n",
              "      <td>1.000000</td>\n",
              "      <td>0.012759</td>\n",
              "      <td>0.198341</td>\n",
              "    </tr>\n",
              "    <tr>\n",
              "      <th>children</th>\n",
              "      <td>0.042469</td>\n",
              "      <td>0.012759</td>\n",
              "      <td>1.000000</td>\n",
              "      <td>0.067998</td>\n",
              "    </tr>\n",
              "    <tr>\n",
              "      <th>charges</th>\n",
              "      <td>0.299008</td>\n",
              "      <td>0.198341</td>\n",
              "      <td>0.067998</td>\n",
              "      <td>1.000000</td>\n",
              "    </tr>\n",
              "  </tbody>\n",
              "</table>\n",
              "</div>\n",
              "      <button class=\"colab-df-convert\" onclick=\"convertToInteractive('df-4b72e088-53dd-4a6f-9d4f-57d0509220be')\"\n",
              "              title=\"Convert this dataframe to an interactive table.\"\n",
              "              style=\"display:none;\">\n",
              "        \n",
              "  <svg xmlns=\"http://www.w3.org/2000/svg\" height=\"24px\"viewBox=\"0 0 24 24\"\n",
              "       width=\"24px\">\n",
              "    <path d=\"M0 0h24v24H0V0z\" fill=\"none\"/>\n",
              "    <path d=\"M18.56 5.44l.94 2.06.94-2.06 2.06-.94-2.06-.94-.94-2.06-.94 2.06-2.06.94zm-11 1L8.5 8.5l.94-2.06 2.06-.94-2.06-.94L8.5 2.5l-.94 2.06-2.06.94zm10 10l.94 2.06.94-2.06 2.06-.94-2.06-.94-.94-2.06-.94 2.06-2.06.94z\"/><path d=\"M17.41 7.96l-1.37-1.37c-.4-.4-.92-.59-1.43-.59-.52 0-1.04.2-1.43.59L10.3 9.45l-7.72 7.72c-.78.78-.78 2.05 0 2.83L4 21.41c.39.39.9.59 1.41.59.51 0 1.02-.2 1.41-.59l7.78-7.78 2.81-2.81c.8-.78.8-2.07 0-2.86zM5.41 20L4 18.59l7.72-7.72 1.47 1.35L5.41 20z\"/>\n",
              "  </svg>\n",
              "      </button>\n",
              "      \n",
              "  <style>\n",
              "    .colab-df-container {\n",
              "      display:flex;\n",
              "      flex-wrap:wrap;\n",
              "      gap: 12px;\n",
              "    }\n",
              "\n",
              "    .colab-df-convert {\n",
              "      background-color: #E8F0FE;\n",
              "      border: none;\n",
              "      border-radius: 50%;\n",
              "      cursor: pointer;\n",
              "      display: none;\n",
              "      fill: #1967D2;\n",
              "      height: 32px;\n",
              "      padding: 0 0 0 0;\n",
              "      width: 32px;\n",
              "    }\n",
              "\n",
              "    .colab-df-convert:hover {\n",
              "      background-color: #E2EBFA;\n",
              "      box-shadow: 0px 1px 2px rgba(60, 64, 67, 0.3), 0px 1px 3px 1px rgba(60, 64, 67, 0.15);\n",
              "      fill: #174EA6;\n",
              "    }\n",
              "\n",
              "    [theme=dark] .colab-df-convert {\n",
              "      background-color: #3B4455;\n",
              "      fill: #D2E3FC;\n",
              "    }\n",
              "\n",
              "    [theme=dark] .colab-df-convert:hover {\n",
              "      background-color: #434B5C;\n",
              "      box-shadow: 0px 1px 3px 1px rgba(0, 0, 0, 0.15);\n",
              "      filter: drop-shadow(0px 1px 2px rgba(0, 0, 0, 0.3));\n",
              "      fill: #FFFFFF;\n",
              "    }\n",
              "  </style>\n",
              "\n",
              "      <script>\n",
              "        const buttonEl =\n",
              "          document.querySelector('#df-4b72e088-53dd-4a6f-9d4f-57d0509220be button.colab-df-convert');\n",
              "        buttonEl.style.display =\n",
              "          google.colab.kernel.accessAllowed ? 'block' : 'none';\n",
              "\n",
              "        async function convertToInteractive(key) {\n",
              "          const element = document.querySelector('#df-4b72e088-53dd-4a6f-9d4f-57d0509220be');\n",
              "          const dataTable =\n",
              "            await google.colab.kernel.invokeFunction('convertToInteractive',\n",
              "                                                     [key], {});\n",
              "          if (!dataTable) return;\n",
              "\n",
              "          const docLinkHtml = 'Like what you see? Visit the ' +\n",
              "            '<a target=\"_blank\" href=https://colab.research.google.com/notebooks/data_table.ipynb>data table notebook</a>'\n",
              "            + ' to learn more about interactive tables.';\n",
              "          element.innerHTML = '';\n",
              "          dataTable['output_type'] = 'display_data';\n",
              "          await google.colab.output.renderOutput(dataTable, element);\n",
              "          const docLink = document.createElement('div');\n",
              "          docLink.innerHTML = docLinkHtml;\n",
              "          element.appendChild(docLink);\n",
              "        }\n",
              "      </script>\n",
              "    </div>\n",
              "  </div>\n",
              "  "
            ]
          },
          "metadata": {},
          "execution_count": 108
        }
      ]
    },
    {
      "cell_type": "code",
      "metadata": {
        "id": "KI2IIJdHR104"
      },
      "source": [
        "# You might want to use the following package\n",
        "from sklearn.model_selection import train_test_split\n",
        "from pandas.plotting import scatter_matrix # optional\n",
        "from sklearn.impute import SimpleImputer\n",
        "from sklearn.preprocessing import LabelEncoder\n",
        "from sklearn.preprocessing import OneHotEncoder\n",
        "from sklearn.pipeline import Pipeline\n",
        "from sklearn.preprocessing import StandardScaler\n",
        "from sklearn.compose import ColumnTransformer\n",
        "\n",
        "#Create Train, Validation, Test\n",
        "X_train, X_test = train_test_split(insurance, test_size=0.2, random_state=42)\n",
        "\n",
        "# Your code goes here for this section.\n",
        "y_train = X_train['charges']\n",
        "X_train.drop(['charges'], axis = 1, inplace = True);\n",
        "y_test = X_test['charges']\n",
        "X_test.drop(['charges'], axis = 1, inplace = True);\n",
        "\n",
        "#Split into numeric and categorical data\n",
        "X_num = X_train._get_numeric_data()\n",
        "numeric_columns = X_num.columns #numerical features\n",
        "X_cat = X_train.drop(numeric_columns, axis = 1)\n",
        "\n",
        "#Create pipeline\n",
        "num_attribs = list(X_num)\n",
        "cat_attribs = list(X_cat)\n",
        "\n",
        "full_pipeline = ColumnTransformer([\n",
        "        (\"std_scaler\", StandardScaler(), num_attribs),\n",
        "        (\"cat\", OneHotEncoder(), cat_attribs),\n",
        "    ])\n",
        "\n",
        "X_train_prepared = full_pipeline.fit_transform(X_train)\n",
        "#Insert X_0, a column of ones\n",
        "X_train_prepared = np.insert(X_train_prepared, 0, 1, axis=1)\n",
        "X_test_prepared = full_pipeline.transform(X_test)\n",
        "#Insert X_0, a column of ones\n",
        "X_test_prepared = np.insert(X_test_prepared, 0, 1, axis=1)"
      ],
      "execution_count": 109,
      "outputs": []
    },
    {
      "cell_type": "code",
      "source": [
        "X_train_prepared.shape"
      ],
      "metadata": {
        "colab": {
          "base_uri": "https://localhost:8080/"
        },
        "id": "dPM_sr3RfIVd",
        "outputId": "4250290d-2608-4909-b9aa-82ace3f41536"
      },
      "execution_count": 110,
      "outputs": [
        {
          "output_type": "execute_result",
          "data": {
            "text/plain": [
              "(1070, 12)"
            ]
          },
          "metadata": {},
          "execution_count": 110
        }
      ]
    },
    {
      "cell_type": "code",
      "source": [
        "X_test_prepared.shape"
      ],
      "metadata": {
        "colab": {
          "base_uri": "https://localhost:8080/"
        },
        "id": "87LguanyHosI",
        "outputId": "e19d8ca6-ccf1-4606-9d7f-03890466e01d"
      },
      "execution_count": 111,
      "outputs": [
        {
          "output_type": "execute_result",
          "data": {
            "text/plain": [
              "(268, 12)"
            ]
          },
          "metadata": {},
          "execution_count": 111
        }
      ]
    },
    {
      "cell_type": "markdown",
      "metadata": {
        "id": "JRW5HPBzR106"
      },
      "source": [
        "- - -\n",
        "## Task 3. IMPLEMENT GRADIENT DESCENT \n",
        "The gradient descent formulation remain the same as one in the lecture. Keep in mind that you will need to add a column $\\textbf{x}_0$ with all 1s as part of the training data. You should write code to implement the **MyLinearRegression** class and its predefined methods. \n",
        "\n",
        "**Gradient Descent:** Notes that you may NOT call the library linear regression which defeats the purpose of this assignment. Make sure your code is well-vectorized."
      ]
    },
    {
      "cell_type": "code",
      "metadata": {
        "id": "XOhAxyK1R107",
        "colab": {
          "base_uri": "https://localhost:8080/"
        },
        "outputId": "31d6fa94-72f5-4885-c90b-9e41ea35d3ee"
      },
      "source": [
        "# NOTE: You may not use the library Linear Regression, but implement your own!\n",
        "# REMEMBER to place self.attribute = [] with value from your implementation\n",
        "\n",
        "class MyLinearRegression:\n",
        "  \"\"\"\n",
        "  Define what a linear regressor can do\n",
        "  \"\"\"\n",
        "\n",
        "  def __init__ (self):\n",
        "    \"\"\"\n",
        "    Initialize the regressor\n",
        "    \"\"\"\n",
        "    self.theta = []; # parameter vector;\n",
        "    self.alpha = []; # learning rate\n",
        "    self.cost  = []; # cost function\n",
        "\n",
        "  def gradientDescent(self, X_train, y_train, theta, alpha, iters):\n",
        "    \"\"\"\n",
        "    Implementatation of the gradient descent\n",
        "    INPUT:\n",
        "    alpha: the learning rate\n",
        "    iters: number of iterations\n",
        "\n",
        "    OUTPUT: \n",
        "    theta: updated value for theta\n",
        "    cost: value of the cost function\n",
        "    \"\"\"\n",
        "    # implementation code here\n",
        "\n",
        "    tempCost = []\n",
        "    m = 1070 #X_train_prepared has 1070 \n",
        "    for iterations in range(iters):\n",
        "      gradients = (2/m) * X_train.T.dot(X_train.dot(theta) - y_train)\n",
        "      theta = theta - alpha * gradients\n",
        "      tempError = X_train.dot(theta) - y_train\n",
        "      tempRMSE = np.sqrt(np.mean(tempError**2))\n",
        "      tempCost.append(tempRMSE)\n",
        "\n",
        "    error = X_train.dot(theta) - y_train\n",
        "    RMSE = np.sqrt(np.mean(error**2))\n",
        "\n",
        "    return RMSE, theta, tempCost\n",
        "\n",
        "  def fitUsingGradientDescent(self, X_train, y_train):\n",
        "    \"\"\"\n",
        "    Train the regressor using gradient descent\n",
        "    \"\"\"\n",
        "    # implementation code here\n",
        "    tempAlpha = np.linspace(0, 1, 101)\n",
        "    tempTheta = []\n",
        "    tempIter = 1000\n",
        "    tempError = []\n",
        "    tempCosts = []\n",
        "    bestAlpha = 0\n",
        "\n",
        "    for i in tempAlpha:\n",
        "      gd = self.gradientDescent(X_train, y_train, [1,1,1,1,1,1,1,1,1,1,1,1], i, tempIter)\n",
        "      if len(tempError) == 0:\n",
        "        tempTheta = gd[1]\n",
        "        tempError.append(gd[0])\n",
        "        tempCosts = gd[2]\n",
        "        bestAlpha = i\n",
        "      elif tempError[0] > gd[0]:\n",
        "        tempError[0] = gd[0]\n",
        "        tempTheta = gd[1]\n",
        "        tempCosts = gd[2]\n",
        "        bestAlpha = i\n",
        "      \n",
        "    self.theta = tempTheta\n",
        "    self.alpha = bestAlpha\n",
        "    self.cost = tempCosts\n",
        "\n",
        "  def fitUsingNormalEquation(self, X_train, y_train):\n",
        "    \"\"\"\n",
        "    Training using the Normal (close form) equation\n",
        "    \"\"\"\n",
        "    # implementation code here for Task 4.\n",
        "    optimal_theta = np.linalg.pinv(X_train.T.dot(X_train)).dot(X_train.T).dot(y_train)\n",
        "    self.theta = optimal_theta;\n",
        "\n",
        "  def predict(self, X_test):\n",
        "    \"\"\"\n",
        "    Predicting the label\n",
        "    \"\"\"\n",
        "    # implementation code here \n",
        "    y_predict = X_test.dot(self.theta)\n",
        "    return y_predict\n",
        "\n",
        "  def __str__(self):\n",
        "    \"\"\"\n",
        "    Print out the parameter out when call print()\n",
        "    \"\"\"\n",
        "    return(\"Parameter vector is %s\" % self.theta)\n",
        "    \n",
        "# Your code goes here to call the instance of class MyLinearRegression\n",
        "myGradientDescentModel = MyLinearRegression()\n",
        "\n",
        "myGradientDescentModel.fitUsingGradientDescent(X_train_prepared, y_train)\n",
        "\n",
        "print(myGradientDescentModel.alpha)\n",
        "print(myGradientDescentModel.cost)\n",
        "print(myGradientDescentModel)"
      ],
      "execution_count": 112,
      "outputs": [
        {
          "output_type": "stream",
          "name": "stderr",
          "text": [
            "/usr/local/lib/python3.7/dist-packages/ipykernel_launcher.py:34: RuntimeWarning: invalid value encountered in subtract\n"
          ]
        },
        {
          "output_type": "stream",
          "name": "stdout",
          "text": [
            "0.04\n",
            "[16161.074700217698, 14814.029497480982, 13800.266457006845, 13030.803646195947, 12437.437722770774, 11969.54966214465, 11590.580854765705, 11274.679161997605, 11003.836913576357, 10765.631395597002, 10551.535569659072, 10355.701886916098, 10174.109070319222, 10003.9739381435, 9843.350632735588, 9690.859575990831, 9545.504972279052, 9406.552196418714, 9273.445444279452, 9145.752358088625, 9023.126692300933, 8905.283040747201, 8791.979634519836, 8683.006551178345, 8578.177563616766, 8477.324447675972, 8380.2929601995, 8286.939960062375, 8197.13131803502, 8110.740376643578, 8027.646798013869, 7947.735689003346, 7870.896927319463, 7797.024635476921, 7726.016765121725, 7657.7747649375115, 7592.20331269951, 7529.21009714866, 7468.705638950395, 7410.6031425642295, 7354.818372705296, 7301.2695504448675, 7249.877265020033, 7200.5643982024485, 7153.256058680769, 7107.879524387251, 7064.364191079601, 7022.641525796686, 6982.645024058556, 6944.310169888717, 6907.57439790907, 6872.377056901923, 6838.659374354009, 6806.364421598765, 6775.437079258091, 6745.824002756157, 6717.473587737586, 6690.335935272162, 6664.362816769578, 6639.507638561894, 6615.725406139191, 6592.972688046485, 6571.2075794678785, 6550.389665537911, 6530.47998443073, 6511.440990285432, 6493.236516031321, 6475.831736180069, 6459.193129653392, 6443.288442715002, 6428.0866520745885, 6413.557928229687, 6399.6735991085425, 6386.4061140738695, 6373.729008343665, 6361.616867881246, 6350.0452948024595, 6338.990873343645, 6328.431136429621, 6318.344532876549, 6308.710395260276, 6299.508908476619, 6290.721079015977, 6282.328704970894, 6274.314346791483, 6266.661298800211, 6259.353561474333, 6252.375814501252, 6245.7133906092595, 6239.352250173657, 6233.278956595787, 6227.480652450486, 6221.945036395482, 6216.660340834554, 6211.615310324726, 6206.799180716416, 6202.201659014253, 6197.812903945241, 6193.623507220077, 6189.624475472653, 6185.80721286216, 6182.163504321711, 6178.68549943698, 6175.365696938068, 6172.196929787594, 6169.17235084786, 6166.285419109906, 6163.529886467266, 6160.899785017292, 6158.389414873057, 6155.993332468996, 6153.706339343648, 6151.523471383137, 6149.439988509231, 6147.451364796216, 6145.553279001056, 6143.741605491687, 6142.012405558672, 6140.36191909575, 6138.7865566352575, 6137.28289172472, 6135.847653631372, 6134.477720361667, 6133.170111983323, 6131.921984237778, 6130.730622431321, 6129.593435593617, 6128.507950892624, 6127.471808295369, 6126.482755464362, 6125.538642879828, 6124.637419178261, 6123.777126698182, 6122.955897224308, 6122.171947921681, 6121.423577451615, 6120.70916226164, 6120.027153041955, 6119.376071341151, 6118.754506334276, 6118.161111736617, 6117.594602856802, 6117.053753783089, 6116.537394697022, 6116.044409308779, 6115.573732408856, 6115.124347530909, 6114.695284720821, 6114.285618407241, 6113.894465369074, 6113.52098279559, 6113.164366434966, 6112.82384882733, 6112.498697618478, 6112.188213950625, 6111.891730926736, 6111.608612145087, 6111.338250300891, 6111.080065851953, 6110.83350574543, 6110.59804220294, 6110.373171561365, 6110.1584131668005, 6109.953308319242, 6109.75741926569, 6109.57032823947, 6109.391636543644, 6109.220963676523, 6109.057946497317, 6108.902238430131, 6108.75350870451, 6108.611441630893, 6108.475735909344, 6108.346103970062, 6108.222271344198, 6108.103976063578, 6107.9909680880355, 6107.8830087590495, 6107.779870278507, 6107.681335211416, 6107.587196011481, 6107.497254568484, 6107.411321776468, 6107.3292171217645, 6107.250768289956, 6107.175810790901, 6107.104187600984, 6107.03574882181, 6106.9703513545655, 6106.907858589359, 6106.8481401088075, 6106.791071405247, 6106.736533610925, 6106.6844132405895, 6106.634601945874, 6106.586996280973, 6106.541497479064, 6106.49801123898, 6106.456447521689, 6106.416720356076, 6106.378747653661, 6106.342451031789, 6106.307755644938, 6106.274590023748, 6106.2428859214315, 6106.212578167211, 6106.183604526482, 6106.155905567356, 6106.129424533337, 6106.104107221804, 6106.079901868064, 6106.056759034699, 6106.034631505987, 6106.013474187133, 6105.993244008111, 6105.9738998319035, 6105.955402366927, 6105.937714083454, 6105.920799133859, 6105.904623276492, 6105.889153803035, 6105.874359469161, 6105.860210428371, 6105.846678168825, 6105.833735453067, 6105.821356260491, 6105.809515732419, 6105.798190119695, 6105.787356732649, 6105.776993893342, 6105.767080889982, 6105.757597933415, 6105.74852611559, 6105.7398473699095, 6105.7315444333835, 6105.7236008105, 6105.716000738734, 6105.708729155624, 6105.701771667334, 6105.695114518651, 6105.688744564333, 6105.682649241762, 6105.676816544825, 6105.671234998985, 6105.6658936374815, 6105.6607819786, 6105.6558900039745, 6105.651208137864, 6105.646727227376, 6105.6424385235705, 6105.6383336634235, 6105.634404652607, 6105.630643849038, 6105.6270439471755, 6105.623597963015, 6105.620299219775, 6105.617141334216, 6105.614118203573, 6105.611223993085, 6105.608453124085, 6105.605800262607, 6105.603260308536, 6105.600828385216, 6105.598499829538, 6105.5962701824765, 6105.59413518004, 6105.59209074463, 6105.590132976795, 6105.588258147342, 6105.58646268981, 6105.584743193274, 6105.58309639548, 6105.581519176271, 6105.580008551323, 6105.578561666151, 6105.577175790388, 6105.575848312311, 6105.574576733624, 6105.573358664461, 6105.572191818617, 6105.571074008993, 6105.570003143239, 6105.5689772195965, 6105.567994322919, 6105.567052620877, 6105.566150360325, 6105.565285863832, 6105.56445752637, 6105.563663812138, 6105.5629032515435, 6105.5621744383025, 6105.561476026674, 6105.56080672882, 6105.560165312275, 6105.559550597536, 6105.558961455749, 6105.558396806508, 6105.557855615743, 6105.557336893702, 6105.556839693033, 6105.55636310693, 6105.55590626738, 6105.5554683434775, 6105.555048539816, 6105.554646094948, 6105.554260279912, 6105.553890396832, 6105.553535777564, 6105.55319578242, 6105.552869798931, 6105.552557240674, 6105.552257546151, 6105.5519701777075, 6105.551694620511, 6105.551430381563, 6105.551176988762, 6105.550933990006, 6105.550700952327, 6105.550477461075, 6105.550263119126, 6105.550057546135, 6105.549860377812, 6105.54967126524, 6105.549489874206, 6105.549315884583, 6105.549148989721, 6105.548988895875, 6105.548835321646, 6105.548687997464, 6105.548546665077, 6105.5484110770685, 6105.5482809964, 6105.548156195965, 6105.548036458167, 6105.547921574518, 6105.547811345246, 6105.547705578933, 6105.547604092151, 6105.54750670913, 6105.547413261432, 6105.547323587638, 6105.547237533051, 6105.54715494942, 6105.547075694652, 6105.5469996325655, 6105.546926632637, 6105.54685656976, 6105.546789324016, 6105.546724780461, 6105.5466628289105, 6105.546603363744, 6105.546546283711, 6105.546491491744, 6105.54643889479, 6105.546388403636, 6105.546339932752, 6105.546293400132, 6105.54624872715, 6105.546205838422, 6105.5461646616595, 6105.546125127552, 6105.546087169636, 6105.546050724177, 6105.546015730058, 6105.545982128665, 6105.545949863792, 6105.545918881531, 6105.545889130184, 6105.545860560164, 6105.545833123915, 6105.545806775821, 6105.5457814721285, 6105.545757170872, 6105.545733831796, 6105.545711416283, 6105.54568988729, 6105.545669209281, 6105.545649348165, 6105.545630271238, 6105.545611947123, 6105.5455943457155, 6105.545577438136, 6105.545561196669, 6105.5455455947285, 6105.5455306068025, 6105.54551620841, 6105.5455023760605, 6105.545489087213, 6105.545476320239, 6105.5454640543785, 6105.545452269712, 6105.5454409471195, 6105.545430068257, 6105.545419615514, 6105.545409571991, 6105.545399921465, 6105.545390648369, 6105.545381737758, 6105.545373175289, 6105.545364947191, 6105.54535704025, 6105.545349441775, 6105.545342139591, 6105.545335122002, 6105.545328377785, 6105.545321896164, 6105.545315666793, 6105.545309679739, 6105.545303925464, 6105.545298394816, 6105.545293079, 6105.545287969577, 6105.545283058439, 6105.545278337804, 6105.5452738001995, 6105.5452694384485, 6105.545265245658, 6105.545261215211, 6105.545257340751, 6105.545253616175, 6105.5452500356205, 6105.545246593457, 6105.5452432842785, 6105.545240102891, 6105.545237044307, 6105.545234103735, 6105.545231276574, 6105.545228558402, 6105.545225944976, 6105.5452234322165, 6105.545221016205, 6105.545218693176, 6105.545216459518, 6105.545214311756, 6105.545212246553, 6105.545210260705, 6105.545208351131, 6105.545206514872, 6105.545204749085, 6105.545203051041, 6105.545201418115, 6105.545199847783, 6105.545198337625, 6105.545196885314, 6105.545195488609, 6105.545194145366, 6105.545192853515, 6105.545191611073, 6105.545190416134, 6105.545189266863, 6105.5451881615, 6105.545187098352, 6105.545186075791, 6105.545185092255, 6105.545184146241, 6105.545183236304, 6105.545182361057, 6105.545181519166, 6105.54518070935, 6105.545179930373, 6105.545179181054, 6105.54517846025, 6105.545177766871, 6105.545177099863, 6105.545176458215, 6105.545175840955, 6105.545175247146, 6105.5451746758945, 6105.545174126332, 6105.545173597631, 6105.545173088992, 6105.545172599648, 6105.545172128863, 6105.545171675925, 6105.545171240153, 6105.545170820892, 6105.545170417511, 6105.545170029405, 6105.54516965599, 6105.545169296706, 6105.545168951015, 6105.545168618398, 6105.545168298357, 6105.545167990414, 6105.545167694107, 6105.545167408994, 6105.545167134649, 6105.545166870662, 6105.54516661664, 6105.545166372203, 6105.545166136988, 6105.545165910645, 6105.545165692835, 6105.545165483237, 6105.545165281535, 6105.545165087435, 6105.5451649006445, 6105.545164720889, 6105.5451645479, 6105.545164381421, 6105.545164221207, 6105.545164067021, 6105.545163918632, 6105.545163775823, 6105.545163638382, 6105.545163506106, 6105.545163378801, 6105.545163256277, 6105.545163138356, 6105.545163024861, 6105.545162915626, 6105.54516281049, 6105.5451627093, 6105.545162611905, 6105.545162518162, 6105.545162427935, 6105.54516234109, 6105.545162257499, 6105.545162177041, 6105.545162099596, 6105.545162025054, 6105.5451619533005, 6105.545161884234, 6105.545161817753, 6105.54516175376, 6105.545161692162, 6105.545161632866, 6105.545161575789, 6105.545161520847, 6105.545161467958, 6105.545161417045, 6105.545161368036, 6105.545161320857, 6105.545161275441, 6105.545161231721, 6105.545161189634, 6105.545161149118, 6105.545161110113, 6105.545161072566, 6105.545161036418, 6105.54516100162, 6105.545160968119, 6105.545160935867, 6105.545160904819, 6105.545160874926, 6105.545160846149, 6105.545160818445, 6105.545160791772, 6105.5451607660925, 6105.54516074137, 6105.545160717568, 6105.545160694653, 6105.54516067259, 6105.545160651349, 6105.545160630898, 6105.545160611208, 6105.545160592251, 6105.545160573999, 6105.545160556426, 6105.545160539506, 6105.545160523215, 6105.54516050753, 6105.545160492428, 6105.545160477887, 6105.545160463887, 6105.545160450406, 6105.545160437427, 6105.545160424929, 6105.545160412896, 6105.545160401309, 6105.545160390153, 6105.545160379411, 6105.545160369067, 6105.545160359107, 6105.545160349518, 6105.545160340283, 6105.54516033139, 6105.545160322829, 6105.545160314584, 6105.545160306645, 6105.545160299001, 6105.54516029164, 6105.545160284551, 6105.545160277726, 6105.545160271153, 6105.545160264824, 6105.545160258729, 6105.54516025286, 6105.5451602472085, 6105.545160241767, 6105.5451602365265, 6105.545160231479, 6105.545160226619, 6105.545160221939, 6105.545160217433, 6105.5451602130925, 6105.545160208912, 6105.545160204888, 6105.545160201013, 6105.54516019728, 6105.545160193685, 6105.545160190224, 6105.545160186891, 6105.545160183679, 6105.545160180588, 6105.545160177611, 6105.545160174743, 6105.545160171982, 6105.545160169322, 6105.545160166762, 6105.545160164295, 6105.54516016192, 6105.545160159632, 6105.545160157429, 6105.545160155307, 6105.545160153264, 6105.545160151296, 6105.5451601494005, 6105.545160147575, 6105.545160145818, 6105.545160144125, 6105.545160142495, 6105.545160140923, 6105.545160139412, 6105.545160137955, 6105.545160136551, 6105.5451601352015, 6105.545160133898, 6105.545160132646, 6105.545160131439, 6105.545160130276, 6105.545160129156, 6105.545160128078, 6105.545160127039, 6105.545160126038, 6105.545160125076, 6105.5451601241475, 6105.5451601232535, 6105.545160122393, 6105.545160121564, 6105.545160120764, 6105.545160119996, 6105.545160119255, 6105.545160118541, 6105.545160117854, 6105.545160117192, 6105.545160116554, 6105.54516011594, 6105.545160115349, 6105.545160114779, 6105.5451601142295, 6105.545160113701, 6105.545160113193, 6105.5451601127015, 6105.5451601122295, 6105.545160111775, 6105.545160111337, 6105.545160110915, 6105.545160110509, 6105.545160110116, 6105.545160109739, 6105.545160109376, 6105.545160109026, 6105.545160108689, 6105.545160108364, 6105.545160108052, 6105.54516010775, 6105.54516010746, 6105.545160107181, 6105.545160106912, 6105.545160106652, 6105.545160106402, 6105.545160106161, 6105.54516010593, 6105.545160105707, 6105.545160105493, 6105.545160105285, 6105.545160105085, 6105.5451601048935, 6105.545160104708, 6105.54516010453, 6105.545160104358, 6105.545160104192, 6105.545160104032, 6105.545160103879, 6105.545160103731, 6105.545160103588, 6105.545160103452, 6105.54516010332, 6105.545160103192, 6105.545160103069, 6105.545160102951, 6105.545160102838, 6105.545160102728, 6105.5451601026225, 6105.545160102521, 6105.545160102422, 6105.545160102328, 6105.545160102237, 6105.5451601021505, 6105.545160102065, 6105.545160101984, 6105.545160101906, 6105.545160101829, 6105.545160101758, 6105.5451601016875, 6105.54516010162, 6105.545160101556, 6105.545160101492, 6105.545160101433, 6105.545160101374, 6105.545160101318, 6105.545160101265, 6105.545160101212, 6105.545160101163, 6105.545160101114, 6105.545160101068, 6105.545160101023, 6105.54516010098, 6105.545160100938, 6105.545160100899, 6105.54516010086, 6105.545160100823, 6105.545160100787, 6105.5451601007535, 6105.545160100719, 6105.545160100688, 6105.545160100658, 6105.545160100627, 6105.545160100599, 6105.545160100571, 6105.545160100544, 6105.545160100519, 6105.545160100494, 6105.545160100471, 6105.545160100449, 6105.545160100426, 6105.545160100405, 6105.545160100384, 6105.545160100365, 6105.545160100346, 6105.545160100328, 6105.545160100311, 6105.545160100293, 6105.545160100277, 6105.5451601002615, 6105.545160100246, 6105.545160100231, 6105.545160100217, 6105.545160100204, 6105.5451601001905, 6105.545160100178, 6105.545160100166, 6105.545160100155, 6105.545160100143, 6105.545160100132, 6105.545160100122, 6105.545160100112, 6105.545160100102, 6105.545160100093, 6105.545160100084, 6105.545160100076, 6105.545160100067, 6105.54516010006, 6105.545160100051, 6105.545160100043, 6105.545160100037, 6105.5451601000295, 6105.545160100022, 6105.545160100017, 6105.54516010001, 6105.545160100004, 6105.545160099999, 6105.545160099993, 6105.545160099988, 6105.545160099982, 6105.545160099978, 6105.545160099973, 6105.545160099969, 6105.545160099964, 6105.5451600999595, 6105.545160099955, 6105.545160099952, 6105.545160099948, 6105.545160099944, 6105.54516009994, 6105.545160099937, 6105.545160099934, 6105.54516009993, 6105.545160099928, 6105.545160099925, 6105.545160099922, 6105.545160099919, 6105.545160099917, 6105.545160099914, 6105.545160099911, 6105.545160099909, 6105.545160099907, 6105.545160099904, 6105.545160099903, 6105.5451600999, 6105.545160099899, 6105.545160099898, 6105.545160099895, 6105.545160099894, 6105.545160099891, 6105.54516009989, 6105.545160099889, 6105.545160099887, 6105.545160099886, 6105.545160099884, 6105.545160099883, 6105.545160099881, 6105.5451600998795, 6105.545160099879, 6105.545160099878, 6105.545160099877, 6105.545160099876, 6105.545160099875, 6105.545160099874, 6105.545160099872, 6105.545160099872, 6105.54516009987, 6105.54516009987, 6105.5451600998695, 6105.545160099869, 6105.545160099869, 6105.545160099867, 6105.545160099866, 6105.545160099866, 6105.545160099864, 6105.545160099864, 6105.545160099863, 6105.545160099862, 6105.545160099862, 6105.545160099861, 6105.54516009986, 6105.54516009986, 6105.54516009986, 6105.5451600998595, 6105.5451600998595, 6105.545160099859, 6105.545160099859, 6105.545160099859, 6105.545160099858, 6105.545160099858, 6105.545160099857, 6105.545160099857, 6105.545160099857, 6105.545160099856, 6105.545160099856, 6105.545160099855, 6105.545160099855, 6105.545160099855, 6105.545160099855, 6105.545160099854, 6105.545160099854, 6105.545160099854, 6105.545160099853, 6105.545160099853, 6105.545160099853, 6105.545160099853, 6105.545160099853, 6105.545160099853, 6105.545160099853, 6105.545160099851, 6105.545160099851, 6105.545160099851, 6105.545160099851, 6105.545160099851, 6105.545160099851, 6105.545160099851, 6105.54516009985, 6105.54516009985, 6105.54516009985, 6105.54516009985, 6105.54516009985, 6105.54516009985, 6105.545160099849, 6105.545160099849, 6105.545160099849, 6105.545160099849, 6105.545160099849, 6105.545160099849, 6105.545160099849, 6105.545160099849, 6105.545160099849, 6105.545160099849, 6105.545160099849, 6105.545160099849, 6105.545160099849, 6105.545160099849, 6105.545160099849, 6105.545160099849, 6105.5451600998485, 6105.5451600998485, 6105.5451600998485, 6105.545160099849, 6105.5451600998485, 6105.545160099848, 6105.5451600998485, 6105.545160099848, 6105.545160099848, 6105.545160099848, 6105.545160099848, 6105.545160099848, 6105.545160099848, 6105.545160099848, 6105.545160099848, 6105.545160099848, 6105.5451600998485, 6105.545160099848, 6105.545160099848, 6105.545160099848, 6105.545160099848, 6105.545160099848, 6105.545160099848, 6105.545160099848, 6105.545160099848, 6105.545160099848, 6105.545160099848, 6105.545160099848, 6105.545160099848, 6105.545160099848, 6105.545160099848, 6105.545160099848, 6105.545160099848, 6105.545160099848, 6105.545160099848, 6105.545160099848, 6105.545160099848, 6105.545160099848, 6105.545160099848, 6105.545160099847, 6105.545160099848, 6105.545160099848, 6105.545160099848, 6105.545160099848, 6105.545160099847, 6105.545160099848, 6105.545160099848, 6105.545160099848, 6105.545160099848, 6105.545160099848, 6105.545160099848, 6105.545160099848, 6105.545160099847, 6105.545160099848, 6105.545160099847, 6105.545160099848, 6105.545160099847, 6105.545160099847, 6105.545160099847, 6105.545160099847, 6105.545160099848, 6105.545160099847, 6105.545160099847, 6105.545160099848, 6105.545160099848, 6105.545160099848, 6105.545160099847, 6105.545160099847, 6105.545160099847, 6105.545160099847, 6105.545160099848, 6105.545160099847, 6105.545160099847, 6105.545160099848, 6105.545160099847, 6105.545160099847, 6105.545160099847, 6105.545160099847, 6105.545160099848, 6105.545160099847, 6105.545160099847, 6105.545160099848, 6105.545160099848, 6105.545160099847, 6105.545160099847, 6105.545160099847, 6105.545160099848, 6105.545160099847, 6105.545160099847, 6105.545160099847, 6105.545160099847, 6105.545160099847, 6105.545160099848, 6105.545160099847, 6105.545160099847, 6105.545160099847, 6105.545160099847, 6105.545160099848, 6105.545160099848, 6105.545160099848, 6105.545160099848, 6105.545160099847, 6105.545160099848, 6105.545160099847, 6105.545160099847, 6105.545160099847]\n",
            "Parameter vector is [ 9026.74583742  3614.97541581  2036.22811615   516.89024801\n",
            "  4523.16876305  4504.57707436 -7311.69150264 16339.43734006\n",
            "  2717.02169603  2346.34435355  2059.15743832  1907.22234953]\n"
          ]
        }
      ]
    },
    {
      "cell_type": "markdown",
      "metadata": {
        "id": "9mbKbih2R109"
      },
      "source": [
        "* **Learning Rate:** You will try out different learning rates for the dataset and find a learning rate that converges quickly. If you pick a learning rate, your plot of Cost Function $J(\\theta)$ against number of iteration will quickly decay to a small value. This also indicates that your implementation is correct. If your learning rate is too large, the cost function $J(\\theta)$ can diverge and blow up. From the below plot, you must be able to report the best learning rate the you found to earn credit for this section."
      ]
    },
    {
      "cell_type": "code",
      "metadata": {
        "id": "sBdljd94R109",
        "colab": {
          "base_uri": "https://localhost:8080/",
          "height": 312
        },
        "outputId": "cb46a2cf-dc46-40aa-868f-ad2380dafc86"
      },
      "source": [
        "# Use the following code to plot out your learning rate\n",
        "# iters and cost must be supplied to plot out the cost function\n",
        "# You must plot multiple curves corresponding to different learning rates to justify the best one.\n",
        "#)\n",
        "gd = myGradientDescentModel.gradientDescent(X_train_prepared, y_train, [1,1,1,1,1,1,1,1,1,1,1,1], 0.4, 1000)\n",
        "plt.plot(gd[2])\n",
        "plt.xlabel('Iterations')  \n",
        "plt.ylabel('Cost')  \n",
        "plt.title('Error vs. Training Iterations for Alpha = 0.4')  "
      ],
      "execution_count": 113,
      "outputs": [
        {
          "output_type": "execute_result",
          "data": {
            "text/plain": [
              "Text(0.5, 1.0, 'Error vs. Training Iterations for Alpha = 0.4')"
            ]
          },
          "metadata": {},
          "execution_count": 113
        },
        {
          "output_type": "display_data",
          "data": {
            "text/plain": [
              "<Figure size 432x288 with 1 Axes>"
            ],
            "image/png": "[encoded data removed]"
          },
          "metadata": {
            "needs_background": "light"
          }
        }
      ]
    },
    {
      "cell_type": "code",
      "source": [
        "# Use the following code to plot out your learning rate\n",
        "# iters and cost must be supplied to plot out the cost function\n",
        "# You must plot multiple curves corresponding to different learning rates to justify the best one.\n",
        "#)\n",
        "gd = myGradientDescentModel.gradientDescent(X_train_prepared, y_train, [1,1,1,1,1,1,1,1,1,1,1,1], 0.8, 1000)\n",
        "plt.plot(gd[2])\n",
        "plt.xlabel('Iterations')  \n",
        "plt.ylabel('Cost')  \n",
        "plt.title('Error vs. Training Iterations for Alpha = 0.8')  "
      ],
      "metadata": {
        "colab": {
          "base_uri": "https://localhost:8080/",
          "height": 330
        },
        "id": "vKlafJ6DAUGG",
        "outputId": "e0bffdc6-3ddb-461f-fd6a-7522c07a8de6"
      },
      "execution_count": 114,
      "outputs": [
        {
          "output_type": "stream",
          "name": "stderr",
          "text": [
            "/usr/local/lib/python3.7/dist-packages/ipykernel_launcher.py:34: RuntimeWarning: invalid value encountered in subtract\n"
          ]
        },
        {
          "output_type": "execute_result",
          "data": {
            "text/plain": [
              "Text(0.5, 1.0, 'Error vs. Training Iterations for Alpha = 0.8')"
            ]
          },
          "metadata": {},
          "execution_count": 114
        },
        {
          "output_type": "display_data",
          "data": {
            "text/plain": [
              "<Figure size 432x288 with 1 Axes>"
            ],
            "image/png": "[encoded data removed]"
          },
          "metadata": {
            "needs_background": "light"
          }
        }
      ]
    },
    {
      "cell_type": "code",
      "source": [
        "# Use the following code to plot out your learning rate\n",
        "# iters and cost must be supplied to plot out the cost function\n",
        "# You must plot multiple curves corresponding to different learning rates to justify the best one.\n",
        "#)\n",
        "gd = myGradientDescentModel.gradientDescent(X_train_prepared, y_train, [1,1,1,1,1,1,1,1,1,1,1,1], 0.05, 1000)\n",
        "plt.plot(gd[2])\n",
        "plt.xlabel('Iterations')  \n",
        "plt.ylabel('Cost')  \n",
        "plt.title('Error vs. Training Iterations for Alpha = 0.05')  "
      ],
      "metadata": {
        "colab": {
          "base_uri": "https://localhost:8080/",
          "height": 312
        },
        "id": "byGuQPz7AUZC",
        "outputId": "4164eb0d-3b13-4368-b560-ea2ea96b9a7f"
      },
      "execution_count": 115,
      "outputs": [
        {
          "output_type": "execute_result",
          "data": {
            "text/plain": [
              "Text(0.5, 1.0, 'Error vs. Training Iterations for Alpha = 0.05')"
            ]
          },
          "metadata": {},
          "execution_count": 115
        },
        {
          "output_type": "display_data",
          "data": {
            "text/plain": [
              "<Figure size 432x288 with 1 Axes>"
            ],
            "image/png": "[encoded data removed]"
          },
          "metadata": {
            "needs_background": "light"
          }
        }
      ]
    },
    {
      "cell_type": "markdown",
      "metadata": {
        "id": "_OSBr-iNR10_"
      },
      "source": [
        "- - -\n",
        "## Task 4. IMPLEMENT THE NORMAL EQUATION"
      ]
    },
    {
      "cell_type": "markdown",
      "metadata": {
        "id": "8Pnn0NEhR10_"
      },
      "source": [
        "In my lecture, you learn that the closed form solution of linear regression using the normal equation formulation. Using the formula does not require any feature scaling, and should be straight forward to implement: \n",
        "\n",
        "$\n",
        "    \\mathbf{\\theta} = ({\\mathbf{X}^{T}\\mathbf{X}})^{-1}\\mathbf{X}^{T}\\mathbf{y}.\n",
        "$\n",
        "\n",
        "Note that you still need to add a column of 1's to the $\\mathbf{\n",
        "X}$ matrix to have an intercept term."
      ]
    },
    {
      "cell_type": "code",
      "metadata": {
        "id": "X4t5jNtbR11B",
        "colab": {
          "base_uri": "https://localhost:8080/"
        },
        "outputId": "c0a21232-bf09-4028-a24e-6fd23de7d9e3"
      },
      "source": [
        "# Implement the normalEquation method of the MyLinearRegression Class before execute the code below:\n",
        "myNormalEquationModel = MyLinearRegression()\n",
        "myNormalEquationModel.fitUsingNormalEquation(X_train_prepared, y_train)\n",
        "\n",
        "error = X_train_prepared.dot(myNormalEquationModel.theta) - y_train\n",
        "RMSE = np.sqrt(np.mean(error**2))\n",
        "print(RMSE)"
      ],
      "execution_count": 116,
      "outputs": [
        {
          "output_type": "stream",
          "name": "stdout",
          "text": [
            "6105.545160099847\n"
          ]
        }
      ]
    },
    {
      "cell_type": "markdown",
      "metadata": {
        "id": "m5el9T4eR11D"
      },
      "source": [
        "- - -\n",
        "## Task 5. COMPARE DIFFERENT IMPLEMENTATIONS "
      ]
    },
    {
      "cell_type": "markdown",
      "metadata": {
        "id": "ScvMKU-zR11D"
      },
      "source": [
        "You should be able to evaluate and compare your gradient descent as well as normal equation implementation of linear regression. In theory, they should be the same, or at least similar. For good measures, you must use the built-in library **Scholastic Gradient Descent (SGD)** as a third model for comparison. For each model, you must compute the RMSE on the **test set** as performance measure. The good news is that you can call library functions to compute these as shown below instead of writing your own code:\n",
        "\n",
        "* Which one yields the best performance measure for your dataset?\n",
        "* What is your assessment of the error? Good? Okay? Terrible?"
      ]
    },
    {
      "cell_type": "code",
      "metadata": {
        "id": "wtvlmtyCR11E",
        "colab": {
          "base_uri": "https://localhost:8080/"
        },
        "outputId": "4b06e51f-9279-4f99-fc69-a0c9fb3c800a"
      },
      "source": [
        "from sklearn.metrics import mean_squared_error\n",
        "\n",
        "# Use the built-in SGD Regressor model\n",
        "from sklearn.linear_model import SGDRegressor\n",
        "mySGDModel = SGDRegressor()\n",
        "mySGDModel.fit(X_train_prepared,y_train)\n",
        "y_predict = mySGDModel.predict(X_test_prepared)\n",
        "mse = mean_squared_error(y_test, y_predict)\n",
        "mySGDModel_rmse = np.sqrt(mse)\n",
        "print(\"SGDModel RMSE\")\n",
        "print(mySGDModel_rmse)\n",
        "\n",
        "# myGradientDescentModel_rmse  \n",
        "myGradientDescentModel = MyLinearRegression()\n",
        "myGradientDescentModel.fitUsingGradientDescent(X_train_prepared, y_train)\n",
        "\n",
        "y_predict = myGradientDescentModel.predict(X_test_prepared)\n",
        "mse = mean_squared_error(y_test, y_predict)\n",
        "myGradientDescentModel_rmse = np.sqrt(mse)\n",
        "print(\"myGradientDescentModel RMSE\")\n",
        "print(myGradientDescentModel_rmse)\n",
        "# myNormalEquationModel_rmse \n",
        "myNormalEquationModel = MyLinearRegression()\n",
        "myNormalEquationModel.fitUsingNormalEquation(X_train_prepared, y_train)\n",
        "\n",
        "y_predict = myNormalEquationModel.predict(X_test_prepared)\n",
        "mse = mean_squared_error(y_test, y_predict)\n",
        "myNormalEquationModel_rmse = np.sqrt(mse)\n",
        "print(\"myNormalEquationModel RMSE\")\n",
        "print(myNormalEquationModel_rmse)"
      ],
      "execution_count": 117,
      "outputs": [
        {
          "output_type": "stream",
          "name": "stdout",
          "text": [
            "SGDModel RMSE\n",
            "5804.296717032508\n"
          ]
        },
        {
          "output_type": "stream",
          "name": "stderr",
          "text": [
            "/usr/local/lib/python3.7/dist-packages/ipykernel_launcher.py:34: RuntimeWarning: invalid value encountered in subtract\n"
          ]
        },
        {
          "output_type": "stream",
          "name": "stdout",
          "text": [
            "myGradientDescentModel RMSE\n",
            "5796.2846620158825\n",
            "myNormalEquationModel RMSE\n",
            "5796.284659276274\n"
          ]
        }
      ]
    },
    {
      "cell_type": "markdown",
      "metadata": {
        "id": "vmaBPxD_R11G"
      },
      "source": [
        "- - -\n",
        "## Task 6. PRESENT YOUR SOLUTION "
      ]
    },
    {
      "cell_type": "markdown",
      "metadata": {
        "id": "zI7TNvZsR11H"
      },
      "source": [
        "Now that you need to write a short memo of one paragraph to be read by a non-technical audience (ie. your manager/boss). Focus on answering the following: \n",
        "\n",
        "* How can you pitch your solution to this project? \n",
        "* What did you learn so far about the problem?\n",
        "* Is there any insight moving forward to improve the solution."
      ]
    },
    {
      "cell_type": "code",
      "source": [
        "print(np.mean(y_test))"
      ],
      "metadata": {
        "colab": {
          "base_uri": "https://localhost:8080/"
        },
        "id": "hHpAG8x-Jh2E",
        "outputId": "e271a0af-e743-4834-fae0-9f25b511ba8c"
      },
      "execution_count": 119,
      "outputs": [
        {
          "output_type": "stream",
          "name": "stdout",
          "text": [
            "12968.317062869404\n"
          ]
        }
      ]
    },
    {
      "cell_type": "markdown",
      "source": [
        "#Summary\n",
        "The given features of age, sex, bmi, children status, smoker status, and patient geographical region are valid indicators to predict a person's insurance bills; however, they are not very strong indicators. Even using an extremely simple machine learning algorithm with minimal data engineering, we were able to create somewhat accurate predictions resulting in RMSEs around \\$5800 when the average bill cost was around \\$13000. The mediocre end predictions could have been foreseen by the also mediocre correlation values found ealrly on in the project. In order to further improve our predictions, more data entries could be collected, more features could be gathered, and a more complicated algorithm could be used."
      ],
      "metadata": {
        "id": "APxOa9WPJ_Zk"
      }
    },
    {
      "cell_type": "markdown",
      "metadata": {
        "id": "I1vTd45lR11J"
      },
      "source": [
        "- - - \n",
        "### NEED HELP?"
      ]
    },
    {
      "cell_type": "markdown",
      "metadata": {
        "id": "ionUS2eLR11K"
      },
      "source": [
        "In case you get stuck in any step in the process, you may find some useful information from:\n",
        "\n",
        " * Consult my [slides](https://docs.google.com/presentation/d/10D1he89peAWaFgjtZlHpUzvOOAie_vIFT95htKCKgc0/edit?usp=sharing) and/or the textbook\n",
        " * Talk to the TA, they are available and there to help you during [office hour](http://bit.ly/cs4774oh)\n",
        " * Come talk to me or email me <nn4pj@virginia.edu> with subject starting \"CS4774 Assignment 1:...\".\n",
        "\n",
        "Best of luck and have fun!"
      ]
    }
  ]
}